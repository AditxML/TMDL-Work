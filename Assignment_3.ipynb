{
  "cells": [
    {
      "cell_type": "markdown",
      "metadata": {
        "id": "view-in-github",
        "colab_type": "text"
      },
      "source": [
        "<a href=\"https://colab.research.google.com/github/AditxML/TMDL2024/blob/main/Assignment_3.ipynb\" target=\"_parent\"><img src=\"https://colab.research.google.com/assets/colab-badge.svg\" alt=\"Open In Colab\"/></a>"
      ]
    },
    {
      "cell_type": "markdown",
      "id": "43554d37",
      "metadata": {
        "id": "43554d37"
      },
      "source": [
        "# Turing Machine and Deep Learning 2023\n",
        "\n",
        "## Assignment Unupervised ML\n",
        "\n",
        "This notebook is meant for you to review and reflect on the content of Lecture 3, which was mainly about unsupervised learning problems. As with last week, this notebook should not be too much quantitative work (lines of code) but keep in mind that running this notebook may take a longer time than you may be used to for python programs (*training good models take time!*)\n",
        "\n",
        "### Handing in your Assignment\n",
        "\n",
        "Git is an invaluable resource to researchers and developers, and thus for this course, all course material will be (additionally) shared on GitHub. Though there is a tiny bit of a learning curve, this is worth the effort. To hand in your assignment (applicable to all weeks):\n",
        "\n",
        "1. Create a folder called \"Week 2\" and copy this notebook and any other files or data that may be needed.\n",
        "2. Finish the notebook and commit and push regularly. Your final commit before the deadline will be graded.\n",
        "\n",
        "\n",
        "### Grading\n",
        "\n",
        "Each one of the (sub-)questions below will be graded either 0 (insufficient), 1 (sufficient) or 2 (good). If $N$ is the number of sub-questions, and $p_i$ is your score for sub-question $i$, your total grade $G$ for this assignment is:\n",
        "$$G=\\frac{1}{2 N}\\sum_{i=0}^{N}p_i$$"
      ]
    },
    {
      "cell_type": "code",
      "source": [
        "from google.colab import drive\n",
        "drive.mount('/content/drive')"
      ],
      "metadata": {
        "colab": {
          "base_uri": "https://localhost:8080/",
          "height": 304
        },
        "id": "HPgpo0aolQN1",
        "outputId": "16792b4e-a2d4-443b-c57a-c25f2e78cf92"
      },
      "id": "HPgpo0aolQN1",
      "execution_count": 4,
      "outputs": [
        {
          "output_type": "error",
          "ename": "MessageError",
          "evalue": "Error: credential propagation was unsuccessful",
          "traceback": [
            "\u001b[0;31m---------------------------------------------------------------------------\u001b[0m",
            "\u001b[0;31mMessageError\u001b[0m                              Traceback (most recent call last)",
            "\u001b[0;32m<ipython-input-4-d5df0069828e>\u001b[0m in \u001b[0;36m<cell line: 2>\u001b[0;34m()\u001b[0m\n\u001b[1;32m      1\u001b[0m \u001b[0;32mfrom\u001b[0m \u001b[0mgoogle\u001b[0m\u001b[0;34m.\u001b[0m\u001b[0mcolab\u001b[0m \u001b[0;32mimport\u001b[0m \u001b[0mdrive\u001b[0m\u001b[0;34m\u001b[0m\u001b[0;34m\u001b[0m\u001b[0m\n\u001b[0;32m----> 2\u001b[0;31m \u001b[0mdrive\u001b[0m\u001b[0;34m.\u001b[0m\u001b[0mmount\u001b[0m\u001b[0;34m(\u001b[0m\u001b[0;34m'/content/drive'\u001b[0m\u001b[0;34m)\u001b[0m\u001b[0;34m\u001b[0m\u001b[0;34m\u001b[0m\u001b[0m\n\u001b[0m",
            "\u001b[0;32m/usr/local/lib/python3.10/dist-packages/google/colab/drive.py\u001b[0m in \u001b[0;36mmount\u001b[0;34m(mountpoint, force_remount, timeout_ms, readonly)\u001b[0m\n\u001b[1;32m     98\u001b[0m \u001b[0;32mdef\u001b[0m \u001b[0mmount\u001b[0m\u001b[0;34m(\u001b[0m\u001b[0mmountpoint\u001b[0m\u001b[0;34m,\u001b[0m \u001b[0mforce_remount\u001b[0m\u001b[0;34m=\u001b[0m\u001b[0;32mFalse\u001b[0m\u001b[0;34m,\u001b[0m \u001b[0mtimeout_ms\u001b[0m\u001b[0;34m=\u001b[0m\u001b[0;36m120000\u001b[0m\u001b[0;34m,\u001b[0m \u001b[0mreadonly\u001b[0m\u001b[0;34m=\u001b[0m\u001b[0;32mFalse\u001b[0m\u001b[0;34m)\u001b[0m\u001b[0;34m:\u001b[0m\u001b[0;34m\u001b[0m\u001b[0;34m\u001b[0m\u001b[0m\n\u001b[1;32m     99\u001b[0m   \u001b[0;34m\"\"\"Mount your Google Drive at the specified mountpoint path.\"\"\"\u001b[0m\u001b[0;34m\u001b[0m\u001b[0;34m\u001b[0m\u001b[0m\n\u001b[0;32m--> 100\u001b[0;31m   return _mount(\n\u001b[0m\u001b[1;32m    101\u001b[0m       \u001b[0mmountpoint\u001b[0m\u001b[0;34m,\u001b[0m\u001b[0;34m\u001b[0m\u001b[0;34m\u001b[0m\u001b[0m\n\u001b[1;32m    102\u001b[0m       \u001b[0mforce_remount\u001b[0m\u001b[0;34m=\u001b[0m\u001b[0mforce_remount\u001b[0m\u001b[0;34m,\u001b[0m\u001b[0;34m\u001b[0m\u001b[0;34m\u001b[0m\u001b[0m\n",
            "\u001b[0;32m/usr/local/lib/python3.10/dist-packages/google/colab/drive.py\u001b[0m in \u001b[0;36m_mount\u001b[0;34m(mountpoint, force_remount, timeout_ms, ephemeral, readonly)\u001b[0m\n\u001b[1;32m    131\u001b[0m   )\n\u001b[1;32m    132\u001b[0m   \u001b[0;32mif\u001b[0m \u001b[0mephemeral\u001b[0m\u001b[0;34m:\u001b[0m\u001b[0;34m\u001b[0m\u001b[0;34m\u001b[0m\u001b[0m\n\u001b[0;32m--> 133\u001b[0;31m     _message.blocking_request(\n\u001b[0m\u001b[1;32m    134\u001b[0m         \u001b[0;34m'request_auth'\u001b[0m\u001b[0;34m,\u001b[0m \u001b[0mrequest\u001b[0m\u001b[0;34m=\u001b[0m\u001b[0;34m{\u001b[0m\u001b[0;34m'authType'\u001b[0m\u001b[0;34m:\u001b[0m \u001b[0;34m'dfs_ephemeral'\u001b[0m\u001b[0;34m}\u001b[0m\u001b[0;34m,\u001b[0m \u001b[0mtimeout_sec\u001b[0m\u001b[0;34m=\u001b[0m\u001b[0;32mNone\u001b[0m\u001b[0;34m\u001b[0m\u001b[0;34m\u001b[0m\u001b[0m\n\u001b[1;32m    135\u001b[0m     )\n",
            "\u001b[0;32m/usr/local/lib/python3.10/dist-packages/google/colab/_message.py\u001b[0m in \u001b[0;36mblocking_request\u001b[0;34m(request_type, request, timeout_sec, parent)\u001b[0m\n\u001b[1;32m    174\u001b[0m       \u001b[0mrequest_type\u001b[0m\u001b[0;34m,\u001b[0m \u001b[0mrequest\u001b[0m\u001b[0;34m,\u001b[0m \u001b[0mparent\u001b[0m\u001b[0;34m=\u001b[0m\u001b[0mparent\u001b[0m\u001b[0;34m,\u001b[0m \u001b[0mexpect_reply\u001b[0m\u001b[0;34m=\u001b[0m\u001b[0;32mTrue\u001b[0m\u001b[0;34m\u001b[0m\u001b[0;34m\u001b[0m\u001b[0m\n\u001b[1;32m    175\u001b[0m   )\n\u001b[0;32m--> 176\u001b[0;31m   \u001b[0;32mreturn\u001b[0m \u001b[0mread_reply_from_input\u001b[0m\u001b[0;34m(\u001b[0m\u001b[0mrequest_id\u001b[0m\u001b[0;34m,\u001b[0m \u001b[0mtimeout_sec\u001b[0m\u001b[0;34m)\u001b[0m\u001b[0;34m\u001b[0m\u001b[0;34m\u001b[0m\u001b[0m\n\u001b[0m",
            "\u001b[0;32m/usr/local/lib/python3.10/dist-packages/google/colab/_message.py\u001b[0m in \u001b[0;36mread_reply_from_input\u001b[0;34m(message_id, timeout_sec)\u001b[0m\n\u001b[1;32m    101\u001b[0m     ):\n\u001b[1;32m    102\u001b[0m       \u001b[0;32mif\u001b[0m \u001b[0;34m'error'\u001b[0m \u001b[0;32min\u001b[0m \u001b[0mreply\u001b[0m\u001b[0;34m:\u001b[0m\u001b[0;34m\u001b[0m\u001b[0;34m\u001b[0m\u001b[0m\n\u001b[0;32m--> 103\u001b[0;31m         \u001b[0;32mraise\u001b[0m \u001b[0mMessageError\u001b[0m\u001b[0;34m(\u001b[0m\u001b[0mreply\u001b[0m\u001b[0;34m[\u001b[0m\u001b[0;34m'error'\u001b[0m\u001b[0;34m]\u001b[0m\u001b[0;34m)\u001b[0m\u001b[0;34m\u001b[0m\u001b[0;34m\u001b[0m\u001b[0m\n\u001b[0m\u001b[1;32m    104\u001b[0m       \u001b[0;32mreturn\u001b[0m \u001b[0mreply\u001b[0m\u001b[0;34m.\u001b[0m\u001b[0mget\u001b[0m\u001b[0;34m(\u001b[0m\u001b[0;34m'data'\u001b[0m\u001b[0;34m,\u001b[0m \u001b[0;32mNone\u001b[0m\u001b[0;34m)\u001b[0m\u001b[0;34m\u001b[0m\u001b[0;34m\u001b[0m\u001b[0m\n\u001b[1;32m    105\u001b[0m \u001b[0;34m\u001b[0m\u001b[0m\n",
            "\u001b[0;31mMessageError\u001b[0m: Error: credential propagation was unsuccessful"
          ]
        }
      ]
    },
    {
      "cell_type": "code",
      "execution_count": 2,
      "id": "52fbab8b",
      "metadata": {
        "id": "52fbab8b"
      },
      "outputs": [],
      "source": [
        "# load common libraries\n",
        "import numpy as np                 # maths\n",
        "import matplotlib.pyplot as plt    # plotting\n",
        "import pandas as pd                # data manipulation\n",
        "from tqdm import tqdm              # loading bar\n",
        "from time import perf_counter      # timer"
      ]
    },
    {
      "cell_type": "markdown",
      "id": "bf4c3a0a",
      "metadata": {
        "id": "bf4c3a0a"
      },
      "source": [
        "# Q1 Loading and preprocessing data\n",
        "\n",
        "In this repository, you should find a file called `tmdb_5000_movies.csv` which is information from a subset of movies on The Movie Database."
      ]
    },
    {
      "cell_type": "markdown",
      "id": "40715541",
      "metadata": {
        "id": "40715541"
      },
      "source": [
        "### Q.1.1\n",
        "Use pandas to read in the csv file (refer to [read_csv](https://pandas.pydata.org/docs/reference/api/pandas.read_csv.html) if you're unfamiliar)."
      ]
    },
    {
      "cell_type": "code",
      "execution_count": 3,
      "id": "c10a5202",
      "metadata": {
        "colab": {
          "base_uri": "https://localhost:8080/",
          "height": 1000
        },
        "id": "c10a5202",
        "outputId": "b3a41c0c-4b66-4953-c483-c10cbb67477c"
      },
      "outputs": [
        {
          "output_type": "execute_result",
          "data": {
            "text/plain": [
              "         budget                                             genres  \\\n",
              "0     237000000  [{\"id\": 28, \"name\": \"Action\"}, {\"id\": 12, \"nam...   \n",
              "1     300000000  [{\"id\": 12, \"name\": \"Adventure\"}, {\"id\": 14, \"...   \n",
              "2     245000000  [{\"id\": 28, \"name\": \"Action\"}, {\"id\": 12, \"nam...   \n",
              "3     250000000  [{\"id\": 28, \"name\": \"Action\"}, {\"id\": 80, \"nam...   \n",
              "4     260000000  [{\"id\": 28, \"name\": \"Action\"}, {\"id\": 12, \"nam...   \n",
              "...         ...                                                ...   \n",
              "4798     220000  [{\"id\": 28, \"name\": \"Action\"}, {\"id\": 80, \"nam...   \n",
              "4799       9000  [{\"id\": 35, \"name\": \"Comedy\"}, {\"id\": 10749, \"...   \n",
              "4800          0  [{\"id\": 35, \"name\": \"Comedy\"}, {\"id\": 18, \"nam...   \n",
              "4801          0                                                 []   \n",
              "4802          0                [{\"id\": 99, \"name\": \"Documentary\"}]   \n",
              "\n",
              "                                               homepage      id  \\\n",
              "0                           http://www.avatarmovie.com/   19995   \n",
              "1          http://disney.go.com/disneypictures/pirates/     285   \n",
              "2           http://www.sonypictures.com/movies/spectre/  206647   \n",
              "3                    http://www.thedarkknightrises.com/   49026   \n",
              "4                  http://movies.disney.com/john-carter   49529   \n",
              "...                                                 ...     ...   \n",
              "4798                                                NaN    9367   \n",
              "4799                                                NaN   72766   \n",
              "4800  http://www.hallmarkchannel.com/signedsealeddel...  231617   \n",
              "4801                        http://shanghaicalling.com/  126186   \n",
              "4802                                                NaN   25975   \n",
              "\n",
              "                                               keywords original_language  \\\n",
              "0     [{\"id\": 1463, \"name\": \"culture clash\"}, {\"id\":...                en   \n",
              "1     [{\"id\": 270, \"name\": \"ocean\"}, {\"id\": 726, \"na...                en   \n",
              "2     [{\"id\": 470, \"name\": \"spy\"}, {\"id\": 818, \"name...                en   \n",
              "3     [{\"id\": 849, \"name\": \"dc comics\"}, {\"id\": 853,...                en   \n",
              "4     [{\"id\": 818, \"name\": \"based on novel\"}, {\"id\":...                en   \n",
              "...                                                 ...               ...   \n",
              "4798  [{\"id\": 5616, \"name\": \"united states\\u2013mexi...                es   \n",
              "4799                                                 []                en   \n",
              "4800  [{\"id\": 248, \"name\": \"date\"}, {\"id\": 699, \"nam...                en   \n",
              "4801                                                 []                en   \n",
              "4802  [{\"id\": 1523, \"name\": \"obsession\"}, {\"id\": 224...                en   \n",
              "\n",
              "                                original_title  \\\n",
              "0                                       Avatar   \n",
              "1     Pirates of the Caribbean: At World's End   \n",
              "2                                      Spectre   \n",
              "3                        The Dark Knight Rises   \n",
              "4                                  John Carter   \n",
              "...                                        ...   \n",
              "4798                               El Mariachi   \n",
              "4799                                 Newlyweds   \n",
              "4800                 Signed, Sealed, Delivered   \n",
              "4801                          Shanghai Calling   \n",
              "4802                         My Date with Drew   \n",
              "\n",
              "                                               overview  popularity  \\\n",
              "0     In the 22nd century, a paraplegic Marine is di...  150.437577   \n",
              "1     Captain Barbossa, long believed to be dead, ha...  139.082615   \n",
              "2     A cryptic message from Bond’s past sends him o...  107.376788   \n",
              "3     Following the death of District Attorney Harve...  112.312950   \n",
              "4     John Carter is a war-weary, former military ca...   43.926995   \n",
              "...                                                 ...         ...   \n",
              "4798  El Mariachi just wants to play his guitar and ...   14.269792   \n",
              "4799  A newlywed couple's honeymoon is upended by th...    0.642552   \n",
              "4800  \"Signed, Sealed, Delivered\" introduces a dedic...    1.444476   \n",
              "4801  When ambitious New York attorney Sam is sent t...    0.857008   \n",
              "4802  Ever since the second grade when he first saw ...    1.929883   \n",
              "\n",
              "                                   production_companies  \\\n",
              "0     [{\"name\": \"Ingenious Film Partners\", \"id\": 289...   \n",
              "1     [{\"name\": \"Walt Disney Pictures\", \"id\": 2}, {\"...   \n",
              "2     [{\"name\": \"Columbia Pictures\", \"id\": 5}, {\"nam...   \n",
              "3     [{\"name\": \"Legendary Pictures\", \"id\": 923}, {\"...   \n",
              "4           [{\"name\": \"Walt Disney Pictures\", \"id\": 2}]   \n",
              "...                                                 ...   \n",
              "4798           [{\"name\": \"Columbia Pictures\", \"id\": 5}]   \n",
              "4799                                                 []   \n",
              "4800  [{\"name\": \"Front Street Pictures\", \"id\": 3958}...   \n",
              "4801                                                 []   \n",
              "4802  [{\"name\": \"rusty bear entertainment\", \"id\": 87...   \n",
              "\n",
              "                                   production_countries release_date  \\\n",
              "0     [{\"iso_3166_1\": \"US\", \"name\": \"United States o...   2009-12-10   \n",
              "1     [{\"iso_3166_1\": \"US\", \"name\": \"United States o...   2007-05-19   \n",
              "2     [{\"iso_3166_1\": \"GB\", \"name\": \"United Kingdom\"...   2015-10-26   \n",
              "3     [{\"iso_3166_1\": \"US\", \"name\": \"United States o...   2012-07-16   \n",
              "4     [{\"iso_3166_1\": \"US\", \"name\": \"United States o...   2012-03-07   \n",
              "...                                                 ...          ...   \n",
              "4798  [{\"iso_3166_1\": \"MX\", \"name\": \"Mexico\"}, {\"iso...   1992-09-04   \n",
              "4799                                                 []   2011-12-26   \n",
              "4800  [{\"iso_3166_1\": \"US\", \"name\": \"United States o...   2013-10-13   \n",
              "4801  [{\"iso_3166_1\": \"US\", \"name\": \"United States o...   2012-05-03   \n",
              "4802  [{\"iso_3166_1\": \"US\", \"name\": \"United States o...   2005-08-05   \n",
              "\n",
              "         revenue  runtime                                   spoken_languages  \\\n",
              "0     2787965087    162.0  [{\"iso_639_1\": \"en\", \"name\": \"English\"}, {\"iso...   \n",
              "1      961000000    169.0           [{\"iso_639_1\": \"en\", \"name\": \"English\"}]   \n",
              "2      880674609    148.0  [{\"iso_639_1\": \"fr\", \"name\": \"Fran\\u00e7ais\"},...   \n",
              "3     1084939099    165.0           [{\"iso_639_1\": \"en\", \"name\": \"English\"}]   \n",
              "4      284139100    132.0           [{\"iso_639_1\": \"en\", \"name\": \"English\"}]   \n",
              "...          ...      ...                                                ...   \n",
              "4798     2040920     81.0      [{\"iso_639_1\": \"es\", \"name\": \"Espa\\u00f1ol\"}]   \n",
              "4799           0     85.0                                                 []   \n",
              "4800           0    120.0           [{\"iso_639_1\": \"en\", \"name\": \"English\"}]   \n",
              "4801           0     98.0           [{\"iso_639_1\": \"en\", \"name\": \"English\"}]   \n",
              "4802           0     90.0           [{\"iso_639_1\": \"en\", \"name\": \"English\"}]   \n",
              "\n",
              "        status                                            tagline  \\\n",
              "0     Released                        Enter the World of Pandora.   \n",
              "1     Released     At the end of the world, the adventure begins.   \n",
              "2     Released                              A Plan No One Escapes   \n",
              "3     Released                                    The Legend Ends   \n",
              "4     Released               Lost in our world, found in another.   \n",
              "...        ...                                                ...   \n",
              "4798  Released  He didn't come looking for trouble, but troubl...   \n",
              "4799  Released  A newlywed couple's honeymoon is upended by th...   \n",
              "4800  Released                                                NaN   \n",
              "4801  Released                           A New Yorker in Shanghai   \n",
              "4802  Released                                                NaN   \n",
              "\n",
              "                                         title  vote_average  vote_count  \n",
              "0                                       Avatar           7.2       11800  \n",
              "1     Pirates of the Caribbean: At World's End           6.9        4500  \n",
              "2                                      Spectre           6.3        4466  \n",
              "3                        The Dark Knight Rises           7.6        9106  \n",
              "4                                  John Carter           6.1        2124  \n",
              "...                                        ...           ...         ...  \n",
              "4798                               El Mariachi           6.6         238  \n",
              "4799                                 Newlyweds           5.9           5  \n",
              "4800                 Signed, Sealed, Delivered           7.0           6  \n",
              "4801                          Shanghai Calling           5.7           7  \n",
              "4802                         My Date with Drew           6.3          16  \n",
              "\n",
              "[4803 rows x 20 columns]"
            ],
            "text/html": [
              "\n",
              "  <div id=\"df-669a7d8b-1636-41d5-b401-602168ae1ff8\" class=\"colab-df-container\">\n",
              "    <div>\n",
              "<style scoped>\n",
              "    .dataframe tbody tr th:only-of-type {\n",
              "        vertical-align: middle;\n",
              "    }\n",
              "\n",
              "    .dataframe tbody tr th {\n",
              "        vertical-align: top;\n",
              "    }\n",
              "\n",
              "    .dataframe thead th {\n",
              "        text-align: right;\n",
              "    }\n",
              "</style>\n",
              "<table border=\"1\" class=\"dataframe\">\n",
              "  <thead>\n",
              "    <tr style=\"text-align: right;\">\n",
              "      <th></th>\n",
              "      <th>budget</th>\n",
              "      <th>genres</th>\n",
              "      <th>homepage</th>\n",
              "      <th>id</th>\n",
              "      <th>keywords</th>\n",
              "      <th>original_language</th>\n",
              "      <th>original_title</th>\n",
              "      <th>overview</th>\n",
              "      <th>popularity</th>\n",
              "      <th>production_companies</th>\n",
              "      <th>production_countries</th>\n",
              "      <th>release_date</th>\n",
              "      <th>revenue</th>\n",
              "      <th>runtime</th>\n",
              "      <th>spoken_languages</th>\n",
              "      <th>status</th>\n",
              "      <th>tagline</th>\n",
              "      <th>title</th>\n",
              "      <th>vote_average</th>\n",
              "      <th>vote_count</th>\n",
              "    </tr>\n",
              "  </thead>\n",
              "  <tbody>\n",
              "    <tr>\n",
              "      <th>0</th>\n",
              "      <td>237000000</td>\n",
              "      <td>[{\"id\": 28, \"name\": \"Action\"}, {\"id\": 12, \"nam...</td>\n",
              "      <td>http://www.avatarmovie.com/</td>\n",
              "      <td>19995</td>\n",
              "      <td>[{\"id\": 1463, \"name\": \"culture clash\"}, {\"id\":...</td>\n",
              "      <td>en</td>\n",
              "      <td>Avatar</td>\n",
              "      <td>In the 22nd century, a paraplegic Marine is di...</td>\n",
              "      <td>150.437577</td>\n",
              "      <td>[{\"name\": \"Ingenious Film Partners\", \"id\": 289...</td>\n",
              "      <td>[{\"iso_3166_1\": \"US\", \"name\": \"United States o...</td>\n",
              "      <td>2009-12-10</td>\n",
              "      <td>2787965087</td>\n",
              "      <td>162.0</td>\n",
              "      <td>[{\"iso_639_1\": \"en\", \"name\": \"English\"}, {\"iso...</td>\n",
              "      <td>Released</td>\n",
              "      <td>Enter the World of Pandora.</td>\n",
              "      <td>Avatar</td>\n",
              "      <td>7.2</td>\n",
              "      <td>11800</td>\n",
              "    </tr>\n",
              "    <tr>\n",
              "      <th>1</th>\n",
              "      <td>300000000</td>\n",
              "      <td>[{\"id\": 12, \"name\": \"Adventure\"}, {\"id\": 14, \"...</td>\n",
              "      <td>http://disney.go.com/disneypictures/pirates/</td>\n",
              "      <td>285</td>\n",
              "      <td>[{\"id\": 270, \"name\": \"ocean\"}, {\"id\": 726, \"na...</td>\n",
              "      <td>en</td>\n",
              "      <td>Pirates of the Caribbean: At World's End</td>\n",
              "      <td>Captain Barbossa, long believed to be dead, ha...</td>\n",
              "      <td>139.082615</td>\n",
              "      <td>[{\"name\": \"Walt Disney Pictures\", \"id\": 2}, {\"...</td>\n",
              "      <td>[{\"iso_3166_1\": \"US\", \"name\": \"United States o...</td>\n",
              "      <td>2007-05-19</td>\n",
              "      <td>961000000</td>\n",
              "      <td>169.0</td>\n",
              "      <td>[{\"iso_639_1\": \"en\", \"name\": \"English\"}]</td>\n",
              "      <td>Released</td>\n",
              "      <td>At the end of the world, the adventure begins.</td>\n",
              "      <td>Pirates of the Caribbean: At World's End</td>\n",
              "      <td>6.9</td>\n",
              "      <td>4500</td>\n",
              "    </tr>\n",
              "    <tr>\n",
              "      <th>2</th>\n",
              "      <td>245000000</td>\n",
              "      <td>[{\"id\": 28, \"name\": \"Action\"}, {\"id\": 12, \"nam...</td>\n",
              "      <td>http://www.sonypictures.com/movies/spectre/</td>\n",
              "      <td>206647</td>\n",
              "      <td>[{\"id\": 470, \"name\": \"spy\"}, {\"id\": 818, \"name...</td>\n",
              "      <td>en</td>\n",
              "      <td>Spectre</td>\n",
              "      <td>A cryptic message from Bond’s past sends him o...</td>\n",
              "      <td>107.376788</td>\n",
              "      <td>[{\"name\": \"Columbia Pictures\", \"id\": 5}, {\"nam...</td>\n",
              "      <td>[{\"iso_3166_1\": \"GB\", \"name\": \"United Kingdom\"...</td>\n",
              "      <td>2015-10-26</td>\n",
              "      <td>880674609</td>\n",
              "      <td>148.0</td>\n",
              "      <td>[{\"iso_639_1\": \"fr\", \"name\": \"Fran\\u00e7ais\"},...</td>\n",
              "      <td>Released</td>\n",
              "      <td>A Plan No One Escapes</td>\n",
              "      <td>Spectre</td>\n",
              "      <td>6.3</td>\n",
              "      <td>4466</td>\n",
              "    </tr>\n",
              "    <tr>\n",
              "      <th>3</th>\n",
              "      <td>250000000</td>\n",
              "      <td>[{\"id\": 28, \"name\": \"Action\"}, {\"id\": 80, \"nam...</td>\n",
              "      <td>http://www.thedarkknightrises.com/</td>\n",
              "      <td>49026</td>\n",
              "      <td>[{\"id\": 849, \"name\": \"dc comics\"}, {\"id\": 853,...</td>\n",
              "      <td>en</td>\n",
              "      <td>The Dark Knight Rises</td>\n",
              "      <td>Following the death of District Attorney Harve...</td>\n",
              "      <td>112.312950</td>\n",
              "      <td>[{\"name\": \"Legendary Pictures\", \"id\": 923}, {\"...</td>\n",
              "      <td>[{\"iso_3166_1\": \"US\", \"name\": \"United States o...</td>\n",
              "      <td>2012-07-16</td>\n",
              "      <td>1084939099</td>\n",
              "      <td>165.0</td>\n",
              "      <td>[{\"iso_639_1\": \"en\", \"name\": \"English\"}]</td>\n",
              "      <td>Released</td>\n",
              "      <td>The Legend Ends</td>\n",
              "      <td>The Dark Knight Rises</td>\n",
              "      <td>7.6</td>\n",
              "      <td>9106</td>\n",
              "    </tr>\n",
              "    <tr>\n",
              "      <th>4</th>\n",
              "      <td>260000000</td>\n",
              "      <td>[{\"id\": 28, \"name\": \"Action\"}, {\"id\": 12, \"nam...</td>\n",
              "      <td>http://movies.disney.com/john-carter</td>\n",
              "      <td>49529</td>\n",
              "      <td>[{\"id\": 818, \"name\": \"based on novel\"}, {\"id\":...</td>\n",
              "      <td>en</td>\n",
              "      <td>John Carter</td>\n",
              "      <td>John Carter is a war-weary, former military ca...</td>\n",
              "      <td>43.926995</td>\n",
              "      <td>[{\"name\": \"Walt Disney Pictures\", \"id\": 2}]</td>\n",
              "      <td>[{\"iso_3166_1\": \"US\", \"name\": \"United States o...</td>\n",
              "      <td>2012-03-07</td>\n",
              "      <td>284139100</td>\n",
              "      <td>132.0</td>\n",
              "      <td>[{\"iso_639_1\": \"en\", \"name\": \"English\"}]</td>\n",
              "      <td>Released</td>\n",
              "      <td>Lost in our world, found in another.</td>\n",
              "      <td>John Carter</td>\n",
              "      <td>6.1</td>\n",
              "      <td>2124</td>\n",
              "    </tr>\n",
              "    <tr>\n",
              "      <th>...</th>\n",
              "      <td>...</td>\n",
              "      <td>...</td>\n",
              "      <td>...</td>\n",
              "      <td>...</td>\n",
              "      <td>...</td>\n",
              "      <td>...</td>\n",
              "      <td>...</td>\n",
              "      <td>...</td>\n",
              "      <td>...</td>\n",
              "      <td>...</td>\n",
              "      <td>...</td>\n",
              "      <td>...</td>\n",
              "      <td>...</td>\n",
              "      <td>...</td>\n",
              "      <td>...</td>\n",
              "      <td>...</td>\n",
              "      <td>...</td>\n",
              "      <td>...</td>\n",
              "      <td>...</td>\n",
              "      <td>...</td>\n",
              "    </tr>\n",
              "    <tr>\n",
              "      <th>4798</th>\n",
              "      <td>220000</td>\n",
              "      <td>[{\"id\": 28, \"name\": \"Action\"}, {\"id\": 80, \"nam...</td>\n",
              "      <td>NaN</td>\n",
              "      <td>9367</td>\n",
              "      <td>[{\"id\": 5616, \"name\": \"united states\\u2013mexi...</td>\n",
              "      <td>es</td>\n",
              "      <td>El Mariachi</td>\n",
              "      <td>El Mariachi just wants to play his guitar and ...</td>\n",
              "      <td>14.269792</td>\n",
              "      <td>[{\"name\": \"Columbia Pictures\", \"id\": 5}]</td>\n",
              "      <td>[{\"iso_3166_1\": \"MX\", \"name\": \"Mexico\"}, {\"iso...</td>\n",
              "      <td>1992-09-04</td>\n",
              "      <td>2040920</td>\n",
              "      <td>81.0</td>\n",
              "      <td>[{\"iso_639_1\": \"es\", \"name\": \"Espa\\u00f1ol\"}]</td>\n",
              "      <td>Released</td>\n",
              "      <td>He didn't come looking for trouble, but troubl...</td>\n",
              "      <td>El Mariachi</td>\n",
              "      <td>6.6</td>\n",
              "      <td>238</td>\n",
              "    </tr>\n",
              "    <tr>\n",
              "      <th>4799</th>\n",
              "      <td>9000</td>\n",
              "      <td>[{\"id\": 35, \"name\": \"Comedy\"}, {\"id\": 10749, \"...</td>\n",
              "      <td>NaN</td>\n",
              "      <td>72766</td>\n",
              "      <td>[]</td>\n",
              "      <td>en</td>\n",
              "      <td>Newlyweds</td>\n",
              "      <td>A newlywed couple's honeymoon is upended by th...</td>\n",
              "      <td>0.642552</td>\n",
              "      <td>[]</td>\n",
              "      <td>[]</td>\n",
              "      <td>2011-12-26</td>\n",
              "      <td>0</td>\n",
              "      <td>85.0</td>\n",
              "      <td>[]</td>\n",
              "      <td>Released</td>\n",
              "      <td>A newlywed couple's honeymoon is upended by th...</td>\n",
              "      <td>Newlyweds</td>\n",
              "      <td>5.9</td>\n",
              "      <td>5</td>\n",
              "    </tr>\n",
              "    <tr>\n",
              "      <th>4800</th>\n",
              "      <td>0</td>\n",
              "      <td>[{\"id\": 35, \"name\": \"Comedy\"}, {\"id\": 18, \"nam...</td>\n",
              "      <td>http://www.hallmarkchannel.com/signedsealeddel...</td>\n",
              "      <td>231617</td>\n",
              "      <td>[{\"id\": 248, \"name\": \"date\"}, {\"id\": 699, \"nam...</td>\n",
              "      <td>en</td>\n",
              "      <td>Signed, Sealed, Delivered</td>\n",
              "      <td>\"Signed, Sealed, Delivered\" introduces a dedic...</td>\n",
              "      <td>1.444476</td>\n",
              "      <td>[{\"name\": \"Front Street Pictures\", \"id\": 3958}...</td>\n",
              "      <td>[{\"iso_3166_1\": \"US\", \"name\": \"United States o...</td>\n",
              "      <td>2013-10-13</td>\n",
              "      <td>0</td>\n",
              "      <td>120.0</td>\n",
              "      <td>[{\"iso_639_1\": \"en\", \"name\": \"English\"}]</td>\n",
              "      <td>Released</td>\n",
              "      <td>NaN</td>\n",
              "      <td>Signed, Sealed, Delivered</td>\n",
              "      <td>7.0</td>\n",
              "      <td>6</td>\n",
              "    </tr>\n",
              "    <tr>\n",
              "      <th>4801</th>\n",
              "      <td>0</td>\n",
              "      <td>[]</td>\n",
              "      <td>http://shanghaicalling.com/</td>\n",
              "      <td>126186</td>\n",
              "      <td>[]</td>\n",
              "      <td>en</td>\n",
              "      <td>Shanghai Calling</td>\n",
              "      <td>When ambitious New York attorney Sam is sent t...</td>\n",
              "      <td>0.857008</td>\n",
              "      <td>[]</td>\n",
              "      <td>[{\"iso_3166_1\": \"US\", \"name\": \"United States o...</td>\n",
              "      <td>2012-05-03</td>\n",
              "      <td>0</td>\n",
              "      <td>98.0</td>\n",
              "      <td>[{\"iso_639_1\": \"en\", \"name\": \"English\"}]</td>\n",
              "      <td>Released</td>\n",
              "      <td>A New Yorker in Shanghai</td>\n",
              "      <td>Shanghai Calling</td>\n",
              "      <td>5.7</td>\n",
              "      <td>7</td>\n",
              "    </tr>\n",
              "    <tr>\n",
              "      <th>4802</th>\n",
              "      <td>0</td>\n",
              "      <td>[{\"id\": 99, \"name\": \"Documentary\"}]</td>\n",
              "      <td>NaN</td>\n",
              "      <td>25975</td>\n",
              "      <td>[{\"id\": 1523, \"name\": \"obsession\"}, {\"id\": 224...</td>\n",
              "      <td>en</td>\n",
              "      <td>My Date with Drew</td>\n",
              "      <td>Ever since the second grade when he first saw ...</td>\n",
              "      <td>1.929883</td>\n",
              "      <td>[{\"name\": \"rusty bear entertainment\", \"id\": 87...</td>\n",
              "      <td>[{\"iso_3166_1\": \"US\", \"name\": \"United States o...</td>\n",
              "      <td>2005-08-05</td>\n",
              "      <td>0</td>\n",
              "      <td>90.0</td>\n",
              "      <td>[{\"iso_639_1\": \"en\", \"name\": \"English\"}]</td>\n",
              "      <td>Released</td>\n",
              "      <td>NaN</td>\n",
              "      <td>My Date with Drew</td>\n",
              "      <td>6.3</td>\n",
              "      <td>16</td>\n",
              "    </tr>\n",
              "  </tbody>\n",
              "</table>\n",
              "<p>4803 rows × 20 columns</p>\n",
              "</div>\n",
              "    <div class=\"colab-df-buttons\">\n",
              "\n",
              "  <div class=\"colab-df-container\">\n",
              "    <button class=\"colab-df-convert\" onclick=\"convertToInteractive('df-669a7d8b-1636-41d5-b401-602168ae1ff8')\"\n",
              "            title=\"Convert this dataframe to an interactive table.\"\n",
              "            style=\"display:none;\">\n",
              "\n",
              "  <svg xmlns=\"http://www.w3.org/2000/svg\" height=\"24px\" viewBox=\"0 -960 960 960\">\n",
              "    <path d=\"M120-120v-720h720v720H120Zm60-500h600v-160H180v160Zm220 220h160v-160H400v160Zm0 220h160v-160H400v160ZM180-400h160v-160H180v160Zm440 0h160v-160H620v160ZM180-180h160v-160H180v160Zm440 0h160v-160H620v160Z\"/>\n",
              "  </svg>\n",
              "    </button>\n",
              "\n",
              "  <style>\n",
              "    .colab-df-container {\n",
              "      display:flex;\n",
              "      gap: 12px;\n",
              "    }\n",
              "\n",
              "    .colab-df-convert {\n",
              "      background-color: #E8F0FE;\n",
              "      border: none;\n",
              "      border-radius: 50%;\n",
              "      cursor: pointer;\n",
              "      display: none;\n",
              "      fill: #1967D2;\n",
              "      height: 32px;\n",
              "      padding: 0 0 0 0;\n",
              "      width: 32px;\n",
              "    }\n",
              "\n",
              "    .colab-df-convert:hover {\n",
              "      background-color: #E2EBFA;\n",
              "      box-shadow: 0px 1px 2px rgba(60, 64, 67, 0.3), 0px 1px 3px 1px rgba(60, 64, 67, 0.15);\n",
              "      fill: #174EA6;\n",
              "    }\n",
              "\n",
              "    .colab-df-buttons div {\n",
              "      margin-bottom: 4px;\n",
              "    }\n",
              "\n",
              "    [theme=dark] .colab-df-convert {\n",
              "      background-color: #3B4455;\n",
              "      fill: #D2E3FC;\n",
              "    }\n",
              "\n",
              "    [theme=dark] .colab-df-convert:hover {\n",
              "      background-color: #434B5C;\n",
              "      box-shadow: 0px 1px 3px 1px rgba(0, 0, 0, 0.15);\n",
              "      filter: drop-shadow(0px 1px 2px rgba(0, 0, 0, 0.3));\n",
              "      fill: #FFFFFF;\n",
              "    }\n",
              "  </style>\n",
              "\n",
              "    <script>\n",
              "      const buttonEl =\n",
              "        document.querySelector('#df-669a7d8b-1636-41d5-b401-602168ae1ff8 button.colab-df-convert');\n",
              "      buttonEl.style.display =\n",
              "        google.colab.kernel.accessAllowed ? 'block' : 'none';\n",
              "\n",
              "      async function convertToInteractive(key) {\n",
              "        const element = document.querySelector('#df-669a7d8b-1636-41d5-b401-602168ae1ff8');\n",
              "        const dataTable =\n",
              "          await google.colab.kernel.invokeFunction('convertToInteractive',\n",
              "                                                    [key], {});\n",
              "        if (!dataTable) return;\n",
              "\n",
              "        const docLinkHtml = 'Like what you see? Visit the ' +\n",
              "          '<a target=\"_blank\" href=https://colab.research.google.com/notebooks/data_table.ipynb>data table notebook</a>'\n",
              "          + ' to learn more about interactive tables.';\n",
              "        element.innerHTML = '';\n",
              "        dataTable['output_type'] = 'display_data';\n",
              "        await google.colab.output.renderOutput(dataTable, element);\n",
              "        const docLink = document.createElement('div');\n",
              "        docLink.innerHTML = docLinkHtml;\n",
              "        element.appendChild(docLink);\n",
              "      }\n",
              "    </script>\n",
              "  </div>\n",
              "\n",
              "\n",
              "<div id=\"df-f88db090-6c66-451c-93a4-1696ed64e465\">\n",
              "  <button class=\"colab-df-quickchart\" onclick=\"quickchart('df-f88db090-6c66-451c-93a4-1696ed64e465')\"\n",
              "            title=\"Suggest charts\"\n",
              "            style=\"display:none;\">\n",
              "\n",
              "<svg xmlns=\"http://www.w3.org/2000/svg\" height=\"24px\"viewBox=\"0 0 24 24\"\n",
              "     width=\"24px\">\n",
              "    <g>\n",
              "        <path d=\"M19 3H5c-1.1 0-2 .9-2 2v14c0 1.1.9 2 2 2h14c1.1 0 2-.9 2-2V5c0-1.1-.9-2-2-2zM9 17H7v-7h2v7zm4 0h-2V7h2v10zm4 0h-2v-4h2v4z\"/>\n",
              "    </g>\n",
              "</svg>\n",
              "  </button>\n",
              "\n",
              "<style>\n",
              "  .colab-df-quickchart {\n",
              "      --bg-color: #E8F0FE;\n",
              "      --fill-color: #1967D2;\n",
              "      --hover-bg-color: #E2EBFA;\n",
              "      --hover-fill-color: #174EA6;\n",
              "      --disabled-fill-color: #AAA;\n",
              "      --disabled-bg-color: #DDD;\n",
              "  }\n",
              "\n",
              "  [theme=dark] .colab-df-quickchart {\n",
              "      --bg-color: #3B4455;\n",
              "      --fill-color: #D2E3FC;\n",
              "      --hover-bg-color: #434B5C;\n",
              "      --hover-fill-color: #FFFFFF;\n",
              "      --disabled-bg-color: #3B4455;\n",
              "      --disabled-fill-color: #666;\n",
              "  }\n",
              "\n",
              "  .colab-df-quickchart {\n",
              "    background-color: var(--bg-color);\n",
              "    border: none;\n",
              "    border-radius: 50%;\n",
              "    cursor: pointer;\n",
              "    display: none;\n",
              "    fill: var(--fill-color);\n",
              "    height: 32px;\n",
              "    padding: 0;\n",
              "    width: 32px;\n",
              "  }\n",
              "\n",
              "  .colab-df-quickchart:hover {\n",
              "    background-color: var(--hover-bg-color);\n",
              "    box-shadow: 0 1px 2px rgba(60, 64, 67, 0.3), 0 1px 3px 1px rgba(60, 64, 67, 0.15);\n",
              "    fill: var(--button-hover-fill-color);\n",
              "  }\n",
              "\n",
              "  .colab-df-quickchart-complete:disabled,\n",
              "  .colab-df-quickchart-complete:disabled:hover {\n",
              "    background-color: var(--disabled-bg-color);\n",
              "    fill: var(--disabled-fill-color);\n",
              "    box-shadow: none;\n",
              "  }\n",
              "\n",
              "  .colab-df-spinner {\n",
              "    border: 2px solid var(--fill-color);\n",
              "    border-color: transparent;\n",
              "    border-bottom-color: var(--fill-color);\n",
              "    animation:\n",
              "      spin 1s steps(1) infinite;\n",
              "  }\n",
              "\n",
              "  @keyframes spin {\n",
              "    0% {\n",
              "      border-color: transparent;\n",
              "      border-bottom-color: var(--fill-color);\n",
              "      border-left-color: var(--fill-color);\n",
              "    }\n",
              "    20% {\n",
              "      border-color: transparent;\n",
              "      border-left-color: var(--fill-color);\n",
              "      border-top-color: var(--fill-color);\n",
              "    }\n",
              "    30% {\n",
              "      border-color: transparent;\n",
              "      border-left-color: var(--fill-color);\n",
              "      border-top-color: var(--fill-color);\n",
              "      border-right-color: var(--fill-color);\n",
              "    }\n",
              "    40% {\n",
              "      border-color: transparent;\n",
              "      border-right-color: var(--fill-color);\n",
              "      border-top-color: var(--fill-color);\n",
              "    }\n",
              "    60% {\n",
              "      border-color: transparent;\n",
              "      border-right-color: var(--fill-color);\n",
              "    }\n",
              "    80% {\n",
              "      border-color: transparent;\n",
              "      border-right-color: var(--fill-color);\n",
              "      border-bottom-color: var(--fill-color);\n",
              "    }\n",
              "    90% {\n",
              "      border-color: transparent;\n",
              "      border-bottom-color: var(--fill-color);\n",
              "    }\n",
              "  }\n",
              "</style>\n",
              "\n",
              "  <script>\n",
              "    async function quickchart(key) {\n",
              "      const quickchartButtonEl =\n",
              "        document.querySelector('#' + key + ' button');\n",
              "      quickchartButtonEl.disabled = true;  // To prevent multiple clicks.\n",
              "      quickchartButtonEl.classList.add('colab-df-spinner');\n",
              "      try {\n",
              "        const charts = await google.colab.kernel.invokeFunction(\n",
              "            'suggestCharts', [key], {});\n",
              "      } catch (error) {\n",
              "        console.error('Error during call to suggestCharts:', error);\n",
              "      }\n",
              "      quickchartButtonEl.classList.remove('colab-df-spinner');\n",
              "      quickchartButtonEl.classList.add('colab-df-quickchart-complete');\n",
              "    }\n",
              "    (() => {\n",
              "      let quickchartButtonEl =\n",
              "        document.querySelector('#df-f88db090-6c66-451c-93a4-1696ed64e465 button');\n",
              "      quickchartButtonEl.style.display =\n",
              "        google.colab.kernel.accessAllowed ? 'block' : 'none';\n",
              "    })();\n",
              "  </script>\n",
              "</div>\n",
              "    </div>\n",
              "  </div>\n"
            ],
            "application/vnd.google.colaboratory.intrinsic+json": {
              "type": "dataframe",
              "variable_name": "df",
              "summary": "{\n  \"name\": \"df\",\n  \"rows\": 4803,\n  \"fields\": [\n    {\n      \"column\": \"budget\",\n      \"properties\": {\n        \"dtype\": \"number\",\n        \"std\": 40722391,\n        \"min\": 0,\n        \"max\": 380000000,\n        \"num_unique_values\": 436,\n        \"samples\": [\n          439000,\n          68000000,\n          700000\n        ],\n        \"semantic_type\": \"\",\n        \"description\": \"\"\n      }\n    },\n    {\n      \"column\": \"genres\",\n      \"properties\": {\n        \"dtype\": \"category\",\n        \"num_unique_values\": 1175,\n        \"samples\": [\n          \"[{\\\"id\\\": 14, \\\"name\\\": \\\"Fantasy\\\"}, {\\\"id\\\": 12, \\\"name\\\": \\\"Adventure\\\"}, {\\\"id\\\": 16, \\\"name\\\": \\\"Animation\\\"}]\",\n          \"[{\\\"id\\\": 28, \\\"name\\\": \\\"Action\\\"}, {\\\"id\\\": 35, \\\"name\\\": \\\"Comedy\\\"}, {\\\"id\\\": 80, \\\"name\\\": \\\"Crime\\\"}, {\\\"id\\\": 18, \\\"name\\\": \\\"Drama\\\"}]\",\n          \"[{\\\"id\\\": 12, \\\"name\\\": \\\"Adventure\\\"}, {\\\"id\\\": 16, \\\"name\\\": \\\"Animation\\\"}, {\\\"id\\\": 10751, \\\"name\\\": \\\"Family\\\"}, {\\\"id\\\": 14, \\\"name\\\": \\\"Fantasy\\\"}, {\\\"id\\\": 878, \\\"name\\\": \\\"Science Fiction\\\"}]\"\n        ],\n        \"semantic_type\": \"\",\n        \"description\": \"\"\n      }\n    },\n    {\n      \"column\": \"homepage\",\n      \"properties\": {\n        \"dtype\": \"category\",\n        \"num_unique_values\": 1691,\n        \"samples\": [\n          \"https://www.warnerbros.com/running-scared\",\n          \"http://www.51birchstreet.com/index.php\",\n          \"http://movies2.foxjapan.com/glee/\"\n        ],\n        \"semantic_type\": \"\",\n        \"description\": \"\"\n      }\n    },\n    {\n      \"column\": \"id\",\n      \"properties\": {\n        \"dtype\": \"number\",\n        \"std\": 88694,\n        \"min\": 5,\n        \"max\": 459488,\n        \"num_unique_values\": 4803,\n        \"samples\": [\n          8427,\n          13006,\n          18041\n        ],\n        \"semantic_type\": \"\",\n        \"description\": \"\"\n      }\n    },\n    {\n      \"column\": \"keywords\",\n      \"properties\": {\n        \"dtype\": \"string\",\n        \"num_unique_values\": 4222,\n        \"samples\": [\n          \"[{\\\"id\\\": 782, \\\"name\\\": \\\"assassin\\\"}, {\\\"id\\\": 1872, \\\"name\\\": \\\"loss of father\\\"}, {\\\"id\\\": 2908, \\\"name\\\": \\\"secret society\\\"}, {\\\"id\\\": 3045, \\\"name\\\": \\\"mission of murder\\\"}, {\\\"id\\\": 9748, \\\"name\\\": \\\"revenge\\\"}]\",\n          \"[{\\\"id\\\": 2987, \\\"name\\\": \\\"gang war\\\"}, {\\\"id\\\": 4942, \\\"name\\\": \\\"victim of murder\\\"}, {\\\"id\\\": 5332, \\\"name\\\": \\\"greed\\\"}, {\\\"id\\\": 6062, \\\"name\\\": \\\"hostility\\\"}, {\\\"id\\\": 156212, \\\"name\\\": \\\"spaghetti western\\\"}]\",\n          \"[{\\\"id\\\": 703, \\\"name\\\": \\\"detective\\\"}, {\\\"id\\\": 1299, \\\"name\\\": \\\"monster\\\"}, {\\\"id\\\": 6101, \\\"name\\\": \\\"engine\\\"}, {\\\"id\\\": 10988, \\\"name\\\": \\\"based on tv series\\\"}, {\\\"id\\\": 15162, \\\"name\\\": \\\"dog\\\"}]\"\n        ],\n        \"semantic_type\": \"\",\n        \"description\": \"\"\n      }\n    },\n    {\n      \"column\": \"original_language\",\n      \"properties\": {\n        \"dtype\": \"category\",\n        \"num_unique_values\": 37,\n        \"samples\": [\n          \"xx\",\n          \"ta\",\n          \"es\"\n        ],\n        \"semantic_type\": \"\",\n        \"description\": \"\"\n      }\n    },\n    {\n      \"column\": \"original_title\",\n      \"properties\": {\n        \"dtype\": \"string\",\n        \"num_unique_values\": 4801,\n        \"samples\": [\n          \"I Spy\",\n          \"Love Letters\",\n          \"Sleepover\"\n        ],\n        \"semantic_type\": \"\",\n        \"description\": \"\"\n      }\n    },\n    {\n      \"column\": \"overview\",\n      \"properties\": {\n        \"dtype\": \"string\",\n        \"num_unique_values\": 4800,\n        \"samples\": [\n          \"When the Switchblade, the most sophisticated prototype stealth fighter created yet, is stolen from the U.S. government, one of the United States' top spies, Alex Scott, is called to action. What he doesn't expect is to get teamed up with a cocky civilian, World Class Boxing Champion Kelly Robinson, on a dangerous top secret espionage mission. Their assignment: using equal parts skill and humor, catch Arnold Gundars, one of the world's most successful arms dealers.\",\n          \"When \\\"street smart\\\" rapper Christopher \\\"C-Note\\\" Hawkins (Big Boi) applies for a membership to all-white Carolina Pines Country Club, the establishment's proprietors are hardly ready to oblige him.\",\n          \"As their first year of high school looms ahead, best friends Julie, Hannah, Yancy and Farrah have one last summer sleepover. Little do they know they're about to embark on the adventure of a lifetime. Desperate to shed their nerdy status, they take part in a night-long scavenger hunt that pits them against their popular archrivals. Everything under the sun goes on -- from taking Yancy's father's car to sneaking into nightclubs!\"\n        ],\n        \"semantic_type\": \"\",\n        \"description\": \"\"\n      }\n    },\n    {\n      \"column\": \"popularity\",\n      \"properties\": {\n        \"dtype\": \"number\",\n        \"std\": 31.816649749537774,\n        \"min\": 0.0,\n        \"max\": 875.581305,\n        \"num_unique_values\": 4802,\n        \"samples\": [\n          13.267631,\n          0.010909,\n          5.842299\n        ],\n        \"semantic_type\": \"\",\n        \"description\": \"\"\n      }\n    },\n    {\n      \"column\": \"production_companies\",\n      \"properties\": {\n        \"dtype\": \"string\",\n        \"num_unique_values\": 3697,\n        \"samples\": [\n          \"[{\\\"name\\\": \\\"Paramount Pictures\\\", \\\"id\\\": 4}, {\\\"name\\\": \\\"Cherry Alley Productions\\\", \\\"id\\\": 2232}]\",\n          \"[{\\\"name\\\": \\\"Twentieth Century Fox Film Corporation\\\", \\\"id\\\": 306}, {\\\"name\\\": \\\"Dune Entertainment\\\", \\\"id\\\": 444}, {\\\"name\\\": \\\"Regency Enterprises\\\", \\\"id\\\": 508}, {\\\"name\\\": \\\"Guy Walks into a Bar Productions\\\", \\\"id\\\": 2645}, {\\\"name\\\": \\\"Deep River Productions\\\", \\\"id\\\": 2646}, {\\\"name\\\": \\\"Friendly Films (II)\\\", \\\"id\\\": 81136}]\",\n          \"[{\\\"name\\\": \\\"Twentieth Century Fox Film Corporation\\\", \\\"id\\\": 306}]\"\n        ],\n        \"semantic_type\": \"\",\n        \"description\": \"\"\n      }\n    },\n    {\n      \"column\": \"production_countries\",\n      \"properties\": {\n        \"dtype\": \"category\",\n        \"num_unique_values\": 469,\n        \"samples\": [\n          \"[{\\\"iso_3166_1\\\": \\\"ES\\\", \\\"name\\\": \\\"Spain\\\"}, {\\\"iso_3166_1\\\": \\\"GB\\\", \\\"name\\\": \\\"United Kingdom\\\"}, {\\\"iso_3166_1\\\": \\\"US\\\", \\\"name\\\": \\\"United States of America\\\"}, {\\\"iso_3166_1\\\": \\\"FR\\\", \\\"name\\\": \\\"France\\\"}]\",\n          \"[{\\\"iso_3166_1\\\": \\\"US\\\", \\\"name\\\": \\\"United States of America\\\"}, {\\\"iso_3166_1\\\": \\\"CA\\\", \\\"name\\\": \\\"Canada\\\"}, {\\\"iso_3166_1\\\": \\\"DE\\\", \\\"name\\\": \\\"Germany\\\"}]\",\n          \"[{\\\"iso_3166_1\\\": \\\"DE\\\", \\\"name\\\": \\\"Germany\\\"}, {\\\"iso_3166_1\\\": \\\"ES\\\", \\\"name\\\": \\\"Spain\\\"}, {\\\"iso_3166_1\\\": \\\"GB\\\", \\\"name\\\": \\\"United Kingdom\\\"}, {\\\"iso_3166_1\\\": \\\"US\\\", \\\"name\\\": \\\"United States of America\\\"}]\"\n        ],\n        \"semantic_type\": \"\",\n        \"description\": \"\"\n      }\n    },\n    {\n      \"column\": \"release_date\",\n      \"properties\": {\n        \"dtype\": \"object\",\n        \"num_unique_values\": 3280,\n        \"samples\": [\n          \"1966-10-16\",\n          \"1987-07-31\",\n          \"1993-09-23\"\n        ],\n        \"semantic_type\": \"\",\n        \"description\": \"\"\n      }\n    },\n    {\n      \"column\": \"revenue\",\n      \"properties\": {\n        \"dtype\": \"number\",\n        \"std\": 162857100,\n        \"min\": 0,\n        \"max\": 2787965087,\n        \"num_unique_values\": 3297,\n        \"samples\": [\n          11833696,\n          10462500,\n          17807569\n        ],\n        \"semantic_type\": \"\",\n        \"description\": \"\"\n      }\n    },\n    {\n      \"column\": \"runtime\",\n      \"properties\": {\n        \"dtype\": \"number\",\n        \"std\": 22.611934588844232,\n        \"min\": 0.0,\n        \"max\": 338.0,\n        \"num_unique_values\": 156,\n        \"samples\": [\n          74.0,\n          85.0,\n          170.0\n        ],\n        \"semantic_type\": \"\",\n        \"description\": \"\"\n      }\n    },\n    {\n      \"column\": \"spoken_languages\",\n      \"properties\": {\n        \"dtype\": \"category\",\n        \"num_unique_values\": 544,\n        \"samples\": [\n          \"[{\\\"iso_639_1\\\": \\\"es\\\", \\\"name\\\": \\\"Espa\\\\u00f1ol\\\"}, {\\\"iso_639_1\\\": \\\"en\\\", \\\"name\\\": \\\"English\\\"}, {\\\"iso_639_1\\\": \\\"fr\\\", \\\"name\\\": \\\"Fran\\\\u00e7ais\\\"}, {\\\"iso_639_1\\\": \\\"hu\\\", \\\"name\\\": \\\"Magyar\\\"}]\",\n          \"[{\\\"iso_639_1\\\": \\\"en\\\", \\\"name\\\": \\\"English\\\"}, {\\\"iso_639_1\\\": \\\"it\\\", \\\"name\\\": \\\"Italiano\\\"}, {\\\"iso_639_1\\\": \\\"pt\\\", \\\"name\\\": \\\"Portugu\\\\u00eas\\\"}]\",\n          \"[{\\\"iso_639_1\\\": \\\"de\\\", \\\"name\\\": \\\"Deutsch\\\"}, {\\\"iso_639_1\\\": \\\"it\\\", \\\"name\\\": \\\"Italiano\\\"}, {\\\"iso_639_1\\\": \\\"la\\\", \\\"name\\\": \\\"Latin\\\"}, {\\\"iso_639_1\\\": \\\"pl\\\", \\\"name\\\": \\\"Polski\\\"}]\"\n        ],\n        \"semantic_type\": \"\",\n        \"description\": \"\"\n      }\n    },\n    {\n      \"column\": \"status\",\n      \"properties\": {\n        \"dtype\": \"category\",\n        \"num_unique_values\": 3,\n        \"samples\": [\n          \"Released\",\n          \"Post Production\",\n          \"Rumored\"\n        ],\n        \"semantic_type\": \"\",\n        \"description\": \"\"\n      }\n    },\n    {\n      \"column\": \"tagline\",\n      \"properties\": {\n        \"dtype\": \"string\",\n        \"num_unique_values\": 3944,\n        \"samples\": [\n          \"When you're 17, every day is war.\",\n          \"An Unspeakable Horror. A Creative Genius. Captured For Eternity.\",\n          \"May the schwartz be with you\"\n        ],\n        \"semantic_type\": \"\",\n        \"description\": \"\"\n      }\n    },\n    {\n      \"column\": \"title\",\n      \"properties\": {\n        \"dtype\": \"string\",\n        \"num_unique_values\": 4800,\n        \"samples\": [\n          \"I Spy\",\n          \"Who's Your Caddy?\",\n          \"Sleepover\"\n        ],\n        \"semantic_type\": \"\",\n        \"description\": \"\"\n      }\n    },\n    {\n      \"column\": \"vote_average\",\n      \"properties\": {\n        \"dtype\": \"number\",\n        \"std\": 1.1946121628478923,\n        \"min\": 0.0,\n        \"max\": 10.0,\n        \"num_unique_values\": 71,\n        \"samples\": [\n          5.1,\n          7.2,\n          4.0\n        ],\n        \"semantic_type\": \"\",\n        \"description\": \"\"\n      }\n    },\n    {\n      \"column\": \"vote_count\",\n      \"properties\": {\n        \"dtype\": \"number\",\n        \"std\": 1234,\n        \"min\": 0,\n        \"max\": 13752,\n        \"num_unique_values\": 1609,\n        \"samples\": [\n          7604,\n          3428,\n          225\n        ],\n        \"semantic_type\": \"\",\n        \"description\": \"\"\n      }\n    }\n  ]\n}"
            }
          },
          "metadata": {},
          "execution_count": 3
        }
      ],
      "source": [
        "df = pd.read_csv(\"/content/tmdb_5000_movies TMDL 2024.csv\")\n",
        "df"
      ]
    },
    {
      "cell_type": "markdown",
      "id": "1915f1f7",
      "metadata": {
        "id": "1915f1f7"
      },
      "source": [
        "View information about the dataset including datatypes and null values"
      ]
    },
    {
      "cell_type": "code",
      "execution_count": 5,
      "id": "c173d066",
      "metadata": {
        "colab": {
          "base_uri": "https://localhost:8080/"
        },
        "id": "c173d066",
        "outputId": "50893817-cff6-4aa9-d9d3-425546348898"
      },
      "outputs": [
        {
          "output_type": "stream",
          "name": "stdout",
          "text": [
            "<class 'pandas.core.frame.DataFrame'>\n",
            "RangeIndex: 4803 entries, 0 to 4802\n",
            "Data columns (total 20 columns):\n",
            " #   Column                Non-Null Count  Dtype  \n",
            "---  ------                --------------  -----  \n",
            " 0   budget                4803 non-null   int64  \n",
            " 1   genres                4803 non-null   object \n",
            " 2   homepage              1712 non-null   object \n",
            " 3   id                    4803 non-null   int64  \n",
            " 4   keywords              4803 non-null   object \n",
            " 5   original_language     4803 non-null   object \n",
            " 6   original_title        4803 non-null   object \n",
            " 7   overview              4800 non-null   object \n",
            " 8   popularity            4803 non-null   float64\n",
            " 9   production_companies  4803 non-null   object \n",
            " 10  production_countries  4803 non-null   object \n",
            " 11  release_date          4802 non-null   object \n",
            " 12  revenue               4803 non-null   int64  \n",
            " 13  runtime               4801 non-null   float64\n",
            " 14  spoken_languages      4803 non-null   object \n",
            " 15  status                4803 non-null   object \n",
            " 16  tagline               3959 non-null   object \n",
            " 17  title                 4803 non-null   object \n",
            " 18  vote_average          4803 non-null   float64\n",
            " 19  vote_count            4803 non-null   int64  \n",
            "dtypes: float64(3), int64(4), object(13)\n",
            "memory usage: 750.6+ KB\n"
          ]
        }
      ],
      "source": [
        "df.info()"
      ]
    },
    {
      "cell_type": "markdown",
      "id": "4e64a24f",
      "metadata": {
        "id": "4e64a24f"
      },
      "source": [
        "**Q.1.1.2** What columns have null values above? How would you be able to estimate the missing values?"
      ]
    },
    {
      "cell_type": "markdown",
      "id": "2660fe51",
      "metadata": {
        "id": "2660fe51"
      },
      "source": [
        "homepage, release_date, runtime, tagline"
      ]
    },
    {
      "cell_type": "markdown",
      "id": "83863820",
      "metadata": {
        "id": "83863820"
      },
      "source": [
        "### Q1.2\n",
        "For this notebook, we're only interested in a few columns, specifically title, overview and genres. Set df to only contain those columns."
      ]
    },
    {
      "cell_type": "code",
      "execution_count": 8,
      "id": "4e3f0439",
      "metadata": {
        "colab": {
          "base_uri": "https://localhost:8080/"
        },
        "id": "4e3f0439",
        "outputId": "ecee382a-6211-4e95-bb59-942f725aa010"
      },
      "outputs": [
        {
          "output_type": "stream",
          "name": "stdout",
          "text": [
            "<class 'pandas.core.frame.DataFrame'>\n",
            "RangeIndex: 4803 entries, 0 to 4802\n",
            "Data columns (total 3 columns):\n",
            " #   Column    Non-Null Count  Dtype \n",
            "---  ------    --------------  ----- \n",
            " 0   title     4803 non-null   object\n",
            " 1   overview  4800 non-null   object\n",
            " 2   genres    4803 non-null   object\n",
            "dtypes: object(3)\n",
            "memory usage: 112.7+ KB\n"
          ]
        }
      ],
      "source": [
        "df = df[['title', 'overview', 'genres']]\n",
        "df.info() # print out df info to verify"
      ]
    },
    {
      "cell_type": "markdown",
      "id": "b596e86b",
      "metadata": {
        "id": "b596e86b"
      },
      "source": [
        "### Q1.3\n",
        "We see that some movies do not have an overview. Drop them from the table and reset the index (set `drop=True`)."
      ]
    },
    {
      "cell_type": "code",
      "execution_count": 9,
      "id": "a06e4f6a",
      "metadata": {
        "id": "a06e4f6a"
      },
      "outputs": [],
      "source": [
        "df = df.dropna() # drop na values\n",
        "df = df.reset_index(drop = True) # reset index"
      ]
    },
    {
      "cell_type": "markdown",
      "id": "759df3a2",
      "metadata": {
        "id": "759df3a2"
      },
      "source": [
        "# Q2 One-hot encodings\n",
        "The following code processes the genres (which you see above are list of dictionaries) and encodes them into one-hot labels.\n",
        "\n",
        "Remember, since we cannot do maths on text strings, we must change these words to numbers. Here, we create one-hot encodings for the genres. Assume we have three genres $[G_1, G_2, G_3]$. If a movie $M_1$ is tagged with genre $G_1$, the encoding is $[1,0,0]$. If another movie $M_2$ is tagged with $G2$, the encoding becomes $[0,1,0]$. Other encodings are possible as well, but one-hot encoding quite common and useful for many other tasks. In this case, if a movie is tagged with more than one genre, we'll just take a random one and encode that into a one-hot label.\n",
        "\n",
        "### Q2.1 Processing genres\n",
        "\n",
        "Finish the following code that processes genres into one-hot encodings."
      ]
    },
    {
      "cell_type": "code",
      "execution_count": 10,
      "id": "dba05feb",
      "metadata": {
        "colab": {
          "base_uri": "https://localhost:8080/",
          "height": 614
        },
        "id": "dba05feb",
        "outputId": "e333fd74-c0bf-4165-f1c1-805396c7c8e6"
      },
      "outputs": [
        {
          "output_type": "stream",
          "name": "stderr",
          "text": [
            "100%|██████████| 4800/4800 [00:00<00:00, 24232.80it/s]\n"
          ]
        },
        {
          "output_type": "execute_result",
          "data": {
            "text/plain": [
              "                                         title  \\\n",
              "0                                       Avatar   \n",
              "1     Pirates of the Caribbean: At World's End   \n",
              "2                                      Spectre   \n",
              "3                        The Dark Knight Rises   \n",
              "4                                  John Carter   \n",
              "...                                        ...   \n",
              "4795                               El Mariachi   \n",
              "4796                                 Newlyweds   \n",
              "4797                 Signed, Sealed, Delivered   \n",
              "4798                          Shanghai Calling   \n",
              "4799                         My Date with Drew   \n",
              "\n",
              "                                               overview  \\\n",
              "0     In the 22nd century, a paraplegic Marine is di...   \n",
              "1     Captain Barbossa, long believed to be dead, ha...   \n",
              "2     A cryptic message from Bond’s past sends him o...   \n",
              "3     Following the death of District Attorney Harve...   \n",
              "4     John Carter is a war-weary, former military ca...   \n",
              "...                                                 ...   \n",
              "4795  El Mariachi just wants to play his guitar and ...   \n",
              "4796  A newlywed couple's honeymoon is upended by th...   \n",
              "4797  \"Signed, Sealed, Delivered\" introduces a dedic...   \n",
              "4798  When ambitious New York attorney Sam is sent t...   \n",
              "4799  Ever since the second grade when he first saw ...   \n",
              "\n",
              "                                                 genres  proc_genres  \\\n",
              "0     [{\"id\": 28, \"name\": \"Action\"}, {\"id\": 12, \"nam...       Action   \n",
              "1     [{\"id\": 12, \"name\": \"Adventure\"}, {\"id\": 14, \"...      Fantasy   \n",
              "2     [{\"id\": 28, \"name\": \"Action\"}, {\"id\": 12, \"nam...       Action   \n",
              "3     [{\"id\": 28, \"name\": \"Action\"}, {\"id\": 80, \"nam...     Thriller   \n",
              "4     [{\"id\": 28, \"name\": \"Action\"}, {\"id\": 12, \"nam...    Adventure   \n",
              "...                                                 ...          ...   \n",
              "4795  [{\"id\": 28, \"name\": \"Action\"}, {\"id\": 80, \"nam...        Crime   \n",
              "4796  [{\"id\": 35, \"name\": \"Comedy\"}, {\"id\": 10749, \"...       Comedy   \n",
              "4797  [{\"id\": 35, \"name\": \"Comedy\"}, {\"id\": 18, \"nam...     TV Movie   \n",
              "4798                                                 []      Unknown   \n",
              "4799                [{\"id\": 99, \"name\": \"Documentary\"}]  Documentary   \n",
              "\n",
              "                                         one_hot_genres  \n",
              "0     [1.0, 0.0, 0.0, 0.0, 0.0, 0.0, 0.0, 0.0, 0.0, ...  \n",
              "1     [0.0, 0.0, 0.0, 0.0, 0.0, 0.0, 0.0, 0.0, 1.0, ...  \n",
              "2     [1.0, 0.0, 0.0, 0.0, 0.0, 0.0, 0.0, 0.0, 0.0, ...  \n",
              "3     [0.0, 0.0, 0.0, 0.0, 0.0, 0.0, 0.0, 0.0, 0.0, ...  \n",
              "4     [0.0, 1.0, 0.0, 0.0, 0.0, 0.0, 0.0, 0.0, 0.0, ...  \n",
              "...                                                 ...  \n",
              "4795  [0.0, 0.0, 0.0, 0.0, 1.0, 0.0, 0.0, 0.0, 0.0, ...  \n",
              "4796  [0.0, 0.0, 0.0, 1.0, 0.0, 0.0, 0.0, 0.0, 0.0, ...  \n",
              "4797  [0.0, 0.0, 0.0, 0.0, 0.0, 0.0, 0.0, 0.0, 0.0, ...  \n",
              "4798  [0.0, 0.0, 0.0, 0.0, 0.0, 0.0, 0.0, 0.0, 0.0, ...  \n",
              "4799  [0.0, 0.0, 0.0, 0.0, 0.0, 1.0, 0.0, 0.0, 0.0, ...  \n",
              "\n",
              "[4800 rows x 5 columns]"
            ],
            "text/html": [
              "\n",
              "  <div id=\"df-e3202a6b-8751-4094-a3e5-5df1266cf3d5\" class=\"colab-df-container\">\n",
              "    <div>\n",
              "<style scoped>\n",
              "    .dataframe tbody tr th:only-of-type {\n",
              "        vertical-align: middle;\n",
              "    }\n",
              "\n",
              "    .dataframe tbody tr th {\n",
              "        vertical-align: top;\n",
              "    }\n",
              "\n",
              "    .dataframe thead th {\n",
              "        text-align: right;\n",
              "    }\n",
              "</style>\n",
              "<table border=\"1\" class=\"dataframe\">\n",
              "  <thead>\n",
              "    <tr style=\"text-align: right;\">\n",
              "      <th></th>\n",
              "      <th>title</th>\n",
              "      <th>overview</th>\n",
              "      <th>genres</th>\n",
              "      <th>proc_genres</th>\n",
              "      <th>one_hot_genres</th>\n",
              "    </tr>\n",
              "  </thead>\n",
              "  <tbody>\n",
              "    <tr>\n",
              "      <th>0</th>\n",
              "      <td>Avatar</td>\n",
              "      <td>In the 22nd century, a paraplegic Marine is di...</td>\n",
              "      <td>[{\"id\": 28, \"name\": \"Action\"}, {\"id\": 12, \"nam...</td>\n",
              "      <td>Action</td>\n",
              "      <td>[1.0, 0.0, 0.0, 0.0, 0.0, 0.0, 0.0, 0.0, 0.0, ...</td>\n",
              "    </tr>\n",
              "    <tr>\n",
              "      <th>1</th>\n",
              "      <td>Pirates of the Caribbean: At World's End</td>\n",
              "      <td>Captain Barbossa, long believed to be dead, ha...</td>\n",
              "      <td>[{\"id\": 12, \"name\": \"Adventure\"}, {\"id\": 14, \"...</td>\n",
              "      <td>Fantasy</td>\n",
              "      <td>[0.0, 0.0, 0.0, 0.0, 0.0, 0.0, 0.0, 0.0, 1.0, ...</td>\n",
              "    </tr>\n",
              "    <tr>\n",
              "      <th>2</th>\n",
              "      <td>Spectre</td>\n",
              "      <td>A cryptic message from Bond’s past sends him o...</td>\n",
              "      <td>[{\"id\": 28, \"name\": \"Action\"}, {\"id\": 12, \"nam...</td>\n",
              "      <td>Action</td>\n",
              "      <td>[1.0, 0.0, 0.0, 0.0, 0.0, 0.0, 0.0, 0.0, 0.0, ...</td>\n",
              "    </tr>\n",
              "    <tr>\n",
              "      <th>3</th>\n",
              "      <td>The Dark Knight Rises</td>\n",
              "      <td>Following the death of District Attorney Harve...</td>\n",
              "      <td>[{\"id\": 28, \"name\": \"Action\"}, {\"id\": 80, \"nam...</td>\n",
              "      <td>Thriller</td>\n",
              "      <td>[0.0, 0.0, 0.0, 0.0, 0.0, 0.0, 0.0, 0.0, 0.0, ...</td>\n",
              "    </tr>\n",
              "    <tr>\n",
              "      <th>4</th>\n",
              "      <td>John Carter</td>\n",
              "      <td>John Carter is a war-weary, former military ca...</td>\n",
              "      <td>[{\"id\": 28, \"name\": \"Action\"}, {\"id\": 12, \"nam...</td>\n",
              "      <td>Adventure</td>\n",
              "      <td>[0.0, 1.0, 0.0, 0.0, 0.0, 0.0, 0.0, 0.0, 0.0, ...</td>\n",
              "    </tr>\n",
              "    <tr>\n",
              "      <th>...</th>\n",
              "      <td>...</td>\n",
              "      <td>...</td>\n",
              "      <td>...</td>\n",
              "      <td>...</td>\n",
              "      <td>...</td>\n",
              "    </tr>\n",
              "    <tr>\n",
              "      <th>4795</th>\n",
              "      <td>El Mariachi</td>\n",
              "      <td>El Mariachi just wants to play his guitar and ...</td>\n",
              "      <td>[{\"id\": 28, \"name\": \"Action\"}, {\"id\": 80, \"nam...</td>\n",
              "      <td>Crime</td>\n",
              "      <td>[0.0, 0.0, 0.0, 0.0, 1.0, 0.0, 0.0, 0.0, 0.0, ...</td>\n",
              "    </tr>\n",
              "    <tr>\n",
              "      <th>4796</th>\n",
              "      <td>Newlyweds</td>\n",
              "      <td>A newlywed couple's honeymoon is upended by th...</td>\n",
              "      <td>[{\"id\": 35, \"name\": \"Comedy\"}, {\"id\": 10749, \"...</td>\n",
              "      <td>Comedy</td>\n",
              "      <td>[0.0, 0.0, 0.0, 1.0, 0.0, 0.0, 0.0, 0.0, 0.0, ...</td>\n",
              "    </tr>\n",
              "    <tr>\n",
              "      <th>4797</th>\n",
              "      <td>Signed, Sealed, Delivered</td>\n",
              "      <td>\"Signed, Sealed, Delivered\" introduces a dedic...</td>\n",
              "      <td>[{\"id\": 35, \"name\": \"Comedy\"}, {\"id\": 18, \"nam...</td>\n",
              "      <td>TV Movie</td>\n",
              "      <td>[0.0, 0.0, 0.0, 0.0, 0.0, 0.0, 0.0, 0.0, 0.0, ...</td>\n",
              "    </tr>\n",
              "    <tr>\n",
              "      <th>4798</th>\n",
              "      <td>Shanghai Calling</td>\n",
              "      <td>When ambitious New York attorney Sam is sent t...</td>\n",
              "      <td>[]</td>\n",
              "      <td>Unknown</td>\n",
              "      <td>[0.0, 0.0, 0.0, 0.0, 0.0, 0.0, 0.0, 0.0, 0.0, ...</td>\n",
              "    </tr>\n",
              "    <tr>\n",
              "      <th>4799</th>\n",
              "      <td>My Date with Drew</td>\n",
              "      <td>Ever since the second grade when he first saw ...</td>\n",
              "      <td>[{\"id\": 99, \"name\": \"Documentary\"}]</td>\n",
              "      <td>Documentary</td>\n",
              "      <td>[0.0, 0.0, 0.0, 0.0, 0.0, 1.0, 0.0, 0.0, 0.0, ...</td>\n",
              "    </tr>\n",
              "  </tbody>\n",
              "</table>\n",
              "<p>4800 rows × 5 columns</p>\n",
              "</div>\n",
              "    <div class=\"colab-df-buttons\">\n",
              "\n",
              "  <div class=\"colab-df-container\">\n",
              "    <button class=\"colab-df-convert\" onclick=\"convertToInteractive('df-e3202a6b-8751-4094-a3e5-5df1266cf3d5')\"\n",
              "            title=\"Convert this dataframe to an interactive table.\"\n",
              "            style=\"display:none;\">\n",
              "\n",
              "  <svg xmlns=\"http://www.w3.org/2000/svg\" height=\"24px\" viewBox=\"0 -960 960 960\">\n",
              "    <path d=\"M120-120v-720h720v720H120Zm60-500h600v-160H180v160Zm220 220h160v-160H400v160Zm0 220h160v-160H400v160ZM180-400h160v-160H180v160Zm440 0h160v-160H620v160ZM180-180h160v-160H180v160Zm440 0h160v-160H620v160Z\"/>\n",
              "  </svg>\n",
              "    </button>\n",
              "\n",
              "  <style>\n",
              "    .colab-df-container {\n",
              "      display:flex;\n",
              "      gap: 12px;\n",
              "    }\n",
              "\n",
              "    .colab-df-convert {\n",
              "      background-color: #E8F0FE;\n",
              "      border: none;\n",
              "      border-radius: 50%;\n",
              "      cursor: pointer;\n",
              "      display: none;\n",
              "      fill: #1967D2;\n",
              "      height: 32px;\n",
              "      padding: 0 0 0 0;\n",
              "      width: 32px;\n",
              "    }\n",
              "\n",
              "    .colab-df-convert:hover {\n",
              "      background-color: #E2EBFA;\n",
              "      box-shadow: 0px 1px 2px rgba(60, 64, 67, 0.3), 0px 1px 3px 1px rgba(60, 64, 67, 0.15);\n",
              "      fill: #174EA6;\n",
              "    }\n",
              "\n",
              "    .colab-df-buttons div {\n",
              "      margin-bottom: 4px;\n",
              "    }\n",
              "\n",
              "    [theme=dark] .colab-df-convert {\n",
              "      background-color: #3B4455;\n",
              "      fill: #D2E3FC;\n",
              "    }\n",
              "\n",
              "    [theme=dark] .colab-df-convert:hover {\n",
              "      background-color: #434B5C;\n",
              "      box-shadow: 0px 1px 3px 1px rgba(0, 0, 0, 0.15);\n",
              "      filter: drop-shadow(0px 1px 2px rgba(0, 0, 0, 0.3));\n",
              "      fill: #FFFFFF;\n",
              "    }\n",
              "  </style>\n",
              "\n",
              "    <script>\n",
              "      const buttonEl =\n",
              "        document.querySelector('#df-e3202a6b-8751-4094-a3e5-5df1266cf3d5 button.colab-df-convert');\n",
              "      buttonEl.style.display =\n",
              "        google.colab.kernel.accessAllowed ? 'block' : 'none';\n",
              "\n",
              "      async function convertToInteractive(key) {\n",
              "        const element = document.querySelector('#df-e3202a6b-8751-4094-a3e5-5df1266cf3d5');\n",
              "        const dataTable =\n",
              "          await google.colab.kernel.invokeFunction('convertToInteractive',\n",
              "                                                    [key], {});\n",
              "        if (!dataTable) return;\n",
              "\n",
              "        const docLinkHtml = 'Like what you see? Visit the ' +\n",
              "          '<a target=\"_blank\" href=https://colab.research.google.com/notebooks/data_table.ipynb>data table notebook</a>'\n",
              "          + ' to learn more about interactive tables.';\n",
              "        element.innerHTML = '';\n",
              "        dataTable['output_type'] = 'display_data';\n",
              "        await google.colab.output.renderOutput(dataTable, element);\n",
              "        const docLink = document.createElement('div');\n",
              "        docLink.innerHTML = docLinkHtml;\n",
              "        element.appendChild(docLink);\n",
              "      }\n",
              "    </script>\n",
              "  </div>\n",
              "\n",
              "\n",
              "<div id=\"df-2026b552-7a77-4a4e-87c1-a0834cc5979a\">\n",
              "  <button class=\"colab-df-quickchart\" onclick=\"quickchart('df-2026b552-7a77-4a4e-87c1-a0834cc5979a')\"\n",
              "            title=\"Suggest charts\"\n",
              "            style=\"display:none;\">\n",
              "\n",
              "<svg xmlns=\"http://www.w3.org/2000/svg\" height=\"24px\"viewBox=\"0 0 24 24\"\n",
              "     width=\"24px\">\n",
              "    <g>\n",
              "        <path d=\"M19 3H5c-1.1 0-2 .9-2 2v14c0 1.1.9 2 2 2h14c1.1 0 2-.9 2-2V5c0-1.1-.9-2-2-2zM9 17H7v-7h2v7zm4 0h-2V7h2v10zm4 0h-2v-4h2v4z\"/>\n",
              "    </g>\n",
              "</svg>\n",
              "  </button>\n",
              "\n",
              "<style>\n",
              "  .colab-df-quickchart {\n",
              "      --bg-color: #E8F0FE;\n",
              "      --fill-color: #1967D2;\n",
              "      --hover-bg-color: #E2EBFA;\n",
              "      --hover-fill-color: #174EA6;\n",
              "      --disabled-fill-color: #AAA;\n",
              "      --disabled-bg-color: #DDD;\n",
              "  }\n",
              "\n",
              "  [theme=dark] .colab-df-quickchart {\n",
              "      --bg-color: #3B4455;\n",
              "      --fill-color: #D2E3FC;\n",
              "      --hover-bg-color: #434B5C;\n",
              "      --hover-fill-color: #FFFFFF;\n",
              "      --disabled-bg-color: #3B4455;\n",
              "      --disabled-fill-color: #666;\n",
              "  }\n",
              "\n",
              "  .colab-df-quickchart {\n",
              "    background-color: var(--bg-color);\n",
              "    border: none;\n",
              "    border-radius: 50%;\n",
              "    cursor: pointer;\n",
              "    display: none;\n",
              "    fill: var(--fill-color);\n",
              "    height: 32px;\n",
              "    padding: 0;\n",
              "    width: 32px;\n",
              "  }\n",
              "\n",
              "  .colab-df-quickchart:hover {\n",
              "    background-color: var(--hover-bg-color);\n",
              "    box-shadow: 0 1px 2px rgba(60, 64, 67, 0.3), 0 1px 3px 1px rgba(60, 64, 67, 0.15);\n",
              "    fill: var(--button-hover-fill-color);\n",
              "  }\n",
              "\n",
              "  .colab-df-quickchart-complete:disabled,\n",
              "  .colab-df-quickchart-complete:disabled:hover {\n",
              "    background-color: var(--disabled-bg-color);\n",
              "    fill: var(--disabled-fill-color);\n",
              "    box-shadow: none;\n",
              "  }\n",
              "\n",
              "  .colab-df-spinner {\n",
              "    border: 2px solid var(--fill-color);\n",
              "    border-color: transparent;\n",
              "    border-bottom-color: var(--fill-color);\n",
              "    animation:\n",
              "      spin 1s steps(1) infinite;\n",
              "  }\n",
              "\n",
              "  @keyframes spin {\n",
              "    0% {\n",
              "      border-color: transparent;\n",
              "      border-bottom-color: var(--fill-color);\n",
              "      border-left-color: var(--fill-color);\n",
              "    }\n",
              "    20% {\n",
              "      border-color: transparent;\n",
              "      border-left-color: var(--fill-color);\n",
              "      border-top-color: var(--fill-color);\n",
              "    }\n",
              "    30% {\n",
              "      border-color: transparent;\n",
              "      border-left-color: var(--fill-color);\n",
              "      border-top-color: var(--fill-color);\n",
              "      border-right-color: var(--fill-color);\n",
              "    }\n",
              "    40% {\n",
              "      border-color: transparent;\n",
              "      border-right-color: var(--fill-color);\n",
              "      border-top-color: var(--fill-color);\n",
              "    }\n",
              "    60% {\n",
              "      border-color: transparent;\n",
              "      border-right-color: var(--fill-color);\n",
              "    }\n",
              "    80% {\n",
              "      border-color: transparent;\n",
              "      border-right-color: var(--fill-color);\n",
              "      border-bottom-color: var(--fill-color);\n",
              "    }\n",
              "    90% {\n",
              "      border-color: transparent;\n",
              "      border-bottom-color: var(--fill-color);\n",
              "    }\n",
              "  }\n",
              "</style>\n",
              "\n",
              "  <script>\n",
              "    async function quickchart(key) {\n",
              "      const quickchartButtonEl =\n",
              "        document.querySelector('#' + key + ' button');\n",
              "      quickchartButtonEl.disabled = true;  // To prevent multiple clicks.\n",
              "      quickchartButtonEl.classList.add('colab-df-spinner');\n",
              "      try {\n",
              "        const charts = await google.colab.kernel.invokeFunction(\n",
              "            'suggestCharts', [key], {});\n",
              "      } catch (error) {\n",
              "        console.error('Error during call to suggestCharts:', error);\n",
              "      }\n",
              "      quickchartButtonEl.classList.remove('colab-df-spinner');\n",
              "      quickchartButtonEl.classList.add('colab-df-quickchart-complete');\n",
              "    }\n",
              "    (() => {\n",
              "      let quickchartButtonEl =\n",
              "        document.querySelector('#df-2026b552-7a77-4a4e-87c1-a0834cc5979a button');\n",
              "      quickchartButtonEl.style.display =\n",
              "        google.colab.kernel.accessAllowed ? 'block' : 'none';\n",
              "    })();\n",
              "  </script>\n",
              "</div>\n",
              "    </div>\n",
              "  </div>\n"
            ],
            "application/vnd.google.colaboratory.intrinsic+json": {
              "type": "dataframe",
              "variable_name": "df",
              "summary": "{\n  \"name\": \"df\",\n  \"rows\": 4800,\n  \"fields\": [\n    {\n      \"column\": \"title\",\n      \"properties\": {\n        \"dtype\": \"string\",\n        \"num_unique_values\": 4797,\n        \"samples\": [\n          \"Two Brothers\",\n          \"From Paris with Love\",\n          \"Walk the Line\"\n        ],\n        \"semantic_type\": \"\",\n        \"description\": \"\"\n      }\n    },\n    {\n      \"column\": \"overview\",\n      \"properties\": {\n        \"dtype\": \"string\",\n        \"num_unique_values\": 4800,\n        \"samples\": [\n          \"When the Switchblade, the most sophisticated prototype stealth fighter created yet, is stolen from the U.S. government, one of the United States' top spies, Alex Scott, is called to action. What he doesn't expect is to get teamed up with a cocky civilian, World Class Boxing Champion Kelly Robinson, on a dangerous top secret espionage mission. Their assignment: using equal parts skill and humor, catch Arnold Gundars, one of the world's most successful arms dealers.\",\n          \"When \\\"street smart\\\" rapper Christopher \\\"C-Note\\\" Hawkins (Big Boi) applies for a membership to all-white Carolina Pines Country Club, the establishment's proprietors are hardly ready to oblige him.\",\n          \"As their first year of high school looms ahead, best friends Julie, Hannah, Yancy and Farrah have one last summer sleepover. Little do they know they're about to embark on the adventure of a lifetime. Desperate to shed their nerdy status, they take part in a night-long scavenger hunt that pits them against their popular archrivals. Everything under the sun goes on -- from taking Yancy's father's car to sneaking into nightclubs!\"\n        ],\n        \"semantic_type\": \"\",\n        \"description\": \"\"\n      }\n    },\n    {\n      \"column\": \"genres\",\n      \"properties\": {\n        \"dtype\": \"category\",\n        \"num_unique_values\": 1175,\n        \"samples\": [\n          \"[{\\\"id\\\": 14, \\\"name\\\": \\\"Fantasy\\\"}, {\\\"id\\\": 12, \\\"name\\\": \\\"Adventure\\\"}, {\\\"id\\\": 16, \\\"name\\\": \\\"Animation\\\"}]\",\n          \"[{\\\"id\\\": 28, \\\"name\\\": \\\"Action\\\"}, {\\\"id\\\": 35, \\\"name\\\": \\\"Comedy\\\"}, {\\\"id\\\": 80, \\\"name\\\": \\\"Crime\\\"}, {\\\"id\\\": 18, \\\"name\\\": \\\"Drama\\\"}]\",\n          \"[{\\\"id\\\": 12, \\\"name\\\": \\\"Adventure\\\"}, {\\\"id\\\": 16, \\\"name\\\": \\\"Animation\\\"}, {\\\"id\\\": 10751, \\\"name\\\": \\\"Family\\\"}, {\\\"id\\\": 14, \\\"name\\\": \\\"Fantasy\\\"}, {\\\"id\\\": 878, \\\"name\\\": \\\"Science Fiction\\\"}]\"\n        ],\n        \"semantic_type\": \"\",\n        \"description\": \"\"\n      }\n    },\n    {\n      \"column\": \"proc_genres\",\n      \"properties\": {\n        \"dtype\": \"category\",\n        \"num_unique_values\": 21,\n        \"samples\": [\n          \"Action\",\n          \"Documentary\",\n          \"History\"\n        ],\n        \"semantic_type\": \"\",\n        \"description\": \"\"\n      }\n    },\n    {\n      \"column\": \"one_hot_genres\",\n      \"properties\": {\n        \"dtype\": \"object\",\n        \"semantic_type\": \"\",\n        \"description\": \"\"\n      }\n    }\n  ]\n}"
            }
          },
          "metadata": {},
          "execution_count": 10
        }
      ],
      "source": [
        "np.random.seed(0)\n",
        "\n",
        "def process_genre_string(gs):\n",
        "    \"\"\" Processes genres into a single item from a list\"\"\"\n",
        "    gs = eval(gs)\n",
        "    gs = [x['name'] for x in gs]\n",
        "    genre = \"Unknown\"\n",
        "    if gs:\n",
        "        genre = np.random.choice(gs) # choose random entry\n",
        "    return genre\n",
        "\n",
        "# TODO: Fill in\n",
        "def encode_labels(label, unique_labels):\n",
        "    \"\"\" Encodes text labels into a one-hot encoded list\n",
        "        with possibly more than one one-hot per list.\n",
        "        :param label: the label you want to one-hot encode\n",
        "        :unique_labels: the vocabulary\n",
        "    \"\"\"\n",
        "    #First check data type for label since following for loop is for lists so convert to list if needed\n",
        "    if not isinstance(label, list):\n",
        "        label = [label]\n",
        "    out = np.zeros(len(unique_labels))\n",
        "    for i in label:\n",
        "      out[unique_labels.index(i)] = 1\n",
        "    return out\n",
        "\n",
        "# save genres\n",
        "processed_genres = []\n",
        "for index, row in df.iterrows():\n",
        "    processed_genres.append(process_genre_string(row['genres']))\n",
        "\n",
        "# sort and remove duplicates to get vocabulary\n",
        "unique_genres = sorted(list(set(processed_genres)))\n",
        "\n",
        "# add to dataframe as new column\n",
        "df[\"proc_genres\"] = processed_genres\n",
        "\n",
        "# one-hot encode genres\n",
        "enocded_labels = []\n",
        "for index, row in tqdm(df.iterrows(), total=len(df)):\n",
        "    enocded_labels.append(encode_labels(row['proc_genres'], unique_genres))\n",
        "\n",
        "df[\"one_hot_genres\"] = enocded_labels\n",
        "df"
      ]
    },
    {
      "cell_type": "markdown",
      "id": "d17501a9",
      "metadata": {
        "id": "d17501a9"
      },
      "source": [
        "Verify that one-hot encodings are indeed as expected"
      ]
    },
    {
      "cell_type": "code",
      "execution_count": 11,
      "id": "3b64854b",
      "metadata": {
        "colab": {
          "base_uri": "https://localhost:8080/"
        },
        "id": "3b64854b",
        "outputId": "4952c972-e2d8-4a92-d03c-ff83d2627cac"
      },
      "outputs": [
        {
          "output_type": "execute_result",
          "data": {
            "text/plain": [
              "array([1., 0., 0., 0., 0., 0., 0., 0., 0., 0., 0., 0., 0., 0., 0., 0., 0.,\n",
              "       0., 0., 0., 0.])"
            ]
          },
          "metadata": {},
          "execution_count": 11
        }
      ],
      "source": [
        "df[\"one_hot_genres\"][0]"
      ]
    },
    {
      "cell_type": "markdown",
      "id": "b0a83ece",
      "metadata": {
        "id": "b0a83ece"
      },
      "source": [
        "### Q2.2 Processing Overviews\n",
        "Next, we process the overviews. First, we remove all punctuation for the sake of simplicity and change each overview to use only lowercase. Then we need to see how long the overviews are in terms of numbers of words. We can do this with a histogram.\n",
        "\n",
        "**Q2.2.1** Finish the following code"
      ]
    },
    {
      "cell_type": "code",
      "execution_count": 12,
      "id": "bfd51c53",
      "metadata": {
        "colab": {
          "base_uri": "https://localhost:8080/",
          "height": 449
        },
        "id": "bfd51c53",
        "outputId": "54b4198b-6bce-4d9e-df25-91f6269ef957"
      },
      "outputs": [
        {
          "output_type": "display_data",
          "data": {
            "text/plain": [
              "<Figure size 640x480 with 1 Axes>"
            ],
            "image/png": "[encoded data removed]"
          },
          "metadata": {}
        }
      ],
      "source": [
        "import re\n",
        "def remove_punctuation(text):\n",
        "    \"\"\" Only retains letters, numbers, underscores and whitespace \"\"\"\n",
        "    pattern = r'[^\\w\\s]'\n",
        "    return re.sub(pattern, '', text)\n",
        "\n",
        "processed_overviews = []\n",
        "\n",
        "# loop over df, remove punctuation, make words lowercase and add it to a new column\n",
        "for i in df[\"overview\"] :\n",
        "  processed_overviews.append(remove_punctuation(i).lower())\n",
        "df[\"proc_overview\"] = processed_overviews\n",
        "\n",
        "# get the word lengths of each overview and store it in a list\n",
        "overview_lens = []\n",
        "for i in df['proc_overview']:\n",
        "  overview_lens.append(len(i.split()))\n",
        "\n",
        "# for the sake of simplicity, add these values as a column to the df\n",
        "df[\"overview_len\"] = overview_lens\n",
        "plt.hist(overview_lens, bins = 175)\n",
        "plt.xlabel('Text length')\n",
        "plt.ylabel(' Frequency')\n",
        "plt.show()"
      ]
    },
    {
      "cell_type": "markdown",
      "id": "58138594",
      "metadata": {
        "id": "58138594"
      },
      "source": [
        "**Q2.2.2** What is the shortest overview? What is the longest? In the next step, we need to decide on a standard length of all overviews -- this means dropping overviews less than some value, and truncating longer ones. What length would you choose to minimize the number of movies dropped and maximize the information (words) stored in the overviews?"
      ]
    },
    {
      "cell_type": "markdown",
      "id": "3b87f1af",
      "metadata": {
        "id": "3b87f1af"
      },
      "source": [
        "a) Given that we dropped null values, the shortest corresponds to 1 word\n",
        "b) Longest is 174 words\n",
        "c) I would go for around 35 words based on the histogram\n"
      ]
    },
    {
      "cell_type": "markdown",
      "id": "54e6cb90",
      "metadata": {
        "id": "54e6cb90"
      },
      "source": [
        "### Q2.2.3\n",
        "Let's choose overviews of length 15 words. What this means is we need to discard movies that have overviews less than 15 (there are other ways of dealing with it, but this should be fine for now) and truncate the higher ones to the first 15 words."
      ]
    },
    {
      "cell_type": "code",
      "execution_count": 13,
      "id": "70854211",
      "metadata": {
        "colab": {
          "base_uri": "https://localhost:8080/",
          "height": 701
        },
        "id": "70854211",
        "outputId": "10b47fde-33c3-4dee-bf3b-19e7d8b6cebf"
      },
      "outputs": [
        {
          "output_type": "execute_result",
          "data": {
            "text/plain": [
              "                                         title  \\\n",
              "0                                       Avatar   \n",
              "1     Pirates of the Caribbean: At World's End   \n",
              "2                                      Spectre   \n",
              "3                        The Dark Knight Rises   \n",
              "4                                  John Carter   \n",
              "...                                        ...   \n",
              "4794                                    Cavite   \n",
              "4795                               El Mariachi   \n",
              "4797                 Signed, Sealed, Delivered   \n",
              "4798                          Shanghai Calling   \n",
              "4799                         My Date with Drew   \n",
              "\n",
              "                                               overview  \\\n",
              "0     In the 22nd century, a paraplegic Marine is di...   \n",
              "1     Captain Barbossa, long believed to be dead, ha...   \n",
              "2     A cryptic message from Bond’s past sends him o...   \n",
              "3     Following the death of District Attorney Harve...   \n",
              "4     John Carter is a war-weary, former military ca...   \n",
              "...                                                 ...   \n",
              "4794  Adam, a security guard, travels from Californi...   \n",
              "4795  El Mariachi just wants to play his guitar and ...   \n",
              "4797  \"Signed, Sealed, Delivered\" introduces a dedic...   \n",
              "4798  When ambitious New York attorney Sam is sent t...   \n",
              "4799  Ever since the second grade when he first saw ...   \n",
              "\n",
              "                                                 genres  proc_genres  \\\n",
              "0     [{\"id\": 28, \"name\": \"Action\"}, {\"id\": 12, \"nam...       Action   \n",
              "1     [{\"id\": 12, \"name\": \"Adventure\"}, {\"id\": 14, \"...      Fantasy   \n",
              "2     [{\"id\": 28, \"name\": \"Action\"}, {\"id\": 12, \"nam...       Action   \n",
              "3     [{\"id\": 28, \"name\": \"Action\"}, {\"id\": 80, \"nam...     Thriller   \n",
              "4     [{\"id\": 28, \"name\": \"Action\"}, {\"id\": 12, \"nam...    Adventure   \n",
              "...                                                 ...          ...   \n",
              "4794  [{\"id\": 10769, \"name\": \"Foreign\"}, {\"id\": 53, ...     Thriller   \n",
              "4795  [{\"id\": 28, \"name\": \"Action\"}, {\"id\": 80, \"nam...        Crime   \n",
              "4797  [{\"id\": 35, \"name\": \"Comedy\"}, {\"id\": 18, \"nam...     TV Movie   \n",
              "4798                                                 []      Unknown   \n",
              "4799                [{\"id\": 99, \"name\": \"Documentary\"}]  Documentary   \n",
              "\n",
              "                                         one_hot_genres  \\\n",
              "0     [1.0, 0.0, 0.0, 0.0, 0.0, 0.0, 0.0, 0.0, 0.0, ...   \n",
              "1     [0.0, 0.0, 0.0, 0.0, 0.0, 0.0, 0.0, 0.0, 1.0, ...   \n",
              "2     [1.0, 0.0, 0.0, 0.0, 0.0, 0.0, 0.0, 0.0, 0.0, ...   \n",
              "3     [0.0, 0.0, 0.0, 0.0, 0.0, 0.0, 0.0, 0.0, 0.0, ...   \n",
              "4     [0.0, 1.0, 0.0, 0.0, 0.0, 0.0, 0.0, 0.0, 0.0, ...   \n",
              "...                                                 ...   \n",
              "4794  [0.0, 0.0, 0.0, 0.0, 0.0, 0.0, 0.0, 0.0, 0.0, ...   \n",
              "4795  [0.0, 0.0, 0.0, 0.0, 1.0, 0.0, 0.0, 0.0, 0.0, ...   \n",
              "4797  [0.0, 0.0, 0.0, 0.0, 0.0, 0.0, 0.0, 0.0, 0.0, ...   \n",
              "4798  [0.0, 0.0, 0.0, 0.0, 0.0, 0.0, 0.0, 0.0, 0.0, ...   \n",
              "4799  [0.0, 0.0, 0.0, 0.0, 0.0, 1.0, 0.0, 0.0, 0.0, ...   \n",
              "\n",
              "                                          proc_overview  overview_len  \n",
              "0     [in, the, 22nd, century, a, paraplegic, marine...            28  \n",
              "1     [captain, barbossa, long, believed, to, be, de...            34  \n",
              "2     [a, cryptic, message, from, bonds, past, sends...            41  \n",
              "3     [following, the, death, of, district, attorney...            65  \n",
              "4     [john, carter, is, a, warweary, former, milita...            55  \n",
              "...                                                 ...           ...  \n",
              "4794  [adam, a, security, guard, travels, from, cali...           115  \n",
              "4795  [el, mariachi, just, wants, to, play, his, gui...            62  \n",
              "4797  [signed, sealed, delivered, introduces, a, ded...            73  \n",
              "4798  [when, ambitious, new, york, attorney, sam, is...            65  \n",
              "4799  [ever, since, the, second, grade, when, he, fi...            62  \n",
              "\n",
              "[4707 rows x 7 columns]"
            ],
            "text/html": [
              "\n",
              "  <div id=\"df-c3e3f98a-5457-447e-947e-586289c8f1bd\" class=\"colab-df-container\">\n",
              "    <div>\n",
              "<style scoped>\n",
              "    .dataframe tbody tr th:only-of-type {\n",
              "        vertical-align: middle;\n",
              "    }\n",
              "\n",
              "    .dataframe tbody tr th {\n",
              "        vertical-align: top;\n",
              "    }\n",
              "\n",
              "    .dataframe thead th {\n",
              "        text-align: right;\n",
              "    }\n",
              "</style>\n",
              "<table border=\"1\" class=\"dataframe\">\n",
              "  <thead>\n",
              "    <tr style=\"text-align: right;\">\n",
              "      <th></th>\n",
              "      <th>title</th>\n",
              "      <th>overview</th>\n",
              "      <th>genres</th>\n",
              "      <th>proc_genres</th>\n",
              "      <th>one_hot_genres</th>\n",
              "      <th>proc_overview</th>\n",
              "      <th>overview_len</th>\n",
              "    </tr>\n",
              "  </thead>\n",
              "  <tbody>\n",
              "    <tr>\n",
              "      <th>0</th>\n",
              "      <td>Avatar</td>\n",
              "      <td>In the 22nd century, a paraplegic Marine is di...</td>\n",
              "      <td>[{\"id\": 28, \"name\": \"Action\"}, {\"id\": 12, \"nam...</td>\n",
              "      <td>Action</td>\n",
              "      <td>[1.0, 0.0, 0.0, 0.0, 0.0, 0.0, 0.0, 0.0, 0.0, ...</td>\n",
              "      <td>[in, the, 22nd, century, a, paraplegic, marine...</td>\n",
              "      <td>28</td>\n",
              "    </tr>\n",
              "    <tr>\n",
              "      <th>1</th>\n",
              "      <td>Pirates of the Caribbean: At World's End</td>\n",
              "      <td>Captain Barbossa, long believed to be dead, ha...</td>\n",
              "      <td>[{\"id\": 12, \"name\": \"Adventure\"}, {\"id\": 14, \"...</td>\n",
              "      <td>Fantasy</td>\n",
              "      <td>[0.0, 0.0, 0.0, 0.0, 0.0, 0.0, 0.0, 0.0, 1.0, ...</td>\n",
              "      <td>[captain, barbossa, long, believed, to, be, de...</td>\n",
              "      <td>34</td>\n",
              "    </tr>\n",
              "    <tr>\n",
              "      <th>2</th>\n",
              "      <td>Spectre</td>\n",
              "      <td>A cryptic message from Bond’s past sends him o...</td>\n",
              "      <td>[{\"id\": 28, \"name\": \"Action\"}, {\"id\": 12, \"nam...</td>\n",
              "      <td>Action</td>\n",
              "      <td>[1.0, 0.0, 0.0, 0.0, 0.0, 0.0, 0.0, 0.0, 0.0, ...</td>\n",
              "      <td>[a, cryptic, message, from, bonds, past, sends...</td>\n",
              "      <td>41</td>\n",
              "    </tr>\n",
              "    <tr>\n",
              "      <th>3</th>\n",
              "      <td>The Dark Knight Rises</td>\n",
              "      <td>Following the death of District Attorney Harve...</td>\n",
              "      <td>[{\"id\": 28, \"name\": \"Action\"}, {\"id\": 80, \"nam...</td>\n",
              "      <td>Thriller</td>\n",
              "      <td>[0.0, 0.0, 0.0, 0.0, 0.0, 0.0, 0.0, 0.0, 0.0, ...</td>\n",
              "      <td>[following, the, death, of, district, attorney...</td>\n",
              "      <td>65</td>\n",
              "    </tr>\n",
              "    <tr>\n",
              "      <th>4</th>\n",
              "      <td>John Carter</td>\n",
              "      <td>John Carter is a war-weary, former military ca...</td>\n",
              "      <td>[{\"id\": 28, \"name\": \"Action\"}, {\"id\": 12, \"nam...</td>\n",
              "      <td>Adventure</td>\n",
              "      <td>[0.0, 1.0, 0.0, 0.0, 0.0, 0.0, 0.0, 0.0, 0.0, ...</td>\n",
              "      <td>[john, carter, is, a, warweary, former, milita...</td>\n",
              "      <td>55</td>\n",
              "    </tr>\n",
              "    <tr>\n",
              "      <th>...</th>\n",
              "      <td>...</td>\n",
              "      <td>...</td>\n",
              "      <td>...</td>\n",
              "      <td>...</td>\n",
              "      <td>...</td>\n",
              "      <td>...</td>\n",
              "      <td>...</td>\n",
              "    </tr>\n",
              "    <tr>\n",
              "      <th>4794</th>\n",
              "      <td>Cavite</td>\n",
              "      <td>Adam, a security guard, travels from Californi...</td>\n",
              "      <td>[{\"id\": 10769, \"name\": \"Foreign\"}, {\"id\": 53, ...</td>\n",
              "      <td>Thriller</td>\n",
              "      <td>[0.0, 0.0, 0.0, 0.0, 0.0, 0.0, 0.0, 0.0, 0.0, ...</td>\n",
              "      <td>[adam, a, security, guard, travels, from, cali...</td>\n",
              "      <td>115</td>\n",
              "    </tr>\n",
              "    <tr>\n",
              "      <th>4795</th>\n",
              "      <td>El Mariachi</td>\n",
              "      <td>El Mariachi just wants to play his guitar and ...</td>\n",
              "      <td>[{\"id\": 28, \"name\": \"Action\"}, {\"id\": 80, \"nam...</td>\n",
              "      <td>Crime</td>\n",
              "      <td>[0.0, 0.0, 0.0, 0.0, 1.0, 0.0, 0.0, 0.0, 0.0, ...</td>\n",
              "      <td>[el, mariachi, just, wants, to, play, his, gui...</td>\n",
              "      <td>62</td>\n",
              "    </tr>\n",
              "    <tr>\n",
              "      <th>4797</th>\n",
              "      <td>Signed, Sealed, Delivered</td>\n",
              "      <td>\"Signed, Sealed, Delivered\" introduces a dedic...</td>\n",
              "      <td>[{\"id\": 35, \"name\": \"Comedy\"}, {\"id\": 18, \"nam...</td>\n",
              "      <td>TV Movie</td>\n",
              "      <td>[0.0, 0.0, 0.0, 0.0, 0.0, 0.0, 0.0, 0.0, 0.0, ...</td>\n",
              "      <td>[signed, sealed, delivered, introduces, a, ded...</td>\n",
              "      <td>73</td>\n",
              "    </tr>\n",
              "    <tr>\n",
              "      <th>4798</th>\n",
              "      <td>Shanghai Calling</td>\n",
              "      <td>When ambitious New York attorney Sam is sent t...</td>\n",
              "      <td>[]</td>\n",
              "      <td>Unknown</td>\n",
              "      <td>[0.0, 0.0, 0.0, 0.0, 0.0, 0.0, 0.0, 0.0, 0.0, ...</td>\n",
              "      <td>[when, ambitious, new, york, attorney, sam, is...</td>\n",
              "      <td>65</td>\n",
              "    </tr>\n",
              "    <tr>\n",
              "      <th>4799</th>\n",
              "      <td>My Date with Drew</td>\n",
              "      <td>Ever since the second grade when he first saw ...</td>\n",
              "      <td>[{\"id\": 99, \"name\": \"Documentary\"}]</td>\n",
              "      <td>Documentary</td>\n",
              "      <td>[0.0, 0.0, 0.0, 0.0, 0.0, 1.0, 0.0, 0.0, 0.0, ...</td>\n",
              "      <td>[ever, since, the, second, grade, when, he, fi...</td>\n",
              "      <td>62</td>\n",
              "    </tr>\n",
              "  </tbody>\n",
              "</table>\n",
              "<p>4707 rows × 7 columns</p>\n",
              "</div>\n",
              "    <div class=\"colab-df-buttons\">\n",
              "\n",
              "  <div class=\"colab-df-container\">\n",
              "    <button class=\"colab-df-convert\" onclick=\"convertToInteractive('df-c3e3f98a-5457-447e-947e-586289c8f1bd')\"\n",
              "            title=\"Convert this dataframe to an interactive table.\"\n",
              "            style=\"display:none;\">\n",
              "\n",
              "  <svg xmlns=\"http://www.w3.org/2000/svg\" height=\"24px\" viewBox=\"0 -960 960 960\">\n",
              "    <path d=\"M120-120v-720h720v720H120Zm60-500h600v-160H180v160Zm220 220h160v-160H400v160Zm0 220h160v-160H400v160ZM180-400h160v-160H180v160Zm440 0h160v-160H620v160ZM180-180h160v-160H180v160Zm440 0h160v-160H620v160Z\"/>\n",
              "  </svg>\n",
              "    </button>\n",
              "\n",
              "  <style>\n",
              "    .colab-df-container {\n",
              "      display:flex;\n",
              "      gap: 12px;\n",
              "    }\n",
              "\n",
              "    .colab-df-convert {\n",
              "      background-color: #E8F0FE;\n",
              "      border: none;\n",
              "      border-radius: 50%;\n",
              "      cursor: pointer;\n",
              "      display: none;\n",
              "      fill: #1967D2;\n",
              "      height: 32px;\n",
              "      padding: 0 0 0 0;\n",
              "      width: 32px;\n",
              "    }\n",
              "\n",
              "    .colab-df-convert:hover {\n",
              "      background-color: #E2EBFA;\n",
              "      box-shadow: 0px 1px 2px rgba(60, 64, 67, 0.3), 0px 1px 3px 1px rgba(60, 64, 67, 0.15);\n",
              "      fill: #174EA6;\n",
              "    }\n",
              "\n",
              "    .colab-df-buttons div {\n",
              "      margin-bottom: 4px;\n",
              "    }\n",
              "\n",
              "    [theme=dark] .colab-df-convert {\n",
              "      background-color: #3B4455;\n",
              "      fill: #D2E3FC;\n",
              "    }\n",
              "\n",
              "    [theme=dark] .colab-df-convert:hover {\n",
              "      background-color: #434B5C;\n",
              "      box-shadow: 0px 1px 3px 1px rgba(0, 0, 0, 0.15);\n",
              "      filter: drop-shadow(0px 1px 2px rgba(0, 0, 0, 0.3));\n",
              "      fill: #FFFFFF;\n",
              "    }\n",
              "  </style>\n",
              "\n",
              "    <script>\n",
              "      const buttonEl =\n",
              "        document.querySelector('#df-c3e3f98a-5457-447e-947e-586289c8f1bd button.colab-df-convert');\n",
              "      buttonEl.style.display =\n",
              "        google.colab.kernel.accessAllowed ? 'block' : 'none';\n",
              "\n",
              "      async function convertToInteractive(key) {\n",
              "        const element = document.querySelector('#df-c3e3f98a-5457-447e-947e-586289c8f1bd');\n",
              "        const dataTable =\n",
              "          await google.colab.kernel.invokeFunction('convertToInteractive',\n",
              "                                                    [key], {});\n",
              "        if (!dataTable) return;\n",
              "\n",
              "        const docLinkHtml = 'Like what you see? Visit the ' +\n",
              "          '<a target=\"_blank\" href=https://colab.research.google.com/notebooks/data_table.ipynb>data table notebook</a>'\n",
              "          + ' to learn more about interactive tables.';\n",
              "        element.innerHTML = '';\n",
              "        dataTable['output_type'] = 'display_data';\n",
              "        await google.colab.output.renderOutput(dataTable, element);\n",
              "        const docLink = document.createElement('div');\n",
              "        docLink.innerHTML = docLinkHtml;\n",
              "        element.appendChild(docLink);\n",
              "      }\n",
              "    </script>\n",
              "  </div>\n",
              "\n",
              "\n",
              "<div id=\"df-5ee84f6a-b872-4867-9ec4-3e520811a105\">\n",
              "  <button class=\"colab-df-quickchart\" onclick=\"quickchart('df-5ee84f6a-b872-4867-9ec4-3e520811a105')\"\n",
              "            title=\"Suggest charts\"\n",
              "            style=\"display:none;\">\n",
              "\n",
              "<svg xmlns=\"http://www.w3.org/2000/svg\" height=\"24px\"viewBox=\"0 0 24 24\"\n",
              "     width=\"24px\">\n",
              "    <g>\n",
              "        <path d=\"M19 3H5c-1.1 0-2 .9-2 2v14c0 1.1.9 2 2 2h14c1.1 0 2-.9 2-2V5c0-1.1-.9-2-2-2zM9 17H7v-7h2v7zm4 0h-2V7h2v10zm4 0h-2v-4h2v4z\"/>\n",
              "    </g>\n",
              "</svg>\n",
              "  </button>\n",
              "\n",
              "<style>\n",
              "  .colab-df-quickchart {\n",
              "      --bg-color: #E8F0FE;\n",
              "      --fill-color: #1967D2;\n",
              "      --hover-bg-color: #E2EBFA;\n",
              "      --hover-fill-color: #174EA6;\n",
              "      --disabled-fill-color: #AAA;\n",
              "      --disabled-bg-color: #DDD;\n",
              "  }\n",
              "\n",
              "  [theme=dark] .colab-df-quickchart {\n",
              "      --bg-color: #3B4455;\n",
              "      --fill-color: #D2E3FC;\n",
              "      --hover-bg-color: #434B5C;\n",
              "      --hover-fill-color: #FFFFFF;\n",
              "      --disabled-bg-color: #3B4455;\n",
              "      --disabled-fill-color: #666;\n",
              "  }\n",
              "\n",
              "  .colab-df-quickchart {\n",
              "    background-color: var(--bg-color);\n",
              "    border: none;\n",
              "    border-radius: 50%;\n",
              "    cursor: pointer;\n",
              "    display: none;\n",
              "    fill: var(--fill-color);\n",
              "    height: 32px;\n",
              "    padding: 0;\n",
              "    width: 32px;\n",
              "  }\n",
              "\n",
              "  .colab-df-quickchart:hover {\n",
              "    background-color: var(--hover-bg-color);\n",
              "    box-shadow: 0 1px 2px rgba(60, 64, 67, 0.3), 0 1px 3px 1px rgba(60, 64, 67, 0.15);\n",
              "    fill: var(--button-hover-fill-color);\n",
              "  }\n",
              "\n",
              "  .colab-df-quickchart-complete:disabled,\n",
              "  .colab-df-quickchart-complete:disabled:hover {\n",
              "    background-color: var(--disabled-bg-color);\n",
              "    fill: var(--disabled-fill-color);\n",
              "    box-shadow: none;\n",
              "  }\n",
              "\n",
              "  .colab-df-spinner {\n",
              "    border: 2px solid var(--fill-color);\n",
              "    border-color: transparent;\n",
              "    border-bottom-color: var(--fill-color);\n",
              "    animation:\n",
              "      spin 1s steps(1) infinite;\n",
              "  }\n",
              "\n",
              "  @keyframes spin {\n",
              "    0% {\n",
              "      border-color: transparent;\n",
              "      border-bottom-color: var(--fill-color);\n",
              "      border-left-color: var(--fill-color);\n",
              "    }\n",
              "    20% {\n",
              "      border-color: transparent;\n",
              "      border-left-color: var(--fill-color);\n",
              "      border-top-color: var(--fill-color);\n",
              "    }\n",
              "    30% {\n",
              "      border-color: transparent;\n",
              "      border-left-color: var(--fill-color);\n",
              "      border-top-color: var(--fill-color);\n",
              "      border-right-color: var(--fill-color);\n",
              "    }\n",
              "    40% {\n",
              "      border-color: transparent;\n",
              "      border-right-color: var(--fill-color);\n",
              "      border-top-color: var(--fill-color);\n",
              "    }\n",
              "    60% {\n",
              "      border-color: transparent;\n",
              "      border-right-color: var(--fill-color);\n",
              "    }\n",
              "    80% {\n",
              "      border-color: transparent;\n",
              "      border-right-color: var(--fill-color);\n",
              "      border-bottom-color: var(--fill-color);\n",
              "    }\n",
              "    90% {\n",
              "      border-color: transparent;\n",
              "      border-bottom-color: var(--fill-color);\n",
              "    }\n",
              "  }\n",
              "</style>\n",
              "\n",
              "  <script>\n",
              "    async function quickchart(key) {\n",
              "      const quickchartButtonEl =\n",
              "        document.querySelector('#' + key + ' button');\n",
              "      quickchartButtonEl.disabled = true;  // To prevent multiple clicks.\n",
              "      quickchartButtonEl.classList.add('colab-df-spinner');\n",
              "      try {\n",
              "        const charts = await google.colab.kernel.invokeFunction(\n",
              "            'suggestCharts', [key], {});\n",
              "      } catch (error) {\n",
              "        console.error('Error during call to suggestCharts:', error);\n",
              "      }\n",
              "      quickchartButtonEl.classList.remove('colab-df-spinner');\n",
              "      quickchartButtonEl.classList.add('colab-df-quickchart-complete');\n",
              "    }\n",
              "    (() => {\n",
              "      let quickchartButtonEl =\n",
              "        document.querySelector('#df-5ee84f6a-b872-4867-9ec4-3e520811a105 button');\n",
              "      quickchartButtonEl.style.display =\n",
              "        google.colab.kernel.accessAllowed ? 'block' : 'none';\n",
              "    })();\n",
              "  </script>\n",
              "</div>\n",
              "    </div>\n",
              "  </div>\n"
            ],
            "application/vnd.google.colaboratory.intrinsic+json": {
              "type": "dataframe",
              "variable_name": "df",
              "summary": "{\n  \"name\": \"df\",\n  \"rows\": 4707,\n  \"fields\": [\n    {\n      \"column\": \"title\",\n      \"properties\": {\n        \"dtype\": \"string\",\n        \"num_unique_values\": 4704,\n        \"samples\": [\n          \"A Dog's Breakfast\",\n          \"The Chorus\",\n          \"Water for Elephants\"\n        ],\n        \"semantic_type\": \"\",\n        \"description\": \"\"\n      }\n    },\n    {\n      \"column\": \"overview\",\n      \"properties\": {\n        \"dtype\": \"string\",\n        \"num_unique_values\": 4707,\n        \"samples\": [\n          \"When Jay and Annie first got together, their romantic connection was intense \\u2013 but ten years and two kids later, the flame of their love needs a spark.  To kick things up a notch, they decide \\u2013 why not? \\u2013 to make a video of themselves trying out every position in The Joy of Sex in one marathon three-hour session.  It seems like a great idea \\u2013 until they discover that their most private video is no longer private.  With their reputations on the line, they know they\\u2019re just one click away from being laid bare to the world... but as their race to reclaim their video leads to a night they'll never forget, they'll find that their video will expose even more than they bargained for.\",\n          \"Forensic psychologist Alex Cross travels to North Carolina and teams with escaped kidnap victim Kate McTiernan to hunt down \\\"Casanova,\\\" a serial killer who abducts strong-willed women and forces them to submit to his demands. The trail leads to Los Angeles, where the duo discovers that the psychopath may not be working alone.\",\n          \"Tilen (18), an attractive high school student, swears to be faithful forever in the hope that his girlfriend will let him sleep with her. Suddenly, a sequence of tragic events turns his world upside down. He starts to believe he is under a spell which could put his life in jeopardy, which prevents him from having a relationship with Sara (18), his one true love. He finally succeeds to get his life back on the right track with the help of his best friend Zeljko, a mysterious fortune-teller, and the power of love.\"\n        ],\n        \"semantic_type\": \"\",\n        \"description\": \"\"\n      }\n    },\n    {\n      \"column\": \"genres\",\n      \"properties\": {\n        \"dtype\": \"category\",\n        \"num_unique_values\": 1165,\n        \"samples\": [\n          \"[{\\\"id\\\": 35, \\\"name\\\": \\\"Comedy\\\"}, {\\\"id\\\": 9648, \\\"name\\\": \\\"Mystery\\\"}, {\\\"id\\\": 53, \\\"name\\\": \\\"Thriller\\\"}]\",\n          \"[{\\\"id\\\": 14, \\\"name\\\": \\\"Fantasy\\\"}, {\\\"id\\\": 28, \\\"name\\\": \\\"Action\\\"}, {\\\"id\\\": 12, \\\"name\\\": \\\"Adventure\\\"}, {\\\"id\\\": 16, \\\"name\\\": \\\"Animation\\\"}, {\\\"id\\\": 35, \\\"name\\\": \\\"Comedy\\\"}, {\\\"id\\\": 10751, \\\"name\\\": \\\"Family\\\"}]\",\n          \"[{\\\"id\\\": 14, \\\"name\\\": \\\"Fantasy\\\"}, {\\\"id\\\": 28, \\\"name\\\": \\\"Action\\\"}, {\\\"id\\\": 878, \\\"name\\\": \\\"Science Fiction\\\"}, {\\\"id\\\": 53, \\\"name\\\": \\\"Thriller\\\"}, {\\\"id\\\": 27, \\\"name\\\": \\\"Horror\\\"}]\"\n        ],\n        \"semantic_type\": \"\",\n        \"description\": \"\"\n      }\n    },\n    {\n      \"column\": \"proc_genres\",\n      \"properties\": {\n        \"dtype\": \"category\",\n        \"num_unique_values\": 21,\n        \"samples\": [\n          \"Action\",\n          \"Documentary\",\n          \"History\"\n        ],\n        \"semantic_type\": \"\",\n        \"description\": \"\"\n      }\n    },\n    {\n      \"column\": \"one_hot_genres\",\n      \"properties\": {\n        \"dtype\": \"object\",\n        \"semantic_type\": \"\",\n        \"description\": \"\"\n      }\n    },\n    {\n      \"column\": \"proc_overview\",\n      \"properties\": {\n        \"dtype\": \"object\",\n        \"semantic_type\": \"\",\n        \"description\": \"\"\n      }\n    },\n    {\n      \"column\": \"overview_len\",\n      \"properties\": {\n        \"dtype\": \"number\",\n        \"std\": 27,\n        \"min\": 15,\n        \"max\": 175,\n        \"num_unique_values\": 154,\n        \"samples\": [\n          109,\n          112,\n          131\n        ],\n        \"semantic_type\": \"\",\n        \"description\": \"\"\n      }\n    }\n  ]\n}"
            }
          },
          "metadata": {},
          "execution_count": 13
        }
      ],
      "source": [
        "token_len = 15 # number of words\n",
        "# only select rows where overview len is more than or equal to token_len\n",
        "df = df[df['overview_len'] >= 15]\n",
        "\n",
        "# split each proc_overview into a list of words, select the first token_len words,\n",
        "# and add the list of words back into df[\"proc_overview\"]\n",
        "for index, row in df.iterrows():\n",
        "    if row['overview_len'] >= token_len:\n",
        "        df.at[index, 'proc_overview'] = row['proc_overview'].split()[:token_len]\n",
        "\n",
        "# print to verify\n",
        "df"
      ]
    },
    {
      "cell_type": "markdown",
      "id": "26e092dd",
      "metadata": {
        "id": "26e092dd"
      },
      "source": [
        "### Q2.2.3 Finding the vocabulary length\n",
        "\n",
        "In order to one-hot encode words, we need to find how many words there are in total, just like in the case of genres. Get all the words, remove duplicates, and sort. Find and print the length of your vocabulary."
      ]
    },
    {
      "cell_type": "code",
      "execution_count": 14,
      "id": "a71a750b",
      "metadata": {
        "colab": {
          "base_uri": "https://localhost:8080/"
        },
        "id": "a71a750b",
        "outputId": "318aa175-6b85-41e7-9ffb-da830e78268d"
      },
      "outputs": [
        {
          "output_type": "stream",
          "name": "stdout",
          "text": [
            "12493\n"
          ]
        }
      ],
      "source": [
        "# hint: store all words for all movies in a set, change it to a list and sort\n",
        "unique = set()\n",
        "for overview in df['proc_overview']:\n",
        " unique.update(overview)\n",
        "vocab_len = len(unique)\n",
        "print(vocab_len)"
      ]
    },
    {
      "cell_type": "markdown",
      "id": "f276b825",
      "metadata": {
        "id": "f276b825"
      },
      "source": [
        "### Q2.2.4 Encoding the labels\n",
        "\n",
        "In the case of genres, we one-hot encoded the outputs by taking a single random genre. However, an alternative method is to add up the one-hot encodings to form some kind of histogram. For example, if we have an overview \"a brown dog\", and our vocab is \\[a brown, big, cabbage, dog, goat, cow, turkey\\], the one-hot vector would be \\[1,1,0,0,1,0,0,0\\]. If our overview is \"a big brown dog\", the one-hot vector would be \\[1,1,1,0,1,0,0,0\\]. If our overview is \"a big big brown dog\", the one-hot vector would be \\[1,1,2,0,1,0,0,0\\]. You can use the `encode_labels` function that you defined earlier."
      ]
    },
    {
      "cell_type": "code",
      "execution_count": 15,
      "id": "d212192f",
      "metadata": {
        "colab": {
          "base_uri": "https://localhost:8080/"
        },
        "id": "d212192f",
        "outputId": "0701e3aa-26f9-4b90-981c-c05d9e302588"
      },
      "outputs": [
        {
          "output_type": "stream",
          "name": "stdout",
          "text": [
            "{'dingan', 'snobbish', 'mathematician', 'exultance', 'swindling', 'highly', 'level', 'poet', 'felon', 'salmon', 'clerk', 'millionaire', 'exchange', 'melba', 'pokerplaying', 'ape', 'mcmasters', 'isolation', 'shipwrecked', 'cal', 'dinners', 'hold', 'moron', 'laden', 'however', 'chat', 'ripley', '5', 'both', 'insists', 'gina', 'sheldon', 'cassady', 'cabbieturnedchauffeur', 'mater', 'cousin', 'ruffles', 'charge', 'programmers', 'hong', 'placesthe', 'francisco', 'vanish', 'entangled', 'matthews', 'bought', 'encryption', 'hunted', 'auctioneer', 'longhidden', 'price', 'quigley', 'divine', 'nobbs', 'selfdetermined', 'puppetmaker', 'lesson', 'duchovny', 'kuwait', 'teenage', 'trailer', 'skywalker', 'ec', 'assaulted', 'actual', 'melman', 'hitmen', 'jacques', 'lifes', 'allowing', 'abbott', 'caul', 'brazilian', 'carrying', 'faces', 'navorski', 'spoiled', 'said', 'eroding', 'perpetrators', 'four', 'juliet', 'presentation', 'moves', 'werner', 'hugely', 'racecar', 'mistakenly', 'rust', 'scatter', 'documented', 'unleashes', 'neal', 'paco', 'die', 'date', 'goa', 'lincolns', 'head', 'thirteenth', 'olden', 'guitarist', '50th', 'gordonlevitt', 'mood', 'mumbai', 'athletic', 'undead', 'quill', 'chain', 'harrison', 'loudest', 'tiffany', 'shoeshiner', 'links', 'aspergers', 'poetry', 'archetypical', 'approaching', 'kind', 'rampage', 'marsden', 'flood', 'maneating', 'about', 'james', 'burglar', 'dhampir', 'blocks', 'mccormick', 'jolted', 'over', 'diggs', 'perilous', 'rare', '18thcentury', 'pedlar', 'methodical', 'hubbies', 'g', 'cutthroat', 'ira', 'downspiral', 'phd', 'firm', 'scourge', 'creator', 'willing', 'guitar', 'explorer', 'latenight', 'praised', 'hardcore', 'godfather', 'proper', 'naked', 'mothers', 'daydreams', 'iron', 'duke', 'works', 'men', 'stumbled', 'invades', 'comment', 'hustler', 'francesca', 'hardedged', 'physically', '43', 'vampirehunters', 'embarked', 'malik', 'been', 'standoff', 'mansion', 'todd', 'smalltime', 'predating', 'show', 'proving', 'tudeski', 'stopmotion', 'know', 'sketch', 'barnabas', 'bug', 'chronic', 'proprietor', 'exacts', 'breast', 'globalwarming', 'institutionalised', 'solo', 'portokalos', 'examination', 'omar', 'ageing', 'suzanne', 'revived', 'derived', 'interpretations', 'courage', 'bryon', '30yearold', 'battled', 'triumph', 'yellow', 'although', 'vince', 'buyer', 'begin', 'lawman', 'powerss', 'airmen', 'filmschool', 'victories', 'creasy', 'curve', 'cullens', 'mason', 'veteranturnedmercenary', 'asking', 'curmudgeonly', 'demise', 'huo', 'mermaid', 'kray', 'unless', 'ransom', 'nigerian', 'rob', 'occurs', 'rages', 'pernambuco', 'forbidden', 'celeste', 'manager', 'lizewski', 'baroque', 'turned', 'bedfordstuyvesant', 'astonishing', 'misunderstandings', 'jo', 'apollo', 'crimefighting', 'indomitable', 'blame', 'puritanical', 'threetime', 'distinguished', 'cowboy', 'arranges', 'code', 'krasinski', 'unit', 'traditional', 'viktor', 'highways', 'inventive', 'planning', 'dolly', 'batgirl', 'struggle', 'multinational', '1959', 'border', 'ousting', 'hugos', 'weaves', 'bragging', 'assayas', 'sweet', 'determines', 'notebook', 'cedric', 'salondeprovence', 'bullies', 'happiness', 'ashes', '1957', 'mccann', '10', 'ward', 'leander', 'troubled', 'sherman', 'dictator', 'involves', 'rumours', 'lauren', 'escobar', 'unsure', 'iwo', 'his', 'swamplands', 'depardieu', 'wealthy', 'coop', 'conrad', 'shy', 'some', 'dodd', 'archrival', 'pillar', 'piles', 'mytyl', 'identify', 'psychoneurotic', 'armageddon', 'protégé', 'appear', 'songs', 'services', 'partner', 'bets', 'heartbreaking', 'lowly', 'arcel', 'wiped', 'new', 'neighbour', 'classmate', 'illuminates', 'halfchechen', 'agency', 'fields', 'cabin', 'getting', 'pops', 'dantéss', 'stopping', 'say', 'hood', 'those', 'homophobic', 'crusading', 'genuine', 'kovic', 'project', 'upscale', 'allnew', 'whangara', 'packed', 'crippling', 'missile', 'progeria', 'jason', 'trainee', 'nationals', 'balboa', 'icecold', 'butter', 'modest', 'clear', 'lets', 'daughter', 'ferrell', 'injustice', 'terrorizes', 'garbage', 'shelton', 'laying', 'dearly', 'short', 'sleeping', 'roslyn', 'wonderful', 'denise', 'landers', '2019', 'enthusiast', 'awaits', 'stardom', 'touches', 'heath', 'plastic', 'callcenter', 'international', 'guests', 'mounts', 'grandparents', 'features', 'anastasia', 'weekend', 'hed', 'tretiak', 'gru', 'putting', 'sharply', 'lucky', 'osama', 'theseus', 'rift', 'never', 'scrooge', 'oddballs', 'fransisco', 'befriended', 'agee', 'halfrussian', 'oxford', 'horrified', 'scramble', 'encoded', 'restaurateur', 'carl', 'werewolf', 'saints', 'distant', 'join', 'kansas', 'pests', 'sadness', 'terms', 'ratings', 'successor', 'miller', 'seek', 'chaplain', 'timmy', 'leaving', 'sixfoot', 'pacino', 'quartered', 'terror', 'shan', 'alqaeda', 'fiance', 'bent', 'teeters', 'camelot', 'glowing', 'treasury', 'cg', 'huff', 'mysterious', 'irrevocably', 'kumar', 'unspeakable', 'i', 'eric', '29yearold', 'arent', 'mid1970s', 'investigate', 'sociopathic', 'sniffing', 'geppettos', 'bleek', 'baltimore', 'hide', 'shrink', 'practice', 'galaxy', 'writers', 'tightrope', 'wide', 'pioneered', 'pablo', 'jw', 'gallmann', 'forceful', 'stella', 'oneill', 'sifts', 'psychotherapist', 'buried', 'motley', 'skirt', 'carly', 'baskin', 'biehn', 'advocate', 'travel', 'thrown', 'temblor', 'formans', 'commonality', 'humble', 'parole', 'crocodile', 'mcconaughey', 'connecticut', 'wont', 'mushniks', 'adopts', 'jekyll', 'mall', 'novel', 'joys', 'kings', 'gossipy', 'psychedelic', 'mom', '1314', 'email', 'fat', '13year', 'wallflower', 'k2', 'fuse', 'dudley', 'credit', 'pasternak', 'highpowered', 'providence', 'recess', 'mordor', 'scrubb', 'concocts', 'multiaward', 'wade', 'amos', 'internet', 'provoked', 'white', 'luc', 'usa', 'car', 'rivals', 'bandits', 'chronicled', 'graduation', 'fraud', 'infiltrates', 'mike', 'politically', 'wests', 'drying', 'animation', 'yaya', 'reveal', 'essence', 'alternative', 'gogol', 'witwicky', 'until', 'discouraged', 'impressive', 'cairo', 'heather', 'forming', 'habitual', 'mechanic', 'hatching', 'logan', 'diego', 'immaculately', 'lovers', 'please', 'girlfriends', 'vitality', 'office', 'publication', 'shoulders', 'events', 'housewife', 'terri', 'max', 'net', 'ultimate', 'underappreciated', 'hutchens', 'scores', 'shatters', 'revealing', 'stasi', 'flashback', 'zak', 'venezuelan', 'ethics', 'boating', 'rent', 'katadreuffe', 'niro', 'size', 'timetravel', 'persian', 'active', 'blending', 'crumbles', 'fdr', 'embarks', 'combines', 'shalako', 'accompanies', 'hourlyrate', 'subdivision', 'bravery', 'covering', 'langston', 'depicting', 'richie', 'names', 'bilbo', 'avoided', 'sleuth', 'boar', 'tickettaker', 'proposal', 'cliff', 'urging', 'indulge', 'dante', 'declines', 'norman', 'due', 'planner', 'comicsinspired', 'stars', 'stockpile', 'sliding', 'fauna', 'mattress', 'honcho', 'maggie', 'significant', 'indestructible', 'corporations', 'find', 'havent', 'vet', 'thespian', 'double', 'butt', 'blofeld', 'messaging', 'rape', 'doorman', 'virus', 'derek', 'growers', 'glitz', 'arch', 'headhunter', 'marguerite', 'outofcontrol', 'fall', 'minor', 'mrs', 'tymes', 'yours', 'oakley', 'monarch', 'playboy', 'georgia', 'promising', 'roberts', 'kraken', 'aiming', 'powerhungry', 'models', 'lifestyle', 'frollo', 'unrepentant', 'prayer', 'legends', 'gallery', 'malloy', 'safecracker', 'snowmobile', 'nat', 'kelson', '11yearold', 'mine', 'craving', 'tomato', 'suspenseful', 'missie', 'hectic', 'hillbillies', 'provides', 'kicks', 'stanleys', 'betrothal', 'garth', 'eve', 'traveling', 'economically', 'sixday', 'rocker', 'doormat', 'alltoohuman', 'britishtrained', 'spinetingling', 'exploits', 'redeemed', 'truman', 'record', 'damme', 'coastal', 'buck', 'nasa', 'pulitzer', 'burger', 'contrast', 'joseph', 'phillip', 'who', 'quincy', 'entrepreneurs', 'falsely', 'interact', 'evidence', 'pretty', 'turnblad', 'striker', 'rwanda', 'boats', 'shepherd', 'griefstricken', 'roxie', 'muniz', 'undergrad', 'bella', 'called', 'intrepid', 'hoods', 'roped', 'clifford', 'finn', 'gather', 'x', 'burnout', 'craig', 'snatched', 'florence', 'unexplored', 'helen', 'cars', 'imax', 'leeds', 'suddenly', 'navys', 'sixecho', 'hears', 'ashley', '93', 'eisenheim', 'hardwick', 'grendel', 'providing', 'preacher', 'hurt', 'spacecraft', 'worst', 'landscape', 'past', 'ingenious', 'scrabble', 'royalty', 'filmmakers', 'allan', 'insider', 'safari', 'sweetnatured', 'through', 'gangster', 'obsessivecompulsive', 'underlings', 'deploys', 'gypsy', 'rappenaus', 'response', 'captivating', 'winning', 'everyman', 'loveless', 'cera', 'amélie', 'warheads', 'ubercontrolling', 'spin', 'frustrated', 'reduced', 'situation', 'perpetual', 'asian', 'carefree', 'crimedramaneonoir', 'everglades', 'arabian', 'jaded', 'passionate', 'climb', 'comic', 'vienna', 'marriages', 'olham', 'littlefoot', 'old', 'tsunami', 'antidote', 'sheriff', 'event', 'casablanca', 'next', 'traffic', 'lily', 'ultimately', 'frodo', 'worse', 'mega', 'newt', 'chemistry', 'hubert', 'macleod', 'into', 'receive', 'miraculous', 'childbirth', 'officially', 'carrey', 'flies', 'devastate', 'tells', 'moses', 'machinist', 'notsoinnocent', 'wilmot', 'microseries', 'cracks', 'coal', 'titled', 'ben', 'mutants', 'kilcher', 'opening', 'dunson', 'raya', 'samoan', 'craft', 'roar', 'sewers', 'forge', 'translate', 'investigating', 'witzky', 'baggins', 'ins', 'conglomerate', 'extension', 'meeks', 'bigcity', 'awful', 'underdog', 'stylist', 'dil', 'matt', 'sixteen', 'unearths', 'ponyboy', 'faraway', 'developing', '1870s', 'meetings', 'adib', 'acts', 'crashlands', 'sheffield', 'schedule', 'honeychurch', 'well', 'fabbrizios', 'werthan', 'tries', 'wifebusiness', 'copeland', 'funn', 'magicians', 'feet', 'abduct', 'suspicious', 'planets', 'elwood', 'unflappable', 'jintae', 'therefore', 'assassin', 'skype', 'transplant', 'pronounced', 'sexuality', 'velvet', '1955', 'jeffrey', 'nine', 'burt', 'rat', 'guide', 'aussie', 'trails', 'freezing', 'swarms', 'flightless', 'chicago', 'favorite', 'elephants', 'countless', 'followed', 'bats', 'spies', 'whoville', 'turmoil', 'rumpelstiltskin', 'motherdaughter', 'megalomaniacal', 'escaping', 'chloe', 'simba', 'downtrodden', 'ollie', '1924', 'arduous', 'womans', 'whitcomb', 'deformed', 'deputy', 'englands', 'diner', 'elliott', 'ex', 'highranking', 'fanny', 'penal', 'angeles', 'partying', 'trick', 'zambezia', 'frenzy', 'colorado', 'eastside', 'hurried', 'biting', 'hardpartying', 'conversations', 'marcellus', 'retracing', 'plainview', 'upwards', 'loser', 'midsummer', 'bends', 'deathroll', 'apocalyptic', 'fastfood', 'syndicate', 'confronts', 'deaths', 'adrenaline', 'opposing', 'rocked', 'chappie', 'fouryear', 'laws', 'recluse', 'resident', 'workingclass', 'wounded', 'flicks', 'space', 'fastest', 'allowed', 'shakespeares', 'obsessed', 'impatient', 'acapulcos', 'dating', 'slumber', 'surf', 'collision', 'facebook', 'zigzags', 'connected', 'naturally', 'geographic', 'silas', 'planners', 'roz', 'doublecrossed', 'thatcher', 'etienne', 'knows', '1930s', 'poes', 'poker', 'performers', 'bullock', 'hosts', 'plantation', 'reyes', 'dangerous', 'armored', 'aromero', 'fake', 'stumble', 'revengeseeking', 'gedren', 'kidnplay', 'demand', 'aunt', 'modern', 'damage', 'dip', 'vents', 'prospect', 'senator', 'recited', 'visual', 'red', 'sway', 'curiosity', 'unexpected', 'tricky', 'attractivebutdistant', 'autoimmune', 'agreed', '1947', 'reboot', 'brassy', 'panda', 'prefontaine', 'typical', 'adviceshow', 'shotgun', 'starfleet', 'competently', 'forced', '1879', 'exposes', 'wellmeaning', 'villages', 'battlefield', 'lies', 'economy', 'allens', 'kristi', 'bisset', 'malevolent', 'rodents', 'receiving', 'harmony', 'worldclass', 'bills', 'epileptic', 'inherits', 'kills', 'vineyard', 'sandidge', 'test', 'carload', 'ultimatums', '2018', 'brazils', 'park', 'mental', 'casinos', 'riddles', 'singingdancing', 'liveaction', 'hazards', 'spread', 'creation', 'soccer', 'patience', 'low', 'ran', 'pill', 'magnificent', 'acclimated', 'barren', 'kidnapping', 'post', 'economicallydepressed', 'patty', 'pictures', 'hitech', 'waters', 'june', 'permanent', 'narcissistic', 'granddaughter', '1933', 'composer', 'declared', 'subconscious', 'walks', 'connects', 'blown', 'frankenstein', 'earlier', 'portrayal', 'undisclosed', 'hanging', 'gift', 'hussein', 'grind', 'jenko', 'camp', 'onto', 'present', 'jehane', 'centerfielder', 'ashburn', 'cirque', 'johns', 'gang', 'colliding', 'sons', 'edit', 'sign', 'magic', 'sharp', 'hatches', '3', 'birds', 'twins', 'penguin', 'charming', 'refugee', 'for', 'jayne', 'overwhelms', 'shutting', 'immigrants', 'wendell', 'corporation', 'tate', 'setting', 'hoping', 'fill', 'zero', 'declining', 'remember', 'drummer', 'incorrect', 'cursed', 'scares', 'pistachio', 'revanche', 'navarone', 'attempt', 'agrees', 'angel', 'lillian', 'wastes', 'policy', 'skids', 'jakob', 'janeiro', 'grid', 'butabi', 'bail', 'tai', 'jankowski', 'taylor', 'things', 'two', 'sixtysomething', 'dandies', 'evening', 'eugenics', 'evolution', 'looks', 'convent', 'boots', 'neck', 'ecological', 'filming', 'risks', 'ringing', 'gungho', 'gulf', 'pearson', '17yearold', 'heavens', 'wards', 'oil', 'amacor', 'perfect', 'havilland', 'rodriguez', 'element', 'jay', 'whiz', 'mandelas', 'antoinette', 'sam', 'snow', 'washington', 'afshin', 'keeps', 'hog', 'warhols', 'architects', 'vicepresident', 'smith', 'gen', 'counterpart', 'finds', 'klein', 'illusionists', 'spice', 'longer', 'vigilantes', 'sweltering', 'rourke', 'prescribed', 'demons', 'wonka', 'solitary', 'badgley', 'uncovering', 'dominion', 'presidential', 'six', 'swore', 'seen', 'dwayne', 'havana', '2014', 'timeless', 'weirdness', 'rings', 'relapses', 'weathly', 'recovers', 'zoe', 'bunnys', 'murray', 'transexual', 'ace', 'election', 'mansik', 'carlisle', '9year', 'eviction', 'hannibal', 'its', 'calamities', 'do', 'renton', 'matheson', 'popularity', 'held', 'match', 'furthest', 'virgin', 'doback', 'pharmaceutical', 'seductive', 'uplifting', 'enhance', 'leo', 'hypnotherapist', 'ashram', 'extraterrestrial', 'companions', 'cocounsel', 'mattie', 'days', 'hex', 'juno', 'reality', 'identity', 'chbosky', 'beanes', 'peaceful', 'former', 'batman', 'holiday', 'placing', 'bollywood', 'clarinetplaying', 'nurse', 'miser', 'pfeiffer', '1967', 'kat', 'still', 'kagan', 'motorcycle', 'stan', 'eighteenth', 'did', 'widowed', 'tire', 'largely', 'average', 'misogynistic', 'goodbye', 'gavin', 'fearsome', 'stanton', 'johnny', 'serves', 'dafoe', 'clue', 'potter', 'graduating', 'genetic', 'decade', 'fearless', 'reduces', 'raids', 'mulligan', 'bench', 'reefs', 'magnificently', 'jewel', 'madeline', 'ethically', 'beth', 'teri', 'confesses', 'plea', 'fools', 'eeyore', 'pacts', '2004', 'giving', 'potato', 'oldoldoldfashioned', 'imprisoning', 'orphanage', 'warship', 'santa', 'sela', 'gecko', 'contestant', 'mérida', 'mixed', 'shrek', 'enter', 'walle', 'prosecution', 'teleport', 'district', 'glimpses', 'write', 'hales', '1921', 'socs', 'celebration', 'psychiatrists', 'boomer', 'screenplay', 'affected', 'kobelski', 'mushmouth', 'exfederale', 'keong', 'wyatt', 'underland', 'bowfinger', 'highlyevolved', 'bodies', 'savva', 'flamboyantly', 'sixteenseventeen', 'access', 'robotics', 'disabled', 'vann', 'amaro', 'implacable', 'truelife', 'idle', 'impersonate', 'karwais', 'krush', 'sniper', 'holdsbarred', 'grass', 'stoltz', 'patch', 'monroe', 'arnold', 'pull', 'choose', 'casino', 'reply', 'ruff', 'nomad', 'donovan', 'munch', 'blended', 'corruption', 'baruchel', 'burmese', 'tragically', '60', 'magnetized', 'thurman', '1700s', 'division', 'suitcase', 'monique', 'corner', 'punisher', 'visible', 'greek', 'turn', 'identifying', 'mawkish', 'prompts', 'sorority', 'jmw', 'chinatown', 'expedition', 'mysteriously', 'nowhere', 'dates', 'insane', 'contends', 'york', 'battling', 'panettiere', 'amongst', 'deena', 'styron', 'infection', 'breed', 'slacker', 'villain', 'heir', 'grief', 'somali', 'shivudu', 'corporate', 'valley', 'furious', 'atmospheric', 'undergoes', 'ball', 'environmental', 'highstrung', 'fatalistic', 'mexico', 'barber', 'hallowed', 'scifi', 'ridley', 'codys', 'creed', 'competition', 'antarctica', 'meditation', 'harsh', 'boarding', 'dubois', 'endless', 'danson', 'insecurity', 'sweethearts', 'au', 'another', 'same', 'hatch', 'didnt', 'dropout', 'tibetans', 'munro', 'accessible', 'landon', 'more', 'underworld', 'flop', 'pacha', 'nottoodistant', 'dítě', 'spill', 'horizons', 'increasingly', 'genghis', 'voluptuous', 'binge', 'hammond', 'now', 'apparent', 'drawn', 'oakland', 'chile', 'exarmy', 'hoax', 'sentence', 'home', 'mumble', 'cop', 'teach', '1941', 'powerful', 'allegedly', 'pawn', 'recentlywidowed', 'fourth', 'miz', 'challenged', 'olivia', 'posttornado', 'resistance', 'powered', 'anothers', 'omalley', 'flora', '1600s', 'untimely', 'multiple', 'robinsons', 'judgment', 'bruno', 'wreck', 'fletcher', 'kipps', 'dantes', 'chums', 'despised', 'spurlock', 'northup', 'owls', 'something', 'mostly', 'composed', '2028', 'montana', 'mack', 'literary', 'america', 'sailor', 'fancies', 'farmhand', 'calden', 'relaxed', 'colorful', 'arrest', 'enlist', 'shore', 'parlor', 'brolin', 'embroiled', 'boxersturnedcops', 'accidentaly', 'exception', 'idealism', '25th', 'runyons', 'allexpensespaid', 'lugo', 'wrightman', 'stealth', 'roller', 'wiseguy', 'downanddirty', 'gunslinging', 'wilders', 'species', 'larry', 'process', 'loves', 'normalcy', 'slovakian', 'gonzos', 'nicknamed', 'tower', 'breakdancer', 'grieving', 'overwhelming', 'leon', 'dadturneddog', 'producer', 'seventeenyearold', 'survive', 'autistic', 'experiment', 'relocates', 'greenwich', 'kill', 'distraught', 'injured', 'blart', 'outrageous', 'outofshape', 'obese', 'contain', 'print', 'kathleen', 'hunt', 'breathtaking', 'standard', 'young', 'santiago', 'elements', 'claustrophobic', 'tracked', 'uneventful', 'stripped', 'discover', 'rookie', 'slowly', 'thrillseeking', 'exhibit', 'portray', 'renovations', 'marcel', 'trailerpark', 'changed', 'northeastern', 'newsman', 'provide', 'ethan', 'jensen', 'downed', 'bacall', 'harker', 'nears', 'skeleton', 'thorn', 'lifted', 'h', 'machinery', 'joan', 'galvin', 'autobiographical', 'log', 'illgotten', 'analytic', 'racehorse', 'hunters', 'collectors', 'embezzles', 'eightyearold', 'trinke', 'athletes', 'm', 'hellman', 'brotherinlaw', 'sunny', 'requested', 'ringo', 'expanse', 'coaches', 'surface', 'glenn', 'marksman', 'hangover', 'later', 'villainous', 'cults', 'miles', 'set', 'jan', 'genius', 'enchanting', 'exclusive', 'frederic', 'slavin', 'warlord', 'universal', 'foundling', 'inhabitants', 'tricked', 'virginiabased', 'unsuspecting', 'raunchy', 'babysitting', 'pressured', 'keyes', 'treasureladen', 'terrorize', 'jeanpaul', 'bfg', 'nubile', 'opera', '38', 'freewheeling', 'south', 'theyre', 'oppression', 'black', 'files', 'reaper', 'springfield', 'dynasty', 'calculating', 'cowan', 'regular', 'bigtime', 'à', 'because', 'latterday', 'reunited', 'rocknroll', 'innate', 'tornadoes', 'repeating', '1951', 'eustace', 'satisfying', 'episode', 'norma', 'protect', 'any', 'laidoff', 'stoners', 'provincial', 'solve', 'holidays', 'ilona', 'iraq', 'bering', 'dimarco', '79', 'skulls', 'israeli', 'supernatural', 'barricaded', 'spurrier', 'wishing', 'resists', 'daily', 'cheerleaders', 'mario', 'fixation', 'canary', 'alphas', 'beginnings', 'soviets', 'commit', 'jean', 'professors', 'butch', 'devoured', 'supersexist', 'important', 'returns', 'spiegelman', 'miss', 'assassinate', 'chatting', 'desert', 'version', 'industrialists', 'martha', 'extremely', 'journeys', 'goliath', 'crushed', 'badly', 'coconspirator', 'nelson', 'incompetent', 'healing', 'cocaine', 'morocco', 'nightmare', 'lorraine', 'yuppie', 'pizza', 'newswoman', 'jinseok', 'legacy', 'fence', 'secrecy', 'coast', 'mal', 'strives', 'bondsman', 'transmission', 'universe', 'jackies', 'lisa', 'grettas', 'sorcery', 'streetwise', 'rank', 'overhears', 'help', 'daryl', 'replace', 'outcast', 'witnessing', 'shelby', 'abortionist', 'twist', 'kale', 'bands', 'panther', 'shores', 'afghanistan', 'highway', 'wolverine', 'tricks', 'pole', 'word', 'tragicomical', 'wladyslaw', 'described', 'estate', 'much', 'couples', 'spouse', 'stationed', 'reimagining', 'terumi', 'lebanese', 'slayers', 'hottie', 'hobby', 'antitechnology', 'store', 'lessons', 'florida', 'franco', 'arrive', 'kay', 'younger', 'trainees', 'loss', 'longtime', 'kahlo', 'serbian', 'ridiculously', 'capturing', 'preunified', 'belated', 'badboy', 'neurotic', 'awaken', 'heartwarming', 'may', 'hotels', 'fulfilling', 'hawke', 'loosely', 'attack', 'inc', 'today', 'egotistical', 'carefully', 'bridget', 'network', '1875', 'elf', 'drink', 'optimistic', 'dutcher', 'girls', 'conduct', 'austen', 'selfcentered', 'july', 'bestseller', 'irans', 'funloving', 'rogue', 'alex', 'champ', 'inexperience', 'zohans', 'repo', 'friend', 'haskins', 'ventura', 'gould', 'knot', 'critically', 'yet', 'installment', 'contentious', 'fantastical', 'rei', 'salesman', 'sweden', 'bicker', 'hutton', 'oher', 'uncovered', 'cube', 'reznik', 'collins', 'boy', 'capote', 'grouped', 'daredevil', '30000', 'deliverymen', 'georgie', 'fights', 'spalko', 'benoit', 'author', 'terrified', 'online', 'rivera', 'charged', 'peggy', 'points', 'zips', 'armstrong', 'monaghan', 'cale', 'flik', 'madame', 'witnessed', 'fellow', '2011', 'caught', 'developed', 'portrait', 'langdon', 'innercity', 'jeanpierre', 'marshall', 'brooklyn', 'mercedes', 'ramón', 'citys', 'sedgwick', 'feature', 'quietly', 'mudge', 'lindsey', 'overtaking', 'baddest', 'physician', 'clydie', 'emerging', 'maximum', 'englishlanguage', 'pageant', 'ailing', 'dairy', 'curly', 'wine', 'arbuthnot', 'tradition', 'types', 'talent', 'that', 'rebellion', 'raise', 'bred', 'gazelle', 'inadvertently', 'across', 'drugdealing', '53', '28th', 'melodrama', 'cs', 'gunar', 'whip', 'creations', 'chanel', 'spanish', 'geophysicist', 'nickelodeon', 'maintain', 'jai', 'claims', 'became', 'emily', 'del', 'classical', 'pranksters', 'frontman', 'misrepresented', 'fiery', 'expose', 'drew', 'other', 'novels', 'ambition', 'revolves', 'newlydiscovered', 'currie', 'kong', 'riveting', 'ajla', 'waxman', 'clayton', 'aramis', 'walter', 'deathsquad', 'celebrate', 'romania', 'forward', 'riches', 'hector', 'ranch', 'canton', 'navy', 'reasoned', 'eight', 'tobey', 'such', 'stint', 'pobby', 'sent', 'reversechronological', 'concert', 'everyone', 'hillard', 'emmywinning', 'falling', 'footage', 'smashes', 'slain', 'authorities', 'outpost', 'tricias', 'frontwomen', 'lifepod', 'openly', 'cannibal', 'debut', 'lena', 'become', 'flesh', 'northeast', 'ipkiss', 'bledel', 'cannibalistic', 'hudgens', 'tang', 'thinner', 'capotes', 'northern', 'nerves', 'mariel', 'heffalump', 'traven', 'malone', 'grace', 'conservative', 'composing', 'wifes', 'fifteenyear', 'chip', 'janitor', 'north', 'epoque', 'lock', 'suzie', 'german', 'boog', 'shocked', 'syndrome', 'taxi', 'causing', 'tiny', 'jam', 'drugtaking', 'tramp', 'bourbon', 'unceremoniously', 'aided', 'operatives', 'hud', 'league', 'mid1950s', 'sausage', 'hunts', 'voice', 'sheet', 'settle', 'legend', 'soviet', 'gum', 'sea', 'masterson', 'newlyweds', 'lutz', 'sheenas', 'news', 'gridiron', 'clavel', 'knew', 'babies', 'january', 'kidnapped', 'entertainers', 'noveltysalesman', 'hearted', 'italian', 'prada', 'grand', 'emotional', 'sethe', 'negotiator', 'shakespeare', 'delivers', 'commercial', 'rabbi', 'divoce', 'wwe', 'gandhi', 'wouldbe', 'walls', 'using', 'majestic', 'shane', 'francis', 'guillermo', 'yellowstone', 'aileen', 'handbook', '250cc', 'vikings', 'gifted', 'mathilde', 'miner', 'palpable', 'concept', '1998', '50000', 'rowan', 'island', 'mystic', 'moved', 'skilled', 'wage', 'lars', 'augusten', 'wars', 'hacking', 'one', 'fanatic', 'castle', 'virusa', 'sociallyrejected', '4', 'gabriel', '1800', 'cons', 'depressionera', 'netherlands', 'amount', 'launches', 'candidates', 'laura', 'researcher', 'lahaye', 'ann', 'cream', 'wonders', 'murnau', 'nairobibased', 'monte', 'fuels', 'experimentation', 'begun', 'sanchez', 'ghetto', 'howling', 'dick', 'plumbers', 'gwyneth', 'ghosts', 'radner', 'chronicling', 'heavydrinking', 'danny', 'fiancé', 'mayan', 'intended', 'governor', 'drives', 'crystal', 'noon', 'hutchinson', 'fish', 'kilmartin', 'walkabout', 'phone', 'executivesone', 'fisher', 'vs', 'constantly', 'shakur', 'dawn', 'manni', 'madeleine', '27yearold', 'protection', 'wellknown', 'bank', 'funnyman', 'veronica', 'twentysomething', 'lowrent', 'suffers', 'cameron', 'breathing', 'elvis', 'ordinary', 'star', 'walled', 'explore', 'mathematical', 'bristol', 'micallef', 'sickly', 'bridesmaids', 'participated', 'demarco', 'dexter', 'gone', 'liberation', 'had', 'counselor', '10th', 'prospero', 'alaska', 'waiting', 'desperate', 'cashflow', 'times', 'buzzed', 'concerning', 'monkey', 'incident', 'reversed', 'mende', 'peacekeeping', 'lodged', 'powers', 'controllers', 'mccarthys', 'carrie', 'broker', 'whom', 'sebastian', 'deceit', 'wheelman', 'firefighters', '300', 'sportswriter', 'way', 'legless', 'transmissions', 'registered', 'commercials', 'witty', 'buffalo', 'abagnale', 'katie', 'cheerleading', 'numbers', 'hayden', 'defended', 'recipe', 'golddigging', 'homeless', 'nearpenniless', 'early', 'bein', 'fishandchip', 'genesis', 'uppeter', 'survivor', 'leader', 'a', 'midwest', 'undivided', 'sale', 'kovak', 'havoc', 'fired', 'tess', 'spotlight', 'helped', 'overprotective', 'polly', 'aires', 'feroz', 'fastforward', 'sparrow', 'nobleman', 'supervillain', 'roguish', 'disguisey', 'harried', 'abraham', 'ellis', 'probing', 'weddings', 'iza', 'guerrilla', '2012', 'yuppies', 'activists', 'maitlin', 'ray', 'music', 'theater', 'bodyguard', 'cigarsmoking', 'climber', 'dabbawallahs', 'holly', 'shelter', 'goldberg', 'wonder', 'play', 'gg', 'brought', 'captors', 'patriarch', 'olympus', 'grip', 'haze', 'feel', 'looper', 'causerelated', 'teaching', 'earn', 'appalled', 'nannerl', 'cryptic', 'hardened', 'biotech', 'rotting', 'karen', 'mcphee', 'micheals', 'leith', 'anchorwoman', 'macmanus', 'ask', 'emergency', 'lineup', 'hedgefund', 'highlight', 'rarely', 'moseley', 'jungles', 'compassionate', 'bars', 'slamdunking', 'shes', 'hapless', 'thats', 'victorious', 'working', 'ernswiler', 'wagner', 'direction', 'foley', 'canadian', 'fantasizing', 'bogart', 'elderly', 'vortex', 'macaw', 'colter', 'strictest', 'detamble', 'unfortunate', 'cindy', 'fergus', 'middleweight', 'illinois', 'rally', 'admiration', 'customer', 'crook', 'himself', 'herself', 'ages', 'alexis', 'lavishly', 'curtis', 'orpheus', 'condition', 'winnie', 'mulholland', 'principle', 'congressional', 'programmer', 'century', 'corps', 'bernstein', 'adventurefilled', 'ecosystems', 'protagonist', 'acclaimed', 'emory', 'dirty', 'turkey', 'awesomeness', 'stamp', 'eliminates', 'shaw', 'beleaguered', 'buff', 'gig', 'creators', 'rhett', 'virgins', 'motorcycles', 'departure', 'montgomery', 'ramsey', '1982', 'seemingly', 'flasher', 'grieves', 'plot', 'constellations', 'waged', 'trapping', 'stealthfighter', 'face', 'belles', 'rather', 'robert', 'beavis', 'accountant', 'confederacy', 'smoking', 'faustian', 'nexus', 'jules', 'invited', 'cupid', 'greenpeace', 'sorcha', 'seaside', 'sumner', 'leaf', 'barreling', 'megamind', 'severely', 'respected', 'christinas', 'lessthanstunning', 'african', 'glazers', 'accepts', 'b', 'contacted', 'pk', 'vaucan', 'proposes', 'telepathic', 'no', 'dorian', 'briefcase', 'hazen', 'tasked', 'empty', 'carousing', 'scent', 'deliveries', 'beary', 'wackness', '22yearold', 'squadron', 'destructive', 'spacetraveling', 'thinking', 'chief', 'mars', 'audacity', 'unbreakable', '1820s', 'straightlaced', '1000', 'starsky', 'writer', 'sharklike', 'schluufys', 'decides', 'disruptive', 'benioffs', 'piedmont', 'bucks', 'dev', 'vespa', 'recovering', 'insatiable', 'klark', 'crimelord', 'vincent', 'housing', 'principled', 'downandout', 'testify', 'dedhams', 'pooh', 'sixyearold', 'pay', 'murderers', 'midwesterner', 'exam', 'hooks', 'annapolis', 'interweaving', 'taste', 'nations', 'downhill', 'banking', 'llewyn', 'maverick', 'greenhouse', 'serenity', 'superhero', 'sewer', 'power', 'wins', 'nemo', 'genovia', 'neotokyo', 'watch', 'stranded', 'escorting', 'attracted', 'sled', 'pussn', 'alexander', 'simpleton', 'winds', 'little', '1992', 'neighbourhood', 'toys', 'comically', 'accidental', 'nasty', 'niagara', 'charttopping', 'curling', 'eastern', 'assassinating', 'burkittsville', 'stoic', 'hamilton', 'explorers', 'bitter', 'mc', 'hurricane', 'intensity', 'sportello', 'yutian', 'fictionalized', 'relatively', 'gorging', 'youngest', 'scorned', 'glee', 'lyra', 'speculation', 'aside', 'imagines', 'ruffians', 'luthan', 'jacobsen', 'relationships', 'inkhata', 'refugees', 'assassinated', 'seamstress', 'view', 'exfiltration', 'highest', 'axel', 'selfesteem', 'triggered', 'domenic', 'involving', 'brownsville', 'loosened', 'gladers', 'germanamerican', 'irritating', 'angus', 'noah', 'took', 'wartorn', 'commitmentphobic', 'lex', 'jett', 'doogal', 'separates', '17thcentury', 'george', 'mean', 'sicko', 'kassandra', 'mandarin', 'metallica', 'plague', 'priorities', 'exchurch', 'visitors', 'cocky', 'mule', 'felice', 'eyecatching', 'greensrutina', 'compromised', 'lacey', 'christine', 'kitchen', 'sets', 'holden', 'caminos', 'anderton', 'coronation', 'pulled', 'manmohan', 'daedalus', 'jindabyne', 'holt', 'saturday', 'inbound', 'nevada', 'targeted', 'deus', 'dom', 'spear', 'efforts', 'lingerie', 'beatles', 'lightning', 'dwarves', 'graduate', 'seemed', 'gobi', 'woodroof', 'lush', 'hulme', 'rest', 'sneaking', 'fabled', 'zeng', 'luckily', 'airline', 'mythological', 'locked', 'exboss', 'together', 'scientist', 'tyler', 'tail', 'harriet', 'priest', 'allwhite', 'moscow', 'repay', 'onceblissful', 'rodrick', 'reticent', 'gilmore', 'mistake', 'gilled', 'arendelle', 'investor', 'routine', 'march', 'magicfilled', 'flight', 'priya', 'almodovar', 'of', 'jørgen', 'position', 'period', 'impresario', 'killertire', 'yancy', 'altruistic', 'jurassic', 'clash', 'poltergeists', 'airport', 'alter', 'vengeance', 'sanders', 'legal', 'dont', 'metaphorical', 'burts', 'outgoing', 'attract', 'scammed', 'rosenfeld', 'wolfgang', 'quarantine', '1990s', 'mozart', 'tau', 'driving', 'volleyball', 'indicates', 'ayurveda', 'dna', 'shares', 'travers', 'yuri', 'rebuild', 'blades', 'block', 'package', 'stroke', 'underwent', 'counterparts', 'shoulder', 'travis', 'cash', 'define', 'massacres', 'regularly', 'rickie', 'awareness', '30', 'siler', 'recording', 'violinist', 'deadliest', 'drugfueled', 'keith', 'wasps', 'tenenbaums', 'plastics', 'cuts', 'adventures', 'rags', 'maneuvers', 'dystopian', 'recent', 'de', 'devils', '2', 'fly', '2455', 'intellectual', 'luhrmanns', 'campaigns', 'toller', 'thirteenyearold', 'granddaughters', 'cydney', 'mcclaren', '11th', 'believed', 'letter', 'threshold', 'marijuana', 'aronofsky', 'restlessness', 'dusty', 'mckinney', 'harvardeducated', 'multiplayer', 'nfl', 'kicking', 'hostages', 'thieves', 'lightman', 'geniuslevel', 'bauby', 'appearance', 'segregation', 'expelled', 'debaucherous', 'mccarter', 'system', 'patton', 'alters', 'moonlights', 'unaware', 'jack', 'feeds', 'las', 'shift', 'fiancée', 'hoover', 'mina', 'closely', 'modify', 'weathers', 'clinically', 'whilst', 'challenge', 'crucifixion', 'heartthrobs', 'kutchek', 'somewhat', 'kidnap', 'restore', 'rio', 'clary', 'player', 'combustible', 'fathoms', 'sharpwitted', 'baseballs', 'demented', 'moore', 'jealous', 'were', 'amnesic', 'financed', 'stillgreen', 'jeanjacques', 'arrests', 'windy', 'shoestring', 'nature', 'mountaintop', 'cruise', 'skies', 'claudios', 'helmsley', 'morgans', 'virtualreality', 'descendants', 'hairstylist', 'horace', 'enlisted', 'orton', 'paranormal', 'prototype', 'parties', 'charmingbandit', 'islandset', 'razorwielding', 'priceless', 'heroin', 'living', 'bram', 'idyllic', 'lakeside', 'after', 'famously', '2029', 'officers', 'mass', 'anyone', 'norton', 'isabel', 'dies', 'thought', 'navajo', 'pro', 'iconoclastic', 'means', 'rely', 'dart', 'pootie', 'serve', 'perfecting', 'overboard', 'laurence', 'maya', 'restroom', 'affluent', 'projects', 'graduates', 'exfootball', 'hermione', 'enlists', 'impressionistic', 'scottish', 'uproarious', 'arcade', 'pows', 'superintelligent', 'kingman', 'months', 'anticommunist', 'rubin', 'antichrist', '1969', 'precious', 'hanna', 'archnemesis', 'cause', 'whittaker', 'savannah', 'learn', '1300', 'lord', 'manny', 'zack', 'brimstone', 'japaneseamerican', 'corpsman', 'bowed', 'hitchhiker', 'alone', '1958', 'chemist', 'dying', 'romantically', 'remarried', 'housekeeping', 'becky', 'puss', 'rehearsals', 'seniors', 'goosen', 'braddock', 'harmonium', 'dream', 'professor', 'ally', 'karl', 'bisson', 'unlock', 'adorable', 'sense', 'gentle', 'pequod', 'separate', 'incredibly', 'humanitys', 'tvirus', 'seagull', 'outfitted', 'teamsters', 'unmask', 'overbearing', 'conwoman', 'apart', 'political', 'satellites', 'officer', 'ark', 'harrowing', 'stieg', 'obliterates', 'hunger', 'nebraska', 'mohandas', 'irreverent', 'answered', 'allgirl', 'ang', 'mess', 'halley', 'loyalty', 'fairbanks', 'bread', 'idris', 'samsara', 'handed', 'vampires', 'whitey', 'pierre', 'café', 'pets', 'superstar', 'performer', 'bible', 'roy', 'seminary', 'dispute', 'overlyconfident', 'slaughtered', 'zamboni', 'kirk', 'raimunda', 'possession', 'gibson', 'normandy', 'ballroom', 'elected', 'reverend', 'upended', 'backdrop', 'bathory', 'estranged', 'devil', 'loose', 'compete', 'janus', 'terrorised', 'crowd', 'terrible', 'arrival', 'werewolves', 'zookeeper', 'multiplatinum', 'skipper', 'height', 'decorated', 'coyote', 'dormant', '1942', 'carson', 'boatload', 'waitress', 'starting', 'expects', 'bigger', 'adulthood', 'grift', 'amidst', 'escape', 'hart', 'disgruntled', 'medication', 'murderess', 'proves', 'ram', 'paula', 'childers', 'confronted', '2027', 'artist', 'action', 'steppe', 'helicopter', 'alist', 'sid', 'deals', 'complete', 'doctoral', 'real', 'windmill', 'crown', 'provocative', 'sanctuary', 'hat', 'fox', 'diana', '1890s', 'article', 'perfectly', 'iris', 'depends', '1900', 'fatally', 'piper', 'prodigy', 'biology', 'powell', 'hayes', 'fluff', '400000', 'miranda', 'oncourt', 'pursues', 'shattered', 'kingdom', 'dumas', 'bannon', 'laugh', 'mezzomezzo', 'krypton', 'outbreak', 'soap', 'viola', 'shantytown', 'england', 'wheelchairs', 'stay', 'robotic', 'bullwinkle', 'apartment', 'myles', 'genre', 'threetiered', 'jess', 'lerman', 'against', '11year', 'cleaning', 'guns', 'boyfriends', 'terrence', 'round', 'rush', 'archetypal', 'newspaper', 'maguire', 'pyramid', 'missionprotect', 'repairman', '2020', 'howard', 'daughters', 'edward', 'ancient', 'natives', 'hyakkensama', 'goose', 'sikes', 'mirabelle', 'overly', 'kaufman', 'clean', 'rahway', 'workers', 'touched', 'shapeshifting', 'davidson', 'tried', 'bombs', 'increase', 'media', 'enthusiastic', 'dorothy', 'poland', 'elaborate', 'develops', 'anniversary', 'inevitable', 'disqualified', 'meaningful', 'thibault', 'popper', 'supreme', 'affect', 'cmdr', 'rizwan', 'comics', 'horrific', 'seal', 'geophysical', 'kennedy', 'briony', 'cooverman', 'blu', 'resurrected', 'exserviceman', 'talk', 'girlfirend', 'bankruptcy', 'backstage', 'courageous', 'hm', 'mid1960s', 'howell', 'dominican', 'tactical', 'wheel', '12', 'threaten', 'cant', 'hooker', 'tragic', 'itself', 'spaceship', 'californian', 'roars', 'deflower', 'tongueincheek', 'voicemails', 'jewishpolish', 'vicky', 'unite', 'douglas', 'townsfolk', 'hallucinogenic', 'housecleaner', 'going', 'structural', 'suburb', 'adonis', 'schoolboys', 'mcinnerny', 'tk', 'unanswered', 'swordwielding', 'shock', 'honest', 'allows', 'handkerchief', 'exposer', 'iis', 'transporting', 'barkley', 'democracy', 'premiere', 'paced', 'whaler', 'confront', 'georgiana', 'angels', 'charm', 'firstgrade', 'krumping', 'drawing', 'continuing', 'threatened', 'discharged', 'passion', 'bhai', 'similar', 'pair', 'garage', 'lowbudget', 'hasnt', 'vitally', 'toronto', 'debunking', 'maximilian', 'bianca', 'elizabeth', 'fulfilled', 'passage', 'executed', 'mcfee', 'left', 'quantum', 'rallies', 'suicidally', 'soundtrack', 'amazon', 'udall', 'freeman', 'nor', 'prospects', 'sour', 'tolstoys', 'jettel', 'altmans', 'russell', 'landlord', 'burst', 'crisis', 'manhood', 'psychiatrist', 'grindle', 'reno', 'reigning', 'hitchens', 'diversions', 'perseusthe', 'attain', 'chimps', 'off', 'newfoundland', 'aurelius', 'murder', 'organisation', 'landscapes', 'clone', 'softball', 'beirut', 'deaf', 'primal', 'haunted', 'refusing', 'playwright', 'earp', 'spiteful', 'carry', 'brother', 'temperamental', 'tablet', 'transport', 'narc', 'loxley', 'entrepreneur', 'bunker', 'smarter', 'krelborn', 'fergusons', 'superspy', 'dire', 'strategy', 'evangelistic', 'seville', 'symbol', '24houraday', 'michell', 'indefinite', 'hurley', 'conference', 'selfmade', 'midler', 'spinelli', 'bereaved', 'performing', 'pearl', 'intimate', 'previous', 'totally', 'jackson', 'hitlers', 'unrelated', 'boys', 'primitive', 'evangelion', 'films', 'nearfuture', 'pig', 'narcotics', '1834', 'lilo', 'globe', 'hotel', 'parody', 'radicals', 'problem', 'insouciant', 'day', 'melissa', 'give', 'stores', 'operations', 'spicy', 'season', 'recruiter', 'documenting', 'replacement', 'sight', 'movies', 'mismatched', 'majo', 'ghost', 'angie', 'admitted', 'tel', 'without', 'juvenile', 'forest', '10year', 'interaction', 'pubs', 'mgb', 'slips', 'peculiar', 'gene', 'mickey', 'founder', 'adventuredrama', 'rogen', 'alec', 'myers', 'entertainer', 'romano', 'madrid', 'lethal', 'wazowski', 'sum', 'allen', 'rainy', 'eye', 'aimless', 'road', 'forrest', 'inherit', 'han', 'stepford', 'disrupting', 'danijel', 'odonnell', 'hobbit', 'midwestern', 'plunge', 'taxidriver', 'ambushed', 'awakes', 'hoggetts', 'board', '1970', 'tank', 'theatre', 'rangers', 'noujaim', 'surfing', 'involved', 'meddlesome', 'deluise', 'stunts', 'offered', 'drebin', 'indolent', 'mixedup', '2035', 'bright', 'nightlife', 'fail', 'tepes', 'lead', '1974', 'brick', 'callar', 'forsters', 'adventurous', 'page', 'militant', 'deserves', 'mad', 'balance', 'alexia', 'mideurope', 'anew', 'balian', 'upsets', 'ossa', 'fray', 'shoppers', 'threat', 'strangest', 'panama', 'secret', 'bridal', 'directors', 'membership', 'once', 'chambers', 'stalls', 'cohost', 'chuckie', 'trading', 'each', 'tongmenghui', 'captive', 'rhode', 'moroccan', 'burma', 'effort', 'replaced', 'resources', 'phobias', 'trips', 'temporarily', 'ultramarines', 'coney', 'nostromo', 'ike', 'rockwell', 'mcdonagh', 'adm', 'arriving', 'antihero', 'talkative', 'shoe', 'supply', 'doomed', 'deadly', 'selma', 'farr', '1536', 'renowned', 'morquios', 'glamorous', 'buds', 'conventional', 'mcnally', 'vlad', 'analyzing', 'coder', 'josé', 'driven', 'employers', 'armacost', 'infertile', 'sweeney', 'spock', 'grenouille', 'boxer', 'poor', 'crashed', 'parasitic', 'questions', 'rebel', 'intimidating', 'bette', 'ending', 'eleven', 'creative', 'autumn', 'mi6', '3000', 'paid', 'walden', 'uncle', 'abroad', 'eb', 'subjected', 'chronciling', 'throws', 'belong', 'orbit', 'epochmaking', 'throughout', 'ford', 'stalinera', 'arrested', 'crossover', 'spaniard', '50s', 'kappa', 'nell', 'cranes', 'meanest', 'twelve', 'exorcisms', 'raining', 'strode', 'witch', 'stellas', 'masterbuilder', 'blinded', 'siamese', 'mayor', '28yearold', 'nation', 'affections', 'greetingcard', 'finagles', 'longbaugh', 'tropical', 'boozeaddled', 'gerry', 'destruction', 'damodar', 'swaziland', 'perrin', 'digs', 'tx', 'mcnelly', 'wildernessthemed', 'contract', 'brutally', 'hedonistic', 'losing', 'grader', 'baekeland', 'philippineamerican', 'prestigious', 'showing', 'radha', 'buoy', 'cravens', 'acidwashed', 'compton', 'grandfather', 'australia', 'kamiya', 'paranoid', 'iowa', 'experience', 'wacky', 'bobby', 'revel', 'kept', 'middle', 'chuck', 'lunar', 'opportunities', 'caitlin', 'urban', 'away', 'jumpstart', 'lafayette', 'rec', 'written', 'dété', '2087', 'selling', 'morton', 'scheck', 'highdrama', 'clouseau', 'tellis', '70yearold', 'pete', 'she', 'superintendent', 'sits', 'prepare', 'fares', 'released', 'abducted', 'boorish', 'darwin', 'frake', 'fbis', 'upstate', 'investigator', 'private', 'continued', 'slay', 'settles', 'message', 'iq', 'happily', 'daphne', 'assumes', 'connie', 'triumphs', 'commanding', 'dancefight', 'summertime', 'morvern', 'habits', 'tactics', 'obsesses', 'honoring', 'oskar', 'welloff', 'motivated', 'claireece', 'celebrates', 'heartache', 'far', 'bargained', 'andrews', 'stateoftheart', 'earnshaws', 'polatkin', 'uses', 'unhappily', 'clarice', 'shaun', 'pandora', 'carter', 'ongoing', 'safety', 'olivier', 'munroe', 'feels', 'highsmith', 'age', 'opportunity', 'fueling', 'mica', 'lahore', '1987', 'mannequin', 'rattled', 'renesmee', 'rail', 'josie', 'institutionalized', 'books', 'accompanied', 'qorianka', 'stalked', 'bungalow', 'trapeze', 'asked', 'lifetime', 'roommate', 'disc', 'thompson', '9th', 'population', 'mutations', 'harley', 'punching', 'debilitating', 'mossad', 'dicky', 'benedict', 'machete', 'peers', 'greenlander', 'choice', '1250', 'bellhops', 'opiumhuffing', 'manchuria', 'gillian', 'uprising', 'gripped', 'azeroth', 'learns', 'reassesses', 'mail', 'cellmates', 'britain', 'lou', 'gregory', 'rapidly', 'cao', 'surly', 'ordered', 'spains', 'sacramento', 'ever', 'highhanded', 'mincayani', 'awry', 'guerin', 'woodman', 'infiltrate', 'lennons', 'shipment', 'back', 'mcclanes', 'prostituteturneddrug', 'summons', 'grifter', 'shorts', 'lawyer', 'queenie', 'debates', 'researchers', 'rey', 'overthetop', 'handful', 'mountaineer', 'donnas', 'suicides', 'rainey', 'singer', 'upcoming', 'iras', 'bethlehem', 'rocks', 'task', 'shut', 'littleknown', 'unsatisfactory', 'discovery', 'abrasive', 'gives', 'sequel', 'stumbling', 'amen', 'retribution', 'unwittingly', 'sealed', 'produced', 'micky', 'veil', 'slaying', 'drill', 'thwarted', 'diamond', 'paris', 'tract', 'rambis', 'intergalactic', 'protest', 'eighteen', 'undertakes', 'directorial', 'compulsive', 'earned', 'shielded', 'ceo', 'prospector', 'isnt', 'particular', 'contribution', 'appoints', 'worthwhile', 'excitement', 'sullivans', 'postkatrina', 'topher', 'geese', 'member', 'tenyear', 'jaspersen', 'design', 'calvins', 'mermaids', 'motivate', 'roads', 'f', 'samantha', 'blockbuster', 'misanthropic', '2010', 'superficial', 'release', 'villainess', 'winners', 'bond', 'facing', 'wanders', 'sounds', 'reed', 'franchises', '1920s', 'pluto', 'likes', 'crawl', 'wondrous', 'survival', 'elevator', 'ellen', 'restauranteur', 'manages', 'outcasts', 'begins', 'parks', 'resurfaces', 'grim', 'authentically', 'indians', 'gillanders', 'amoral', 'disappeared', 'lourié', 'beginning', 'steps', 'gradually', 'corky', 'methods', 'jealousy', 'embark', 'flair', 'masterminding', 'impress', 'occupation', 'crying', 'rowdiest', 'restoring', 'distress', 'crush', 'migratory', 'klaven', 'everett', 'arrogant', 'mortally', 'wrongfully', 'schizophrenic', 'damien', 'obélix', 'gloomy', 'fair', 'nixon', 'coeds', 'vega', 'pines', 'mukhtar', 'northwest', 'stables', 'trouble', 'warshaw', 'catholic', 'polanski', 'pledges', 'how', 'dillingers', 'journalism', 'bordeaux', 'miners', 'bovine', 'frances', 'cowboys', 'noted', 'farrow', 'when', 'dizzy', 'blackops', 'restores', 'brontosaurus', 'but', 'guidance', 'swap', 'mississippi', '1954', 'failed', 'forsyth', 'stunned', 'unexpectedly', 'future', 'stauffenberg', 'richards', 'arctic', 'efficient', 'cosmos', 'vanillawedded', 'creepy', '2046', 'amazing', 'antics', 'deputies', 'october', 'michigan', 'lensherr', 'chon', 'cooper', 'watney', 'alaskan', 'tetsuo', 'purge', 'luce', 'victors', 'traîne', 'grudgingly', 'salon', 'lifethreatening', 'enough', 'blamed', 'banyan', 'bonnie', 'jude', 'inspired', 'radical', 'gary', 'hijacked', 'hansel', 'elliot', 'straighten', 'slevin', 'wander', 'eavesdropping', 'moai', 'towers', 'years', 'sullivan', 'mulder', 'celestial', 'tweedsuited', 'bombmaking', 'washed', 'pressures', 'barish', 'surprise', 'retiring', 'birch', 'house', 'straitlaced', 'kaiulani', 'embraced', 'book', 'tightly', 'motorists', 'philippines', 'virtually', 'herrington', 'zinos', '23', 'nightclubs', 'swan', 'augustus', 'woody', 'sheriffs', 'multigenerational', 'hogue', 'biographical', 'blaine', 'moe', 'maurice', 'knife', 'conspire', 'chucky', 'malhotra', 'jitters', 'commits', 'boundlessly', 'oversee', 'quits', 'panic', 'recreate', 'modeling', 'vertigo', 'champion', 'halle', 'intertribal', 'cafe', 'jed', 'hindi', 'advanced', 'purpose', 'coriolanus', 'mat', 'sanford', 'revealed', 'fling', 'belonged', 'nada', 'granny', 'paris1910', 'valuable', 'adam', 'aweinspiring', 'welcome', 'monotony', 'shop', 'perrier', 'faith', 'rooms', 'cunning', 'puppetmaster', 'modernday', 'presidency', 'brutal', 'laine', 'fierce', 'minute', '73yearold', 'brand', 'atenton', 'tie', 'immediately', 'tailor', 'broken', 'sunday', 'drilling', 'looting', 'brain', 'tribune', 'irish', 'observed', 'reenactments', 'shoving', 'harvard', 'soared', 'bloodiest', 'surratt', 'meteor', 'slaughter', 'dangerously', 'elmo', 'specialists', 'kazakhstan', 'win', 'religious', 'v', 'austrian', 'soldier', 'garden', 'chase', 'santoro', 'debauchery', '1850s', 'fell', 'lousy', 'ship', 'baumbach', 'deewani', 'newly', 'mills', 'campaign', 'hazel', 'bord', 'ellie', 'necktie', 'reinvigorate', 'bonecrunching', 'altmann', 'malfunctions', 'assange', 'entranced', '1964', 'pushing', 'caretaker', 'allstar', 'nello', 'robbing', 'streetracer', 'schwarzenegger', 'montreal', 'leaks', 'accuse', 'tooth', 'awardânominee', 'reunite', 'hostel', 'valentino', 'ripping', 'teens', 'capacity', 'teenaged', 'moriarty', 'cyborgs', 'liotta', '19thcentury', 'winter', 'marrow', 'sizzles', 'ravings', 'sycamore', 'crashes', 'range', 'wasteland', 'earths', 'retirement', 'arising', 'relationshipthats', 'skateboarding', 'gloves', 'enamored', 'handler', 'nicolas', 'invites', 'vesuvius', 'bigscreen', 'graduated', 'sr', 'simbu', 'defeat', 'overweight', 'investigates', 'developer', 'hopes', 'contents', 'gretel', 'loaded', 'eligible', 'closet', '1994', 'madly', 'criminals', 'memory', '16', 'panem', 'greece', 'urbane', 'willful', 'mole', 'tims', 'manmade', 'religion', 'adept', 'halleys', 'enjoyed', 'fearing', 'illustrate', 'elite', 'dane', 'bat', 'afoul', 'natured', 'boisterous', 'courtesan', 'sinai', 'roxy', 'increases', 'exgangster', 'socially', 'calorifically', 'fought', 'responded', 'phoenix', 'snowed', 'soon', 'russ', 'offing', 'targets', 'welles', 'intending', 'groomtobe', 'mckay', 'heights', 'faurschouhviid', 'aged', 'j', 'hitchcockian', 'approaches', 'inn', 'longterm', 'bly', 'gestapo', 'defying', 'la', 'closure', 'stripes', 'number', 'kicked', 'paper', 'anderson', 'eternal', 'megaforce', 'bender', 'domestic', 'attending', 'gissing', 'revolutionist', 'poison', 'bump', 'bursting', 'jeopardizes', 'bush', 'depicts', 'destroying', 'sleazy', 'haddonfield', 'zaara', 'octogenarian', 'writes', 'galleon', 'answer', 'unwitting', 'scholarship', 'hannon', 'remake', 'rumor', 'ambiguous', 'chastity', 'croods', 'giants', 'maine', 'skills', 'void', 'fifth', 'banished', 'wrapped', 'vacation', 'nickleby', 'brings', 'enemies', 'biologist', 'executives', 'interpreter', 'reclaim', 'chapter', 'dan', 'pioneer', 'lenny', 'deplorable', 'virginity', 'pronto', 'megaswanky', 'products', 'cyberbuddy', 'swoffords', 'capra', 'goes', 'late', 'biancas', 'tormenta', 'borg', 'billionaire', 'forks', 'handymen', 'fantasies', 'tariqs', 'sgt', 'chumscrubber', 'regula', 'boondocks', 'turns', 'software', 'gaz', 'alcohol', 'heep', 'enigmatic', 'billion', 'collective', 'wire', 'disoriented', 'evans', 'barbara', 'morrison', 'siddig', 'command', 'chaos', 'skillfully', 'gamilons', 'trade', 'gentility', 'jazz', 'manipulate', 'serpent', 'asia', 'victims', 'defects', 'knock', 'les', 'large', 'abolition', 'courier', 'unintentionally', 'rugged', 'killings', 'grips', 'marcella', 'wong', 'safe', 'sarchie', 'lobbyist', 'mentors', 'musketeers', 'macedonia', 'dimas', 'manhunter', 'chinese', 'fixer', 'scariest', 'influence', 'character', 'irwin', 'pérez', 'prefame', 'exactly', 'prynne', 'rescuechopper', 'dimwits', 'alien', 'wolfe', 'foster', 'sadie', 'venture', 'booth', 'gettogether', 'marines', 'given', 'strip', 'claudia', 'scout', 'therapist', 'hit', 'chicken', 'hook', 'garrison', 'can', 'captain', 'simple', 'rhyme', 'theresa', 'artificial', 'desire', 'desperately', 'orphaned', 'hairdo', 'year', 'arabs', 'journalist', 'evokes', 'youre', 'magician', 'cleveland', 'vowing', 'extreme', 'railroad', 'profoundly', 'maintains', 'mogul', 'frustrations', 'prostitute', 'sells', '2058', 'babylon', 'evildoers', 'hogg', 'topsecret', 'kenner', 'ago', 'sunglasses', 'domesticated', 'sal', 'intent', 'danielle', 'riot', '1882', 'pianist', 'portlandbased', 'luxury', 'choices', 'daytime', 'chases', 'fitting', 'vorhees', 'wren', 'shootout', 'aide', 'architect', 'operator', 'exchanges', 'highlands', 'heroes', 'mistrust', 'struggles', 'superpowers', 'dragons', 'equal', 'bennell', 'above', 'belgium', 'peyton', 'townspeople', 'tatooine', 'sosuke', 'darkroom', 'curmudgeon', 'lifelong', 'silverton', 'engineer', 'disease', 'racoon', 'wasey', 'macy', 'irresponsible', 'clubs', 'twotime', 'cartoonist', 'bumbling', 'rafferty', 'nonvampire', '5000', 'donate', 'thirties', 'gotemba', 'surveillance', 'crooked', 'cheeseloving', 'destinies', 'haley', 'vic', 'decisions', 'oldfashioned', 'scale', 'payback', 'saves', 'eighties', 'steel', 'navigates', 'inside', 'fruitless', 'massacre', 'globodyne', 'sidekick', 'stephen', 'cantilini', 'gadgets', 'alto', 'expect', 'update', 'everyday', 'claim', 'decisive', 'gained', 'jane', 'norah', 'environmentalist', 'rehab', 'thorndyke', 'needed', 'gathering', 'rabbit', 'marshals', 'coaxed', 'veterinary', 'april', 'lust', 'wildly', 'mormon', 'to', 'our', 'band', 'dallas', 'gunfighter', 'walker', 'return', 'share', 'mona', 'encyclopedia', 'towards', 'turing', 'bob', '2000yearold', 'unpopular', 'miri', 'marital', 'global', 'hottest', 'moms', 'setup', 'divas', 'outsiders', 'helfgott', 'despondent', 'chris', '1970s', 'riding', 'uk', 'suggests', 'foreign', 'exminor', 'latheoperator', 'audrey', 'contest', 'raped', 'goody', 'jennings', 'aqua', 'rick', 'wasnt', 'packard', 'williams', 'connection', '1836', 'richardson', 'searches', 'lac', 'bobbie', 'patti', 'racially', 'originated', 'zones', 'dinah', 'appliances', 'undesirable', '10yearold', 'defiant', 'handsome', 'rice', 'image', 'lowlevel', 'guardian', 'describes', 'racing', 'pigeon', 'rabblerouser', 'blanchard', 'al', 'whitacre', 'alcatraz', 'admits', 'firefighter', 'submarines', 'receiver', 'orders', 'fiorina', 'surviving', 'cheerful', 'antiapartheid', 'uneasy', 'ernest', 'drina', 'possibility', 'meadows', 'counterterrorism', 'collegescholarship', 'longfellow', 'baker', 'hedge', 'sloane', 'troublemaker', 'women', 'candies', 'repeat', 'friendsfledgling', 'fionas', 'oppressiveness', 'mothership', 'breathless', 'remark', 'partnered', 'fielder', 'archaeologist', 'anglican', 'language', 'tigers', 'consuming', 'representatives', 'continuation', 'cortner', 'unchecked', 'intertwine', 'deborah', 'mutation', 'criminal', 'rosanna', 'gigli', 'lastditch', 'collegeage', 'habitats', 'actuary', 'length', 'valentines', 'applies', 'spain', 'bartlett', 'saga', 'part', 'duran', 'rival', 'dea', 'instant', 'keeble', 'talented', 'hawaiian', 'revengeforhire', 'own', 'canada', 'pool', 'million', 'allout', 'intertwines', 'averill', 'sly', 'drags', 'ronny', 'enders', 'stepped', 'repressed', 'phenomena', 'unsatisfied', 'donald', 'japanese', 'upstairs', 'luxuriantly', 'mariane', 'fear', 'slipping', 'episodes', 'federal', 'westley', 'beast', 'paint', 'impressions', 'isles', 'brilliant', 'circus', 'blessed', 'clique', 'develop', 'juli', 'grove', 'competes', 'treat', 'souza', 'humorous', 'pact', 'recruited', 'pl', '1931', 'frenemies', 'mentallychallenged', 'rats', 'fears', '39', 'redheaded', 'phillips', 'diablo', 'abducts', 'badder', 'wood', 'uts', 'jade', 'ill', 'only', '16th', 'gumshoe', 'bout', 'warriors', 'turtle', 'issue', 'boston', 'launched', 'petits', 'banky', 'predicament', 'lanie', 'youtube', 'screenwriter', 'implies', 'spy', 'row', 'deeds', 'directed', 'bakshi', 'swath', 'detective', 'overjoyed', 'shark', 'storybook', 'burbank', 'gentlemen', 'munich', 'episcopal', 'nursed', 'sloth', 'damon', 'upon', 'dent', 'erase', 'decommissioned', 'debt', 'soren', 'entourage', 'sharpshooter', 'motivational', 'concerns', 'too', '1630s', 'boov', 'daniels', 'states', 'notoriously', 'fathered', 'obstacles', 'misfit', 'neuroses', 'doting', 'leave', 'autodesign', 'mid1980s', 'mountainside', 'jeandominique', 'artie', 'pledging', 'strictly', 'jakes', 'micheners', 'limitless', 'secured', 'drought', 'blacklisted', '74th', 'kline', 'hunting', 'baptist', 'reign', 'fugitives', 'jewelheist', '1215', 'evolves', 'telephone', 'vada', 'hotdog', 'idea', 'henstridge', 'desolation', 'imperial', 'bratty', 'secluded', 'familiar', 'diane', 'kampenfelt', 'amok', 'reel', 'already', 'madcap', 'drivers', 'killer', 'algeria', 'harness', 'sublimated', 'trickle', 'antiheroine', 'headmasters', 'truckload', 'teams', 'ensemble', 'rude', 'dinosaurs', 'famed', 'retrieve', 'rdivision', 'neighbor', 'shipyard', 'duck', 'starter', 'silverado', 'model', 'formidable', 'focus', 'robots', 'emigration', 'try', 'krank', 'allfemale', 'klingon', 'breslin', 'dominance', 'unexplainable', 'spats', 'sant', 'schram', 'galen', 'cheap', 'drive', 'edgar', 'viewer', 'rainbow', 'pick', 'organizes', 'enronesque', '800000', 'wilson', 'fiancee', 'apples', '1986', 'patricios', 'veers', 'expert', 'mahowny', 'establishment', 'boyz', 'segment', 'bretter', 'ramses', 'zombies', 'expected', 'industries', 'brave', 'ryan', 'looking', 'sparks', 'known', 'mercenary', 'hits', 'fountain', 'leaders', 'cucumber', 'urge', 'playa', 'ahluwalia', 'intense', 'trumpet', 'lucas', 'zealand', 'separated', 'lean', 'actress', 'line', 'delano', 'petersen', 'vermillion', '15', 'monogamy', '7', 'mutt', 'kris', 'sophie', 'rid', 'capsized', 'sandra', 'selena', 'exstripper', 'keep', 'allamerican', 'electronics', 'launch', 'demigod', 'nameless', 'thunderbirds', 'mundis', 'murdering', 'woodsboro', 'anakin', 'abused', 'incarcerated', 'narrator', 'background', 'sir', 'checks', 'flavor', 'petes', 'construction', 'hires', 'mourning', 'usedcar', 'dagenham', 'merchantivory', 'cameroon', 'hire', 'closeknit', 'sedan', 'grave', 'occasional', 'regina', '2047', 'escaped', 'riddick', 'tied', 'deceptively', 'obannon', 'obscure', 'sympathies', 'welsh', 'lithuanian', 'writerdirector', 'pristine', 'stanley', 'afflicted', 'arn', 'dondup', 'palm', 'ti', 'handedly', 'kari', 'unleash', 'homicide', 'connery', 'robbie', 'conartist', 'form', 'forgiveness', 'hank', 'heavily', 'luis', 'premed', 'hackman', 'reddy', 'regions', 'photos', 'effect', 'beat', 'gigantic', 'liz', 'spits', 'drugaddicted', 'club', 'live', 'renee', 'martel', 'oldest', 'lebowski', 'crash', 'miley', 'naomi', 'hollywood', 'question', 'nomi', 'reach', 'naive', 'pursued', 'emotionallybeaten', 'mcgrath', 'jacqueline', 'teen', 'brody', 'dive', 'iii', 'meeting', 'nice', 'heads', 'santas', 'employer', 'secondhand', 'hannigan', 'custom', 'karenina', 'defy', 'pottymouthed', 'mankind', 'clownfish', 'images', 'bride', 'provence', 'hilarity', 'thriller', 'frantically', 'vacances', 'yorkshire', 'frankensteins', 'stone', 'sinister', 'torrance', 'based', 'master', 'looney', 'kathryn', 'late1960s', '14', 'gardener', 'verbal', 'beds', 'mafia', 'siblings', 'feds', 'taking', 'glory', 'truth', 'antiques', 'snatch', 'ice', 'ensues', 'awarded', 'allow', 'watts', 'los', 'headlong', 'centered', 'onthelam', 'backgrounds', 'tale', 'indianborn', 'involuntarily', 'erupt', 'rochester', 'tunnel', 'imf', 'shere', 'playground', 'garrigan', '1949', 'brian', 'editor', 'whatever', 'ilich', 'difficult', 'port', 'willard', 'suitable', 'frida', 'free', 'plussized', 'timid', 'twilight', 'interracial', 'cruel', 'experts', 'mcqueen', 'omegas', 'boi', 'busy', 'love', 'ive', 'springer', 'rise', 'chenery', 'whim', 'turaqistan', 'decided', 'visits', 'lie', 'unravel', 'magneto', 'maskedman', 'prescott', 'discovered', 'jones', 'began', 'inseparable', 'cell', 'cannister', 'enthusiasm', 'waves', 'secretary', 'heron', 'highman', 'giselle', 'ready', 'dialogue', 'end', 'investigators', 'citron', 'lawrence', 'parachuted', 'inhabits', 'catacombs', 'brennan', 'husbands', 'handling', 'longplanned', 'exhigh', 'starcrossed', 'freedom', 'ruins', 'midlife', 'amnesia', 'maximillian', 'planned', 'bunch', 'prosecutor', 'stetko', 'persistent', 'homemaker', 'fire', 'starr', 'rescued', 'sidney', 'cnn', 'conner', 'nerdy', 'loner', 'terrorist', 'freddys', 'politicians', 'victim', '70s', 'lips', 'medals', 'finding', 'peasant', 'rig', 'marianne', '16yearold', 'roots', 'decameron', 'mildmannered', 'nam', 'marlee', 'unfairly', 'zboys', 'impossible', 'procedure', 'nome', 'investigation', 'françois', 'dina', 'dislike', 'monks', 'plots', 'lees', 'floating', 'wings', 'deadbeat', 'hatchling', 'pregnancy', 'matters', 'terrorized', 'grows', 'bedraggled', 'discovers', 'mange', 'obligation', 'jersey', 'princeton', 'monstrous', 'vaccine', 'secretly', 'discusses', 'orb', 'moonshinerunning', 'bronson', 'sorts', 'paroled', 'pupil', 'parttime', 'assigned', 'scene', 'heading', 'achieved', 'zone', 'collect', 'pimp', 'sulley', 'redeye', 'accidentally', 'wreckit', 'refer', 'student', 'rubbles', 'chronicles', 'shortly', 'nacho', 'haunt', 'rack', 'freshman', '15yearold', 'clever', 'diverting', 'rough', 'evita', 'thunder', 'aquarium', 'mediocre', 'munna', '2009', 'mammoth', 'prepared', 'lounge', 'exasperated', 'alternate', 'tour', 'natural', 'motel', 'brash', 'joker', 'offduty', 'mccandless', 'daughterinlaw', 'interview', 'realitytv', 'ante', 'differering', 'editors', 'polar', 'gaudy', 'evil', 'nomads', 'final', 'eradicating', 'director', 'will', 'tobe', 'hitandrun', 'prompting', 'cryptanalyst', 'unlikely', 'bosnia', '1997', 'jock', 'brown', 'mundanity', 'avengers', 'grizzly', 'griff', 'broadcast', '24hour', 'tripp', 'lines', 'eminent', 'don', 'yi', 'medical', 'uruguayan', 'witchhunts', 'are', 'rapoport', 'agent', 'flynn', 'late21st', 'toward', 'wizard', 'dwarfs', 'physical', 'profiler', 'centuries', 'arena', 'recognized', 'unknowingly', '13', 'edie', 'sparky', 'raju', 'attorney', 'anthropologist', 'tables', 'mandela', 'presentará', 'influential', 'else', 'dias', 'boat', 'diaz', 'ogre', 'egos', 'tiger', 'ahkmenrah', 'delinquents', 'psychology', 'unlike', 'met', 'mountains', 'u2s', 'conclusion', 'enabling', 'jet', 'zed', 'matrix', 'spree', '1991', 'cantones', 'helmed', 'refers', 'eduardo', 'prison', 'luigi', 'ramirez', 'highend', 'crates', 'hills', 'scorseses', '7th', 'thin', 'copes', 'ahmad', 'fails', 'romeo', 'otherworld', 'friar', 'hurdles', 'lying', 'transcendence', 'penny', 'traps', 'mcginty', 'teacher', 'humiliated', 'dense', 'session', 'few', 'attracts', 'cnote', 'information', 'aquatica', 'behind', 'trilogy', 'named', 'spotted', 'assistance', 'bolivia', 'chang', 'scotland', 'speech', 'marthas', 'pirate', 'ivorys', 'colleague', 'boss', 'nicaraguan', 'my', 'existed', 'widow', 'excia', 'bureaucrat', 'mullet', 'want', 'wield', '51', 'among', 'sucked', 'irving', '54year', 'piece', 'mikael', 'bingham', 'mystery', 'happenin', '14year', 'lowrey', 'uncertain', 'kok', 'upstanding', 'townsend', 'representing', 'archenemy', 'crafted', 'heist', 'science', 'sean', 'tomboy', 'dust', 'selfdestruction', 'jim', 'continue', 'beaumont', 'redmond', 'kungfu', 'aditya', 'stepbrother', 'refuge', 'missionary', 'super8', 'employs', 'summerhouse', 'request', 'roland', 'sub', 'jamaican', 'porch', 'ellies', 'witness', 'crate', 'skate', 'womens', 'distribute', 'trapped', 'confinement', '9foottall', 'tankriding', 'thoughtless', 'infilitrates', 'stus', 'babe', 'smokey', 'metro', 'harbors', 'stylish', 'paraplegic', 'mission', 'neutron', '48', 'prejudices', 'musicians', 'careermaking', 'iran', 'able', 'searching', 'callous', 'infamous', 'direct', 'muscles', 'molly', 'chin', 'allegation', 'trooper', 'minnesota', 'scheduled', 'judges', 'foremost', 'vaudeville', 'responsible', 'kiss', 'presence', 'belonging', 'hatred', 'maniac', 'foil', 'headquarters', 'hume', 'joba', 'it', 'sorcerer', 'duchess', 'potent', 'toy', 'horty', 'reservation', 'ruth', 'contacts', 'rannulph', 'driscoll', '1965', 'grown', 'oversize', 'lina', 'then19yearold', 'stokers', 'robbery', 'huntington', 'adoration', '5year', 'whitaker', 'marni', 'zorin', 'gorgeous', 'téchiné', 'carolla', 'aggies', 'responsibility', 'capture', 'runaway', 'deadpool', 'hartley', 'undeniably', 'aokigahara', 'promotes', 'caffery', 'backyard', 'highflying', 'irina', 'kearns', 'blank', 'assaulting', 'connor', 'morgan', 'harry', 'navigate', 'sudden', 'stale', 'area', 'explain', 'wilsons', 'apply', 'tenacious', 'slovenly', 'warfare', 'historical', 'gusto', 'instead', 'dispatched', 'came', 'engagement', 'individual', 'driver', 'trovillion', 'additions', 'organfinancing', 'camera', 'firestorm', 'yorks', 'camping', 'starsuckers', 'jasmine', 'donations', 'quartet', 'vault', 'associate', 'henry', 'lifelike', 'affectionate', 'punished', 'narrates', 'grouchy', 'joey', 'folks', 'arkanar', 'rolling', 'folds', 'dater', 'lamebrained', 'decide', 'virginia', '19261929', 'astoria', 'destined', 'imagination', 'gayle', 'recall', 'massmurderer', 'compilation', 'supernova', 'adjani', 'tvstar', 'libre', 'unfaithful', 'christians', 'johnathan', 'actor', 'firebreathers', '6yearold', 'pevensie', 'breakfast', 'slated', 'sanborn', 'speak', 'defends', 'soontobe', 'controls', 'neilson', 'spins', 'idol', 'heathcliff', 'reagan', 'university', 'eroticism', 'drowning', 'mother', 'unemployed', 'lewis', 'hoffman', 'snowboarding', 'phony', 'allergyridden', 'duarte', 'perraults', 'display', 'insomnia', 'kidnappers', 'worlds', 'compound', 'delmonico', 'hostile', 'expatriate', 'scandal', 'kruger', 'diesel', 'psychic', 'partners', 'amir', 'sailors', 'devito', 'gay', 'honeymoon', 'wave', 'investment', 'concoct', 'highland', 'aloof', 'barely', 'pastor', 'inner', 'couldnt', 'gonowhere', 'taber', 'mali', 'underachiever', 'strikes', 'trucker', 'trekking', 'stiff', 'lorry', 'antarticas', 'hungry', 'chipmunks', 'hijacker', 'underground', 'suburbanites', 'popeye', 'perspectives', 'theft', 'staged', 'enjoying', 'paralympic', 'megacorporation', 'squid', 'mr', 'parisian', 'coral', 'homocide', 'chef', 'atrisk', 'encounters', 'darkly', '1979', 'sydney', '2000', 'solid', 'reallife', 'superstore', 'civilian', 'personal', 'katy', 'archaeologists', 'cure', 'ip', 'tuck', 'unexiting', 'bronze', 'scraping', 'stray', 'hitman', 'autobots', 'strike', 'baileygates', 'couple', 'scot', 'informant', 'harassed', 'default', 'faster', 'cats', '100000', 'opposed', 'halfsicilian', 'divorced', 'awakens', 'whisked', 'frontal', 'down', 'susanna', 'stretch', 'debbie', 'taybacks', 'allgirls', 'digger', 'sampedro', 'imposed', 'amends', 'ted', 'grimbridge', 'moores', 'anger', 'tickets', 'aircraft', 'highprofile', 'depiction', 'langley', 'quote', 'lilya', 'flower', 'gabrielle', 'survivors', 'en', 'tulip', 'golfer', 'stalks', 'fuentes', 'violent', 'us', 'encourages', 'violating', 'malby', 'main', 'afar', 'michel', 'cache', 'amanda', 'lil', 'rewind', 'inchon', 'reede', 'stine', 'familial', 'melted', 'whenever', 'bittersweet', 'ohara', 'video', 'tragedy', 'recovery', 'duffy', 'chihuahua', 'invisibly', 'communist', 'narrative', 'actions', 'greedy', 'nola', 'heiress', '180', 'showdown', 'byrnes', 'run', 'elusive', 'groberg', 'brownstones', 'satan', 'luke', 'authority', 'youths', 'god', 'disturbing', 'plump', 'audience', 'boris', 'adaline', 'mayweather', 'gromit', 'terminated', 'experiences', 'te', 'luck', 'assistant', 'stronghold', 'ab', '26', 'e', 'fiasco', 'trainload', 'hurtling', 'buddies', 'jamie', 'watching', 'explains', 'electronic', 'gunman', 'yacht', 'easy', 'think', 'bowler', 'errand', 'psychiccon', 'work', 'homeland', 'ego', 'countrys', 'parts', 'rights', 'yearround', 'ripleys', 'marx', 'orange', 'enslaved', 'runs', 'galaxina', 'unwilling', 'davidsons', 'him', 'rising', 'smile', 'unruly', 'etta', 'really', 'prefers', 'forster', 'mary', 'academic', 'hartnett', 'heinrich', 'hamburgs', 'approach', 'speckles', 'grow', 'legions', 'generous', 'cape', 'interlocking', 'tales', 'wheelchair', 'thirty', 'towns', 'anonymous', 'dean', 'hawk', 'nickle', 'stranger', 'delve', '1990', 'interviews', 'mcdermott', 'irons', 'seeks', 'loathsome', 'mainstream', 'casual', 'czar', 'fanatical', 'dutch', 'cecelia', 'which', 'noise', 'amity', 'divorces', 'boyhood', 'flourishing', 'stuck', 'eventual', 'levels', 'talentless', 'succumbs', 'comradesto', 'switch', 'bowie', 'brokenhearted', 'emma', 'foolish', 'athletics', 'california', 'triggers', 'zach', 'outwitting', 'mop', 'throw', 'meadow', 'doublecross', 'neighboring', 'trader', 'larger', 'everything', 'first', 'odyssey', 'force', 'pizzeria', 'klump', 'ecks', 'jobless', 'hitting', 'sentenced', 'exconvict', 'quentin', 'singlemindedly', 'basket', 'rescues', 'different', '1960s', 'sneaks', 'duty', 'un', 'detectives', 'cary', 'halfirish', 'preparation', 'felix', 'johansson', 'eaten', 'superheroes', 'unnamed', 'skip', 'reason', 'mercy', 'latino', 'culture', 'womenloving', 'dominatrixes', 'populace', 'evict', '307am', 'storks', 'voices', '117', 'shiwan', 'hundreds', 'pitch', 'twisted', 'trevor', 'novalee', 'full', 'depart', 'vickers', 'while', 'male', 'richman', 'started', 'warmer', 'divisions', 'cataclysmic', 'sethis', 'strained', 'deciding', 'researching', 'unethical', 'eighteenthdynasty', 'seattle', 'neverland', 'catholics', 'overcome', 'pratap', 'practiced', 'faction', 'overcomes', 'fitzgerald', 'temple', 'reencounters', 'forte', '18', 'frontiersman', 'gauntlet', 'transit', 'magdalenas', 'interestset', 'invoices', 'bahia', 'southside', 'jamal', 'jewishamerican', 'porto', 'delight', 'patricks', 'poignant', 'ambivalence', 'sync', 'pulls', 'sit', 'permitted', 'troopers', 'electrifying', 'clocks', 'patient', 'darren', 'discuss', 'buchenwald', 'rated', 'regarded', 'laman', 'innocuous', 'sees', 'sacred', 'flown', 'unfolds', 'west', 'teaches', 'pinnacle', 'creeds', 'limousine', 'abortion', 'prom', 'jarhead', 'andys', 'epic', 'neat', 'thirteen', 'beautifully', 'aging', 'possess', 'push', 'mentor', 'ash', 'likeness', 'emperor', 'uncover', 'frazier', 'jobs', 'lifts', 'larusso', 'community', 'control', 'colony', 'rumored', 'solves', 'freddie', 'roaring', 'figures', 'doll', 'connect', 'juveniles', 'circles', 'marvin', 'latin', 'helena', 'bassett', 'strips', 'junkie', 'enforcer', 'boyd', 'spokesmans', 'suburbs', 'cult', 'purchases', 'sanity', 'devonshire', 'mounting', 'kids', 'carlo', 'boxoffice', 'livelihood', 'weebo', 'jacq', 'burgerloving', 'stockburn', '80s', 'hippie', 'clan', 'shagadelic', 'leonard', 'dashing', 'magical', 'bad', 'unfinished', 'bomb', 'regional', 'exorcised', 'leisurely', 'seymour', 'yazoo', 'indian', 'enjoy', 'turtles', 'stickell', 'shared', 'stealing', 'tires', 'memories', 'murphy', 'broome', 'socialize', 'boxing', 'rarelyseen', 'surgery', 'cage', 'icon', 'rejects', 'summit', 'apes', 'worldrenowned', 'accepted', 'service', 'quaid', 'ishiguro', 'tested', 'recovered', '911', 'haunting', 'commerce', 'socialism', 'trash', 'morning', '100', 'freespirited', 'tobacco', 'leukemia', 'redacted', 'mouse', 'rodman', 'murdered', 'pivotal', 'might', 'orin', 'financially', 'allergies', 'youd', 'performerturnedsnitch', 'brigham', 'build', 'leia', 'choirs', 'krishna', 'kaine', 'andersons', 'stop', 'horde', 'laser', 'saintpierre', 'introverted', 'object', 'munny', 'roger', 'newer', 'gladiator', 'lottery', 'celebrity', 'deep', 'comatose', 'invent', '1946', 'nikki', 'eisenberg', 'germany', 'stryker', 'cryostasis', 'associative', 'contemplates', 'gallerist', 'rivers', 'oversized', 'cynically', 'trost', 'frontier', 'skylark', 'kaffee', 'commonplace', 'amusing', 'dana', 'generates', 'princess', 'hatchet', 'melvin', 'aviv', 'he', 'jenny', 'selene', 'shelley', 'villains', 'scissors', 'games', 'seems', 'story', 'fact', 'corvin', 'riddler', 'charlotte', 'sunset', 'hassled', 'pigeons', 'benniganslike', 'merely', 'holds', 'exiled', 'thousand', 'group', 'magically', 'reggie', 'explodes', 'walking', 'normal', '18yearold', 'constant', 'photographed', 'alagaesia', 'smart', 'pesci', 'draven', 'unimaginable', 'zohres', 'substance', 'hijackers', 'coraline', 'bryan', 'employ', 'we', 'jeanclaude', 'served', 'trust', 'idealists', 'eris', 'lioncourt', 'jilting', 'abstraction', 'biological', 'booked', 'alienated', 'huntergatherers', 'errol', 'shaky', 'spurs', 'drastic', 'escadrille', 'glengarry', 'eponymous', 'enrolls', 'mafias', 'funeral', 'returned', 'livein', 'niki', 'lords', 'laidback', 'pennys', 'momma', 'nottingham', 'exists', 'eluded', 'swanson', 'and', 'fissure', 'rodgers', 'air', 'tromaville', 'mindy', 'veronika', 'hear', 'woo', 'cyruss', 'nina', 'cousins', 'cup', 'focused', 'celestine', 'davis', 'yeh', 'khan', 'britt', 'gillen', '1925', 'blower', 'maryland', 'bomber', 'resurrection', 'superstars', 'harts', 'biggest', 'aware', 'geek', 'easily', 'american', 'windsor', 'pressure', 'maori', 'tv', 'ii', 'mac', 'viral', 'path', 'shipped', 'texan', 'andy', 'order', 'vu', 'babbitts', 'greatnephew', 'superman', 'steve', 'sold', 'upperclass', 'jb', 'thanksgiving', 'sundance', 'gas', 'cute', 'immigration', 'butthead', 'assassination', 'crimes', 'reminisces', 'fiedlers', 'schnabel', 'letters', 'local', 'players', 'envelope', '1880s', 'infiltrating', 'sagdiyev', 'folman', 'invisible', 'manchild', 'saving', 'salvage', 'engraved', 'naval', 'borat', 'bachelor', 'toxic', '40', 'dumb', 'drone', 'growing', 'merry', 'buzz', 'hardup', '007', 'rhymes', 'jansen', 'tainted', 'till', 'voorhees', 'rich', 'fate', 'sailing', 'ida', 'acre', 'triple', 'happen', 'leaves', 'subjects', 'account', 'dress', 'slavelike', 'hundred', 'fighters', 'fishman', 'castaway', 'shooting', 'affable', 'apple', 'nun', 'dents', 'copperbottom', 'bengallas', 'exceptionally', '9', 'deception', 'dreams', 'fortune', 'outskirts', 'einar', 'souls', '66', 'homer', 'fermanagh', 'györgy', 'confiscating', 'gathers', 'beloved', 'beard', 'relocate', 'brewing', 'uncovers', 'barons', 'social', 'cox', 'ostensibly', 'bay', 'returning', 'consequences', 'ratner', 'dealings', 'guest', 'onset', 'ambassadors', 'thinks', 'keller', 'husbandandwife', 'caddy', 'pennsylvania', 'militarized', 'finances', 'hurtle', 'studio', 'delacroix', 'warren', 'virtual', 'fine', 'collapsed', 'assailant', 'pot', 'meanwhile', 'berlins', 'wishgranting', 'rage', 'count', 'ivy', 'hacker', 'caribbean', 'kent', 'ignores', 'warped', 'sunk', 'carpenter', 'subway', 'overcoming', 'dreamz', 'mixture', 'bloodthirsty', 'tahoe', 'bumpy', 'flying', 'déjà', 'tobi', 'buenos', 'lure', 'mayhem', 'fight', 'resist', 'shipwrecks', 'notsotypical', 'fairytale', 'bass', 'cool', 'surrounded', 'scours', 'strong', 'abilities', '1839', 'commando', 'yoga', 'baader', 'libidodriven', 'briggs', 'explosive', 'formation', 'storylines', 'ahead', 'wedding', 'complicated', 'harrer', 'closed', 'ricky', 'original', 'state', 'annies', 'site', 'slave', 'open', 'fury', 'create', 'believes', 'nabbed', 'prequel', 'pendant', 'syriana', 'dot', 'result', 'interpol', 'bodly', 'sting', 'france', 'counter', 'trial', 'wilbur', 'fabulous', 'water', 'trauma', 'hushpuppy', 'devices', 'answering', 'upright', '1831', 'seeing', 'allies', 'junuh', 'rancor', 'kindhearted', 'paradise', 'dre', 'franciscos', 'her', 'chiltern', 'malcolm', 'adultery', 'continent', 'inexperienced', 'hinds', 'overseas', 'denied', 'illiterate', 'gulliver', 'kint', 'idealistic', 'bucky', 'residents', 'marisa', 'promoter', 'creature', 'spirit', 'cinema', 'anthropomorphic', 'islamic', 'sara', 'paralyzed', 'viciously', 'intends', 'tasmin', 'splash', 'voyeur', 'weather', 'establish', 'mcgee', 'blissful', 'verify', 'mediterranean', 'tarzan', 'subculture', 'than', '200', 'reconnaissance', 'louvre', 'palace', 'irma', 'romance', 'dupree', 'fenderbender', 'twentysomethings', 'clowing', 'slip', 'branding', 'reworking', 'bhamra', 'art', 'falls', 'care', 'operating', 'pals', 'converge', '1520s', 'midnight', 'awardwinning', 'trap', 'cargo', 'sergeant', 'affair', 'biblequoting', 'warden', 'surrounds', 'hilarious', 'leadership', 'professional', 'infiltrated', 'americanborn', 'fidgety', 'choosing', 'squeegee', 'oilrich', 'switchblade', 'norway', 'fend', 'basement', 'shocking', 'leads', 'aviation', 'vera', 'alvy', 'deadheadturnedborn', 'reached', 'krueger', 'eager', 'occupied', 'paycheck', 'julia', 'downonhis', 'see', 'movement', 'braden', '4th', 'completely', 'victorian', 'dalton', 'berlin', 'climate', 'rises', 'amid', 'dome', 'sick', 'your', '35', 'apparently', 'missed', 'simultaneous', 'scarred', 'aibileen', 'terrier', 'steal', 'visiting', 'heffley', 'transported', 'racer', 'fast', 'reaction', 'essentially', 'archaeological', 'done', 'clients', 'friendship', 'olfactory', 'brothel', 'japans', 'interest', '1984', 'endlessly', 'spocks', 'kingsleigh', 'dinner', 'sailboat', 'chineseamerican', 'pursue', 'dramatization', 'ainu', 'hutch', 'courtier', 'persuaded', 'rash', 'maynard', 'karaoke', 'vessel', 'fw', 'dated', 'mouthed', 'academy', 'hardboiled', 'mariachi', 'shops', 'undefeated', 'sensitive', '6thcentury', 'fellowship', 'jockey', 'hates', 'kham', 'seizes', 'obsessive', 'renovating', 'goal', 'alzheimers', 'projectionist', 'lowry', 'qualities', 'error', 'anesthetic', 'museums', 'scarlet', 'housed', 'fraternity', '1993', 'purchase', 'expo', 'compiles', 'wheelerdealer', 'noni', 'sophisticated', 'revolutionize', 'solutions', 'despite', 'schlickmann', 'mountaineers', 'stitches', 'fulltime', 'lois', 'completing', 'loving', 'special', 'guantanamo', 'front', 'remy', 'exboyfriend', 'tilen', 'coincides', 'spokane', 'jonathan', 'gilkyson', 'phil', 'bryant', 'slippery', 'asbestos', 'wanting', 'ofelia', 'smartass', 'plucked', 'hijack', 'terrestrial', 'glendon', 'week', 'wireless', 'radiation', 'farewell', 'gandalf', 'unsuccessful', 'newlyformed', 'hamm', 'zhao', 'ettas', 'd', 'ant', 'downtown', 'mcdowell', 'portal', 'nickname', 'stakes', 'defend', 'jake', 'bargain', 'prehistoric', 'komplex', 'noonan', 'eden', 'firefox', 'aspiring', 'mark', 'enlarged', 'hugh', 'disability', 'johnson', 'sleepy', 'status', 'difficulties', 'nephew', 'lift', 'from', 'algren', 'junior', 'heard', 'theodore', 'core', 'patric', 'darin', 'bears', 'plucks', 'headstrong', 'blade', 'endear', 'wikipedia', 'opiumdealing', 'supposed', 'strange', 'macneil', 'tradeunion', 'amadeo', 'pi', 'aid', 'championship', 'midteens', 'jep', 'nose', 'approached', 'struggling', 'enters', 'extra', 'straight', 'cartoon', 'jigsaw', 'lobel', 'nightly', 'buddy', 'rads', 'establishes', 'eccentric', 'batiste', 'dm', 'cowardly', 'cold', 'transform', 'leagues', 'pandid', 'vetters', 'arbus', 'swindle', 'holmes', 'evolved', 'sg1', 'sai', 'moody', 'pond', 'amiable', 'downstairs', 'knights', 'goode', 'abstract', 'documentary', 'lands', 'sherlock', 'sparked', 'bungled', 'hansen', 'ling', 'difficulty', 'zion', 'moneylaundering', 'flor', 'invitation', 'london', 'daley', 'revelations', 'scrupulously', 'highspirited', 'chair', 'makes', 'rea', 'consulting', 'chaperon', 'raucous', 'listless', 'dwarfism', 'disappears', 'shady', 'prizefighter', 'lowlifes', 'talents', '30year', 'following', 'strain', 'trials', 'keane', 'material', 'hidden', 'tiber', 'liar', '28', 'oscars', 'maire', 'julian', 'hobbies', 'muir', 'completed', 'zeusis', 'marked', 'coming', 'innocent', 'wesley', 'awakening', 'hormones', 'cameraman', 'darkness', 'alatriste', 'cleaner', 'lili', 'sinking', 'enchantingly', 'monterrey', 'wyoming', 'unnoticed', 'anil', 'ultra', 'experiencing', 'clues', 'installed', 'canine', 'peruvian', 'wrote', 'kaysens', 'blood', 'scientists', 'enforcement', 'behrani', 'cambodia', 'qualified', 'ohio', 'daring', 'gordone', 'volunteers', 'horrorthriller', 'cuba', 'undergo', 'natasha', 'gravely', 'holding', 'vicious', 'futuristic', 'feuding', 'gus', 'illfated', 'crazy', 'mel', 'warming', 'moss', 'siege', 'nosed', 'jung', 'hand', 'kenton', 'single', 'chronological', 'sicklysweet', 'centre', 'diabolical', 'sergio', 'carla', 'palo', 'devout', 'exert', 'popstar', 'police', 'murron', 'hip', 'vast', '1910', 'individuals', 'descended', 'raoul', 'woes', 'reflects', 'absolute', 'baymax', 'determined', 'idaho', 'wes', 'countrywide', 'aliens', 'outrunning', 'priests', 'diplomats', 'duo', 'blithe', 'chasing', 'alluring', 'slums', 'meets', 'smear', 'pierrot', 'gaurav', 'at', 'sail', 'gore', 'vance', 'compulsively', 'lovely', 'traces', 'vacations', 'various', 'stress', 'bleakest', 'wracked', 'contact', 'superior', 'fredricksen', 'liu', 'successes', 'swingin', 'historian', 'temper', 'quiet', 'kingpin', 'nani', 'vi', 'bustedup', 'bottle', 'frequented', 'total', 'psychotic', 'sweetwater', 'busboy', 'spouses', 'undercover', 'fantastic', 'interferes', 'dreamed', 'since', 'liberal', 'brandy', 'dundee', 'school', 'postdivorce', 'valiant', 'bean', 'agoraphobic', 'deceased', 't', 'hick', 'jimmys', 'theory', 'recruit', 'franny', 'rested', 'greatest', 'nicole', 'curse', 'petit', 'hands', 'bell', 'terminator', 'reconcile', 'starks', 'frederick', 'photographs', 'yukon', 'this', 'orlov', 'inflicts', 'planes', 'hour', 'teamup', 'fishoutofwater', 'otis', 'mutant', 'storm', 'oldman', 'cusp', 'felson', 'grandfathers', 'enrolling', 'colombian', 'armed', 'captivity', 'institute', 'true', 'scenery', 'washedup', 'nighttime', 'law', 'lloyds', 'masters', 'hungarian', 'flunky', 'ludlow', 'trying', 'descend', 'excuse', 'exmercenary', 'intelligent', 'pint', 'tonight', 'kinnear', 'australian', 'seduced', 'bo', 'overlook', '00', 'tracy', 'maria', 'civil', 'happy', 'pack', 'lessthansuccessful', 'kid', 'td', '2013', 'spirited', 'godfearing', 'people', 'tolerance', 'reports', 'alejandro', 'imaginary', 'simons', 'you', 'reconnects', 'brazil', 'misanthrope', 'cruz', 'ori', 'groups', 'cops', 'alcoholic', 'medicalschool', 'crowley', 'residence', 'move', 'rudy', 'jackie', 'wrongly', 'naughties', 'lizzie', 'mayough', 'americas', '80sfrom', 'gibbs', 'saw', 'newsweek', 'w', 'arlo', 'cautiously', 'announces', 'villa', 'runway', 'callie', 'escobars', 'indie', 'wwii', 'undergoing', 'yakuza', 'peer', 'depths', 'rescue', 'supporter', 'arab', 'formed', 'mines', 'rafea', 'munson', 'godinspired', 'procreate', 'sisterhood', 'beneath', 'lara', 'duchannes', 'rooming', 'unpredictable', 'ivan', 'addict', 'sissel', 'fatal', 'prolific', 'athos', 'dyer', 'tonorio', 'irishman', 'patients', 'teena', 'gunning', 'embarrassments', 'was', 'dynamic', 'highoctane', 'radar', 'king', 'welbach', 'outer', 'raffish', 'offkilter', 'charismatic', 'sales', '500', 'feudal', 'retelling', 'darryl', 'slicktalking', 'writerproducer', 'collection', 'detailing', 'wate', 'predecessor', 'tape', 'wages', 'joes', 'ouija', 'rose', 'naboo', 'schmidt', 'reluctant', 'spectacles', 'boeing', 'intercepts', 'bringing', 'miscarriage', 'swimmer', 'gym', 'warrant', 'mojo', 'rests', 'webb', 'steinmark', 'running', 'nocturnal', 'symphony', 'barbarian', 'transsiberian', 'hotheaded', 'ivory', 'existence', 'photo', 'earthquake', 'realizes', 'nineyearold', 'narrowly', 'devises', 'presidents', 'benefit', 'pink', 'kefi', 'disasters', 'mum', 'bluesman', 'penchant', 'burton', 'controversial', 'benjamin', 'unbeknownst', 'loyalties', '2016', 'hospice', 'chunli', 'moll', 'drifting', 'proceeds', 'africas', 'diagnosed', 'riker', 'esther', 'singers', 'greg', 'pseudonym', 'firefly', 'squire', 'zookeepers', 'solomon', 'missing', 'tong', 'reasons', 'pharaoh', 'charity', 'traumatized', 'wager', 'stones', 'unwelcome', 'alongside', 'evers', '1950', 'singles', 'manhattanites', 'collide', 'humans', 'calls', 'right', 'needs', 'morse', 'operative', 'health', 'flint', 'mere', 'taggart', 'kowalski', 'vig', 'actionadventure', 'hyperimaginative', 'expectations', 'bar', 'cemented', 'lambert', 'stressful', 'racial', 'cristeros', 'lynch', 'spun', 'bodeen', '50ish', 'ralstons', 'suspects', 'hated', 'sole', 'shanghai', '922', 'zoo', 'brooklynborn', 'expat', 'best', 'cohabitating', 'polio', 'offguard', '480', 'awol', 'elimination', 'born', 'abernathy', 'beams', 'educated', 'eavesdrops', 'ambitious', 'noisy', 'simmons', 'bachelors', 'poisoned', 'rollicking', 'ebenezer', 'plunged', 'announcements', 'remains', 'detention', 'watches', 'senior', 'riviera', 'murders', '25', 'peters', 'comforts', 'vigilante', 'lamont', 'eaton', 'antarctic', 'believers', 'pal', 'cereal', 'machines', '2025', 'asianamerican', 'captured', 'dancer', 'duritz', 'succession', 'depressed', 'measure', 'adapts', 'horrors', 'moral', 'conlon', 'twentytwo', 'visions', 'jill', 'insurance', 'cheaver', 'imprisonment', 'posttraumatic', 'scoops', 'wayans', 'bullied', 'twentyeight', 'female', 'must', 'opal', 'goobie', 'remaining', 'istanbul', 'gruesome', 'mitchell', 'modified', 'inspiration', 'pain', 'funds', 'perseus', 'vida', 'billy', 'again', 'famous', 'capulets', 'grad', 'abbie', 'exorcism', 'elapsed', 'ghostface', 'dreaming', 'mcdonalds', '19yearold', 'caius', 'training', 'cannot', 'uehida', 'bag', 'mcevoy', 'aegis', 'exec', 'bucum', 'parisbased', 'saved', 'formerly', 'percy', 'proved', 'oliver', 'ended', 'baron', 'award', 'ultracompetitive', 'injury', 'companion', 'jonzes', 'kruegers', 'jacks', 'painful', 'magna', 'skits', 'conquer', 'indepth', 'colonies', 'joanne', 'elm', '1985', 'hawaii', 'bones', 'midland', '1972', '15th', 'antivillain', 'copturnedcriminal', 'rules', 'overworked', 'manhattanite', 'enroll', 'tina', 'ella', 'resuming', 'others', 'malkovich', 'destino', 'jail', 'servants', 'tejano', 'confused', 'corleone', 'dale', 'nationalist', 'pays', 'settlers', 'dreamdemon', 'yankee', 'contini', 'housemaid', 'predator', '20th', 'ashitaka', 'nemesis', 'entered', 'traditionalist', 'confidence', 'hurls', 'advertisement', 'tropics', 'fordy', 'measures', 'represent', 'rustic', 'submarine', 'portraying', 'creatively', 'manhattans', 'enterprising', 'lam', 'hopelessly', 'harrelson', 'mariahs', '20000', 'isaac', 'lengthy', 'beca', 'islands', 'nsecure', 'cameras', 'doherty', 'great', 'recklessly', 'hides', 'baster', 'volunteer', 'earth', 'lavish', 'congo', 'lori', 'disparate', 'sidelines', 'tyrant', 'ramona', 'entrapment', 'fosses', 'intrigued', 'truly', 'precrime', 'fishburne', 'inspiring', 'gluckman', 'watson', 'rebecca', '2005', 'toilet', 'tory', 'helper', 'wakes', 'discount', 'catches', 'slick', 'captures', 'belle', 'sunshine', 'mcmurphy', 'hired', 'raymond', 'oath', 'raw', 'vocal', 'profitable', 'furlong', 'caine', 'collage', 'vigilantehero', 'poetryloving', 'field', '600', 'quick', 'wasted', 'vacuum', 'gotham', 'summoned', 'bike', 'awake', 'settled', 'malfunctioning', 'desired', 'hightech', 'unsettled', 'employee', 'jeff', 'sure', '10191', 'catherine', 'awakened', '1966', 'wondering', 'bc', 'plame', 'calling', 'sued', 'marjane', 'tyranny', 'forty', 'josh', 'arboria', 'threats', '1820', 'fresh', 'ruled', 'taken', 'underwater', 'swing', 'freed', 'crowds', 'teenager', 'michael', '15year', 'clay', 'firmly', 'gordon', 'nicky', 'bennett', 'vj', 'offender', 'gurneal', 'lieberman', 'trio', 'c', 'craddock', 'beaten', 'throne', 'bin', 'occurrences', 'ho', 'grandson', 'unwillinglyenlisted', 'lester', 'evp', 'otherwise', 'comes', 'plagued', 'israel', 'captivated', 'ronnie', 'fitzgeralds', 'barn', 'robin', 'guinea', 'dunn', 'cabletv', 'fairly', 'interactions', 'conservationist', 'molière', 'dustin', 'kincaid', 'penélope', 'deteriorated', 'relentlessly', 'impetuous', 'bayley', 'breakup', 'motherhood', 'toils', 'developers', 'nuclear', 'rocket', 'hoard', 'veterinarian', 'if', 'reanimating', 'danger', 'caves', 'bendrix', 'halfway', 'murderesses', 'cabbie', 'carlitos', 'cross', 'church', 'martin', 'wake', 'history', 'wildeyed', 'biography', 'satellite', 'tired', 'habit', 'retirees', 'hatched', 'amp', 'lone', 'merchant', 'k', 'grandkids', 'intention', 'fatone', 'behindthescenes', 'pandaemonium', 'howland', 'device', 'kellys', 'soleil', 'misunderstood', 'cavalry', 'telling', 'bored', 'adapation', 'beliefs', 'table', 'fondness', 'dumps', '20yearold', 'beam', 'hamlet', 'schindler', 'fates', 'name', 'girl', 'lack', 'vitti', 'exwives', 'employees', '1989', 'fasttalking', 'leslie', 'downers', 'seasoned', 'prove', 'kindergarten', 'absence', 'belka', 'tango', 'peace', 'exposé', 'candid', 'dance', 'et', 'pleasant', 'burtons', 'abandons', 'fairy', 'staff', 'simon', 'stalwart', 'strength', 'all', 'cogan', 'failure', 'imogen', 'limits', 'vacancy', 'tours', 'sommerton', 'federation', 'treatment', 'killing', 'dave', 'reilly', 'toll', 'cab', 'injected', 'joanna', 'metal', 'abby', 'none', 'trees', 'cave', 'wing', 'halfbreed', 'maggies', 'coke', 'deluge', 'wounds', 'jang', 'trace', 'august', 'michelle', 'treasure', 'worlddestroyer', 'card', 'spring', 'expel', 'whaling', 'not', 'cost', 'takes', 'destiny', 'drug', 'mischievous', 'edmund', 'muchpublicized', 'manolo', 'crosscountry', 'andie', 'invented', 'gi', 'groovy', 'clare', 'adventure', 'web', 'visit', 'native', 'volcanologist', 'finished', '88', 'dottie', 'transforming', 'xxxx', 'minions', 'loyal', 'recession', 'thrive', 'surveys', 'daisy', 'tribes', 'heartjumping', 'teenagers', 'complains', 'precinct', 'luckiest', 'ineffective', 'reimagined', 'falk', 'misty', 'suspended', 'immortals', 'least', 'madness', 'gave', 'chapters', 'crew', 'procedures', 'participate', 'hai', 'placement', 'heady', 'frieda', 'wait', 'super', 'jared', 'introduces', 'detroit', 'me', 'greed', 'beverly', 'photographer', 'techsavvy', 'achieves', 'industrial', 'passed', 'orchid', 'alan', 'speed', 'cheerleader', '298', 'spectacular', 'crippled', 'guarded', 'engaged', 'spiderman', 'beasts', 'statue', 'crack', 'eyes', 'omni', 'jury', 'strands', 'freakshow', 'humbert', 'mile', 'chased', 'upset', 'sprawling', 'inbetween', 'egg', 'wolves', 'unforgettable', 'outspoken', 'deranged', 'defeating', 'ways', 'everywhere', 'mccawley', 'string', 'kingdoms', 'democratic', 'lucy', 'cole', 'corp', 'wonderland', 'berry', 'wright', 'jolie', 'daniel', 'restaurant', 'filmmaking', 'limey', 'arrange', 'dancing', 'research', 'catapulted', 'melody', 'bombing', 'squad', 'top', 'suspicion', 'elektra', 'eastwestgermany', 'battered', 'attempts', 'tokyo', 'riffs', 'adjust', 'recurring', 'hurry', 'entitled', 'niece', 'chad', 'hughes', 'cabaret', 'scenes', 'roshan', 'fiza', 'tourists', 'warlock', 'du', 'liner', 'obtain', 'maintaining', 'mistress', 'pitted', '8yearold', 'teachers', 'sy', 'heflin', 'higher', 'filly', 'filled', 'frozen', 'fantasises', 'marstons', 'truecrime', 'thousands', 'carpenters', 'migrant', 'neuman', 'tabloid', 'jian', 'diseased', 'union', 'sexaddicted', 'regime', 'perky', 'forces', 'crystalmeth', 'jackass', 'airconditioner', 'exotic', 'routinely', 'bialystock', 'esposito', 'milo', 'luthor', 'plight', 'sinkings', 'use', 'suave', 'circle', 'veggies', 'italianamerican', 'surrogate', 'mccain', 'mccartney', 'unbridled', 'billboard', 'satire', 'russians', 'shenanigans', 'convicts', 'roadside', 'commerciality', 'locker', 'ree', 'nate', 'impenetrable', 'foundry', 'highlights', 'gunmen', 'marble', '1973', 'frat', 'webster', 'appointed', 'supremely', 'disaster', 'lemurs', 'changing', 'fbi', 'toymaker', 'cdc', 'heartland', 'mask', 'race', 'side', 'williamson', 'scare', 'cassie', 'scorch', '1841', 'excon', 'teammates', 'specializing', 'broad', 'lover', 'berg', 'bligh', 'crusade', 'placed', 'pride', 'hopper', 'undersized', 'child', 'rockatansky', 'stonewall', 'burnt', 'outage', 'fateful', 'scaring', '18891971', 'parents', 'vinicius', 'inexplicably', 'jose', 'lorrell', 'mit', 'prominent', 'weapons', 'divers', '1932', 'iranian', 'oogieloves', 'harlems', 'jungle', 'exchanging', 'blixen', '21yearold', 'diplomat', 'wayanss', 'songwriter', 'circumstances', 'rooney', 'survived', 'anabel', 'gargamel', 'attitude', 'blazing', 'channels', 'bryce', 'beckons', 'strap', 'denis', 'raves', 'bolen', 'ness', 'margaret', 'quirky', 'disneys', 'martialed', 'korea', 'heavyweight', 'shed', 'troubles', 'climbing', 'rock', 'commandos', 'despicable', 'boucher', 'fulfill', 'drugaddled', 'guy', 'riff', 'nested', 'governments', 'swanky', 'cloud', 'supposedly', 'envy', 'smaug', 'smilla', 'bring', 'photoreal', 'shaft', 'harvey', 'romantic', 'clouds', 'hate', 'understand', 'shepard', 'rapid', 'disguises', 'trane', 'pinocchio', 'monuments', 'deanna', 'cusack', 'clef', 'minutes', 'salt', 'louisiana', 'surfer', 'dirt', 'learned', 'lions', 'kermit', 'rushhour', 'dad', 'schooler', '400', 'consumer', 'laurel', 'simpson', '1890', 'alleluia', 'pleasure', 'egyptologist', 'remain', 'defeated', 'adele', 'encounter', 'boxtrolls', 'analyst', 'graham', 'refreshing', 'annual', 'split', 'pitchman', 'fockers', 'galloway', 'clintons', 'settlement', 'ny', 'scheffer', 'windtalker', 'decorates', 'austin', 'illusions', 'gerard', 'erases', 'lockwood', 'generations', 'crossroads', 'yates', 'moon', 'ruritarian', 'enterprised', 'auto', 'millionaires', 'transformed', 'mouthy', 'uncles', 'passes', 'tending', 'erstwhile', 'cynical', 'stupidity', 'diehard', 'missouri', 'spent', 'tallis', 'company', 'singularity', 'enforcing', 'cellular', 'intersecting', 'thor', 'woodstock', 'picaresque', 'faris', 'mind', 'disastrous', 'assuming', 'plane', 'mcelroy', 'meehan', 'boxers', 'chipettes', 'chili', 'samurai', 'wrestling', 'aching', 'genetically', 'grisly', 'cias', 'garrett', 'antiwar', 'pagan', 'misadventures', 'button', 'treacherous', 'blows', 'monsters', 'reuben', 'turner', 'ferguson', 'grammar', 'hannah', 'unconventional', 'deliver', 'juggling', 'fighting', 'grandiose', 'made', 'solace', 'says', 'gizmo', 'woodhouse', 'usual', 'bahamas', 'disappearing', 'marriage', 'goingaway', 'being', 'reigns', 'pictish', 'gunslinger', 'seals', 'capt', 'ad', 'like', 'fastpaced', 'moreno', 'coconut', 'todays', 'allnight', 'republican', 'meaning', 'vh1s', 'marji', 'tibby', 'croker', 'bordering', 'knocked', 'collaborated', 'insanity', 'runt', 'zebra', 'domineering', 'lesbian', 'lincoln', 'probationary', 'wilder', 'sword', 'beatrix', 'realtor', 'amalia', 'act', 'arrangement', 'lemuel', 'defense', 'deliberately', 'performances', '1', 'classified', 'below', 'dorsey', 'thief', 'sometime', 'third', 'exmarine', 'hammerstein', 'somewhere', 'hoffa', 'harlock', 'lux', 'fairfax', 'smurfs', 'boring', 'fairlane', 'feelings', 'passengers', 'manipulating', 'lv', 'ponderosa', 'studios', 'blackwells', 'jumper', 'sadelstein', 'algerian', 'found', 'dickie', 'noodle', 'spending', 'lump', 'save', 'doling', 'operation', 'larcenous', 'advancement', 'p', 'xander', 'list', 'mistaken', 'harpooner', 'romeros', 'communicate', 'hardearned', 'syd', 'thrilling', 'betsey', 'initiates', 'arranged', 'exboer', 'jerusalem', 'acting', 'randy', 'typea', 'gail', 'extracts', 'camps', 'armwrestling', 'ember', 'sprinter', 'sickness', 'tintin', 'twentyfive', 'dovers', 'siam', 'hopeless', 'asks', 'separation', 'herzog', 'dolphin', 'commodity', 'street', 'cleopatrathe', 'production', 'aidan', 'hayek', 'girlfriend', 'compromising', 'cotton', 'starving', 'chrissie', 'hes', 'world', 'beyond', 'send', 'bugs', 'doc', 'steelhead', 'absorbs', 'misconduct', '27th', 'childless', 'break', '60s', 'interstellar', 'appearing', 'refueling', 'general', 'bowden', 'audition', 'overcrowded', 'anything', '1980s', 'alfred', 'warehouse', 'opposite', 'filmed', 'wipe', 'spokesperson', 'amber', 'stands', 'aristocrat', 'handtohand', 'futility', 'rae', 'afghan', 'outfit', 'condo', 'kickass', 'mercury', 'solar', 'half', 'politician', 'murderer', 'flushed', 'garcia', 'homosexual', 'megan', 'gores', '1999', 'lark', 'waging', 'gloomier', 'payne', 'what', 'paths', 'formula', 'botched', 'brawne', 'medal', 'color', 'teapot', 'upandcoming', 'againchristian', 'philip', 'partnership', '1980', 'agents', 'mixedmartial', 'established', 'drops', 'jimi', 'irs', 'support', 'bernadette', 'tyree', 'addictions', 'jody', 'along', 'vacationing', 'dashwood', 'atticus', 'explores', 'vivica', 'armys', 'hyamss', 'dinorscio', 'schmith', 'smallbusiness', 'ultron', 'mcfly', 'differences', 'demoted', 'edwards', 'song', 'fed', 'government', 'harassment', 'oceanside', 'angela', 'motorized', 'wants', 'creates', 'empire', 'gates', 'realizing', '2257', 'terry', 'rory', 'tell', 'riggs', 'film', 'saunders', 'bosnian', 'maiden', 'forms', 'regulates', 'read', 'borough', 'owned', 'anxiety', 'eggs', 'troupe', 'hiking', 'delightful', 'bylanes', 'demon', 'drunken', 'graphic', 'susie', 'helps', 'elling', 'downonhisluck', 'menfolk', 'places', 'footloose', 'fleeing', 'upside', 'miami', 'corrupt', 'singh', 'lovingly', 'biker', 'legendary', 'shadow', 'gangsters', 'munday', 'crews', 'l', 'relates', 'comedies', 'ruby', 'classmates', 'suspected', 'prosser', 'publics', 'coma', 'radio', 'stryder', 'queens', '2199', 'stopped', 'ventimiglia', 'veer', 'pertaining', 'glass', 'russian', 'themselves', 'con', 'ears', 'step', 'leighs', 'whistleblower', 'judah', 'painfully', 'feihong', 'dropping', 'rekindle', 'tourist', 'carraway', 'dragon', 'mutated', 'schoolboy', 'bland', 'cast', 'maddy', 'tucker', 'always', 'cassidy', 'thai', 'hearing', 'ministers', 'killerhorror', 'digging', 'ferocious', '1988', 'exspecial', 'ninety', 'emotive', 'start', 'protecting', 'frankie', 'bikini', 'wealth', 'protestant', 'bagman', 'nerd', 'mettle', 'fiction', 'roadtrip', 'mode', 'mobsters', 'skepticism', 'ghaffarian', 'heartbroken', 'soil', 'comicstrip', 'on', 'twelveyearold', 'indiana', 'delivered', 'filmmaker', 'indias', 'serbs', '20s', 'stages', 'members', 'kate', 'aims', 'incidents', 'tibetan', 'frustration', 'sixth', 'reporters', 'public', 'befall', 'reich', 'skater', 'duplicate', 'usually', 'strahm', 'dedicated', 'depression', 'unites', 'fadlan', 'adler', 'dun', 'thug', 'ups', 'ugly', 'franchise', 'either', 'colossal', 'pope', 'newcomer', 'cinderhella', 'bearded', 'introduce', 'parallel', 'noirish', 'specialist', 'eyesight', 'scarboro', 'drinks', 'bulgaria', 'archer', 'queen', 'sibling', 'annie', 'biblical', 'awesome', 'banner', 'monster', 'mindaltering', 'class', 'deakins', '5th', 'pileup', 'kubik', 'delves', 'cherie', 'cares', 'glances', 'pornographic', 'kim', 'incredible', 'case', 'bounced', 'sand', 'succeeds', 'kimble', 'gabita', 'suffering', 'brothers', 'combat', 'broadway', 'privileged', 'webers', 'musical', 'savant', 'technique', 'facetoface', 'jeffries', 'sun', 'instructor', 'precocious', 'brotherhood', 'inmates', 'sharks', 'nanny', 'suicidal', 'reignited', '1940s', 'stamping', 'palma', 'hondo', 'misguided', 'vivian', 'exotica', 'script', 'fourteenyearold', 'biopic', 'spanning', 'intertwined', 'patrick', 'farce', 'jordan', '1st', 'llevado', 'porno', 'treats', 'dc', 'sevilles', 'confrontations', 'dux', 'brosnan', 'hanniger', 'adoptive', 'jimmy', 'scripted', 'chev', 'catastrophe', 'sanctum', 'actually', 'tomorrow', 'prosperous', 'gunfighters', 'businessman', 'birdee', 'psychofiend', 'estrangement', 'repair', 'elba', 'wolfmeyer', 'wild', 'bitten', 'tommaso', 'european', 'canonization', 'charles', 'meinhof', 'redemption', 'overrun', 'downs', 'fourteen', 'bailey', 'relocated', 'nonambitious', 'betrayed', '1214', 'happygolucky', 'neil', 'housesit', 'invaded', 'ritchie', 'donato', 'befriending', 'coolsville', '1920', 'multimillionaire', 'rosario', 'plummer', 'chelsea', 'usiraq', 'many', 'basis', 'nathan', 'parenthood', 'perspective', 'berke', 'eugène', 'mates', 'joy', 'illegal', 'hot', 'mccoy', 'whole', 'chemicals', 'robins', 'xmen', 'headed', 'entertainthekidsnomatterhowboringitis', 'spike', 'picture', 'wayne', 'convenience', 'discovering', 'motors', 'mature', 'nefarious', 'fifteen', 'partygidget', 'departments', 'demonstrates', 'groom', 'dog', 'phin', 'broke', 'dieckmann', 'reporter', 'brink', 'wily', 'seasons', 'toro', 'köves', 'random', '24', 'neither', 'series', 'longoverdue', 'presumed', 'fourinchtall', 'coogan', 'noble', 'coco', 'pit', 'dug', 'hugo', 'foreman', 'megachurches', 'attractions', 'life', 'sabotage', 'interpretation', 'tenuous', 'gabriella', 'embittered', 'phenomenal', 'lake', 'owens', 'julius', 'unstoppable', 'uncanny', 'sumptuous', 'wellintentioned', 'vegas', 'conviction', 'willem', 'dunce', 'himalayas', 'serving', 'troi', 'juliette', 'grant', 'pledged', 'kayley', 'dickens', 'gambardella', 'lego', 'infected', 'jing', 'orion', 'karachi', 'furrowing', 'attention', 'weekends', 'insomniac', 'amistad', 'borderlines', 'directionless', 'vito', 'there', 'oss', 'befriends', 'draws', 'thomas', 'colonel', 'bennetts', 'andrew', 'objective', 'christina', 'recounts', 'younggoo', 'fully', 'reexamines', 'inventor', 'lama', 'softcore', 'room', 'mount', 'sierra', 'mabry', 'st', 'mannix', 'origins', 'twice', 'flash', 'barney', 'photography', 'negotiates', 'spiritual', 'abaddon', 'palisades', 'contacting', 'kylie', 'crashlanding', 'hawkins', 'overprivileged', 'unpretentious', 'denzel', 'snapshots', 'wheat', 'lane', 'fashionably', 'have', 'joined', 'messages', 'bethel', 'rl', 'countryside', 'orleans', 'map', 'seem', 'harding', 'confirmation', 'dozen', 'jonah', 'every', 'spreads', 'adoring', 'quayle', 'precivil', 'valens', 'verge', 'closer', 'criticism', 'heidelberg', 'fictionalised', 'five', 'counseling', 'twin', 'guido', 'technical', '1856', 'drugop', 'development', 'maneuver', 'dogs', 'superdog', 'smogchoked', 'jefferson', 'headline', 'tupac', 'punk', 'banning', 'crowded', 'valseca', 'reformed', 'schoolteacher', 'eke', 'cuthbert', 'lives', 'almost', 'usled', 'halloween', 'burgle', 'encouraged', 'successful', 'mans', 'trained', 'orson', 'rev', 'impulsive', 'avenge', 'theories', 'blizzard', 'harbor', 'giddy', 'remembering', 'waodani', 'concierge', 'put', 'astérix', 'alvin', 'unproductive', 'actors', 'earl', 'egypt', 'skidding', 'morrissey', 'emile', 'ernst', 'arthur', 'rrated', 'tycoon', 'yards', 'attempting', 'jedi', 'touching', 'deckard', 'heartbeeps', 'legion', 'vice', 'heyday', 'stories', 'matthew', 'supervisor', 'impending', 'stern', 'lung', 'horrifying', 'burntout', 'dr', 'plus', 'lankester', 'yard', 'edwardian', 'rollercoaster', 'jokes', 'yorkers', 'possesses', 'doors', 'inspirational', 'lights', 'challenges', 'sell', 'misfits', 'butterfly', 'vocalist', 'skid', 'theorists', 'lays', 'mort', 'russia', 'shocks', 'sade', 'karate', 'upper', 'salvador', 'deadend', 'charts', 'midwife', 'disorder', 'dennis', 'anchorman', 'yorker', 'reluctantly', 'becoming', 'oppressed', 'twicedivorced', 'kit', 'stacie', '90s', 'vistas', 'arizona', 'unattractive', 'exhibition', 'ndr114', 'gosford', 'hogwarts', 'rod', 'mercenaries', '1950s', 'suspect', 'actorcumplaywright', 'sought', '11000', 'mccourt', 'client', 'goetze', 'behavior', 'prime', 'rivalries', 'witnesses', 'zealander', 'humankind', 'bound', 'making', 'angst', 'stacy', 'intimacy', 'muppets', 'comfortable', 'dockworker', 'zisman', 'chronicle', 'nearly', 'marie', 'tuskegee', 'bleak', 'regan', 'finance', 'garance', 'bmx', 'british', 'butlers', 'unproven', 'zombie', 'stanfield', 'nicholsons', 'quintanilla', 'walley', 'onboard', 'weight', 'juni', 'milk', 'invests', 'joins', 'kyle', 'weakwilled', 'disorganized', 'philosophy', 'exist', 'vee', 'stock', 'pleasantly', 'jennifer', 'ancestral', 'bird', 'harris', 'feeling', 'choderlos', 'arliss', 'signal', 'wikileaks', 'hall', 'cheetah', 'francos', 'samuel', 'delivery', 'remedy', 'experimenting', 'starts', 'laurie', 'outsider', 'katniss', 'intrigue', 'rafting', '2001', 'reeling', 'spoken', 'exposure', 'widows', 'manech', 'shirley', '18thwedding', 'jeans', 'arresting', 'prevail', 'familys', 'stirs', 'marrying', 'geography', 'shining', 'hendricks', 'lifting', 'prey', 'value', 'germans', 'dressed', 'juilliardtrained', 'magazine', 'hard', 'uma', 'retire', 'career', 'mckee', 'terminally', 'blue', 'artists', 'sometimes', 'challis', 'played', 'marry', 'reemergence', 'womanizing', 'tensions', 'witchhunter', 'mcleod', 'badguy', '81', 'plenty', 'keeping', 'pushed', 'education', 'roc', '22nd', 'factbased', 'zoozie', 'amadeus', 'county', 'troy', 'subsequent', 'sabbatical', 'premonition', 'uncontrollable', 'scam', 'remote', 'sherry', 'mcdeere', 'metermaid', 'natalie', 'just', '1981', 'bloody', 'holiest', 'ethical', 'sitting', 'ships', 'jenkins', 'pet', 'golfing', 'coed', 'fame', 'portrays', 'lifeordeath', 'depicted', 'silent', 'seat', 'plunges', 'arts', 'prevent', 'vatican', 'masked', 'velma', 'resolved', 'exodus', 'grungy', 'mia', 'blackmailed', 'cloak', 'fashion', 'umbrella', 'evicted', 'moments', 'donny', 'virginal', 'unforeseen', 'katherine', 'jourdain', 'unattached', 'ouimet', 'harlem', 'parkingtons', 'picks', '101yearold', 'john', 'succeed', 'unthinkable', 'fortuneteller', 'obsession', 'el', 'comalike', 'tortured', 'babcock', 'with', 'gold', '3d', 'revelry', 'pauline', 'excursion', 'letac', 'reckless', 'laurens', 'catandmouse', 'atwater', 'harper', 'edinburgh', 'kaneda', 'palomino', 'gunk', 'astounding', 'disney', 'ballet', 'conquest', 'overdose', 'drawback', 'chaotic', 'ha', 'grey', '23yearold', 'peltzer', 'nash', 'dogville', 'quasi', 'sequestered', 'hiding', 'disfigured', 'dylan', 'corpses', 'arrives', 'disillusioned', 'humiliation', 'birnam', 'pants', 'demonized', 'blacksmith', 'fantasy', '1845', 'painting', 'defies', 'stronger', 'destroy', 'wink', 'pilots', 'argentinian', 'capital', 'budget', 'promises', 'tracks', 'starling', 'seth', 'protects', 'oregon', 'burke', 'animal', 'rancho', 'pruitt', 'rapper', 'collages', 'creating', 'gradual', 'promoters', 'doorstep', 'panicky', 'electricity', 'hang', 'sugar', 'caving', 'dads', 'sasha', 'graced', 'wisebeyondheryears', 'lender', 'donaghy', 'contemptuous', 'ferro', 'critters', 'bulger', 'lifechanging', 'warburton', 'sorcerers', 'feminist', 'multimillion', 'lively', 'strangling', 'whitfields', 'prep', 'lady', 'apatosaurus', 'poe', 'content', 'oldguard', 'follows', 'denizens', 'judith', 'barnes', 'mineral', 'devotion', 'dynamics', 'apocalypse', 'cook', 'money', 'ulysses', 'whose', 'chiffre', 'ezra', 'prevents', 'gothic', 'vivid', 'woos', 'parade', 'exile', 'possessed', 'risk', 'oneday', 'respective', 'nightmarish', 'monthly', 'eddie', 'somehow', 'purim', 'meet', 'deadline', 'n', 'donggun', 'likable', 'rautenbach', 'pound', 'planted', 'produce', 'sequences', 'hicks', 'sultenfuss', 'r', 'warhol', 'sound', 'organization', 'clobbered', 'gong', 'veteran', 'dinosaur', 'warred', 'newlywed', 'fedex', 'touchy', 'small', 'covered', 'inherited', 'dark', 'heritage', 'podcast', 'chemical', 'confluence', 'marshal', 'archival', 'forever', 'sharpay', 'schemes', 'winters', 'daffy', 'stolen', 'dubstep', 'grady', 'fertility', 'pass', 'football', 'mt', 'colee', 'wuornos', 'custer', 'interests', 'boyfriend', 'downward', 'ladies', 'abuse', 'institution', 'seduce', 'savage', 'alike', 'vicariously', 'dentist', 'market', 'thoroughbred', 'faithful', 'lit', 'during', 'resigned', 'gangdu', 'dunbar', 'bythebook', 'leading', 'cinemas', 'fit', 'clandestine', 'highstakes', 'even', 'punishment', 'sultan', 'painter', 'canoodle', 'station', 'orphans', 'interns', 'tumultuous', 'presented', 'team', 'sixteenyearold', 'committee', 'becomes', 'rarified', 'venice', 'remarrying', 'wang', 'ari', 'copy', 'bunny', 'nolan', 'alabama', 'hardedge', 'pollutes', 'dolittle', 'accomplished', 'mysteries', 'surfers', 'bigrig', 'interrogation', 'kerrigan', 'dramatisation', 'londoner', 'pampered', 'invitationonly', 'rayburn', 'dewey', 'independence', 'tvs', 'gian', 'lost', 'cobb', 'draft', 'geppetto', 'styles', 'restless', 'exonerate', 'enlisting', 'fiore', 'elegant', 'friends', 'adventurer', 'zeffirelli', 'claire', 'twoface', 'attendant', 'study', '2004s', 'grail', 'yorkin', 'mma', 'untalented', 'rambo', 'braxton', 'changes', 'disappointments', 'oldschool', 'feud', 'tobias', 'gun', 'toughest', 'sitter', 'georges', 'make', 'uptight', 'blindness', 'ans', 'walked', 'animated', 'clueless', 'classics', 'offers', 'schoolers', 'sensation', 'snoopy', 'pranks', 'cruising', 'snipes', 'justices', 'suspense', 'intelligence', 'gaza', 'sex', 'disappearance', 'journey', 'hester', 'pero', 'demanding', 'tomboyish', 'murtaugh', 'randalls', 'versatile', 'miracle', 'ballard', 'pony', 'athlete', 'lange', 'oscar', 'montagues', 'martialarts', 'farraday', 'french', 'entire', 'reassemble', 'feline', 'unlikeliest', 'connors', 'stepdad', 'elsa', 'cities', 'competitive', 'accident', 'mazzy', 'scalping', 'californias', 'huge', 'crucial', 'cyclone', 'recover', 'battle', 'clock', 'bandit', 'pulp', 'clientele', 'romanticallyengaged', 'feffer', 'accuses', 'raised', 'realm', 'goddess', 'pitka', 'foresee', 's', 'notices', 'marsh', 'callaway', 'fullcontact', 'ditch', 'twentyfour', 'december', '2017', '2002', 'efron', 'pose', 'recapture', 'studied', 'emil', 'cannes', 'most', 'shear', 'stick', 'yelchin', 'desperado', 'lago', 'sensual', 'smithschmidt', 'clumsy', 'quintus', 'coerces', 'darius', 'manners', 'raccoon', 'jawaani', 'enthusiasts', 'freewheelin', 'debutant', 'stretching', 'bubba', 'disadvantaged', 'dodge', 'stalemated', 'vanessa', 'unbearable', 'playing', 'amuses', 'susan', 'absent', 'lecter', 'brewer', 'phonetics', '17', 'loretta', 'marks', 'scheme', 'areas', 'bosworth', 'ana', 'equalizer', 'dollars', 'married', 'ambush', 'antigua', 'troops', 'yearold', 'makers', 'caesar', 'faints', 'classroom', 'cheating', 'li', 'son', 'illusionist', 'dahlia', 'slater', 'good', 'starring', 'claude', 'smuggler', 'bombardier', 'dennie', 'village', 'sack', 'smurflike', 'darnell', 'food', 'abberline', 'tautou', '118', 'museum', 'extv', 'robocop', 'latest', 'prior', 'liquidated', 'altar', 'barbershop', 'disappoints', 'latinos', 'obrien', 'ambulance', 'fuzzy', 'meg', 'marker', 'joe', 'rapes', 'scientific', 'ocean', 'effie', 'gets', 'jesse', 'pingleton', 'fu', 'boozy', 'sariah', '2008', 'recruiting', 'japan', 'beowulf', 'aboriginal', 'nublar', 'vision', 'dealmaker', 'galactic', 'highsociety', 'winslet', 'got', 'fifty', 'cloning', 'nesbitt', 'voyage', 'ninja', 'dunphy', 'vow', 'talking', 'crosscuts', 'theres', 'churning', 'influenced', 'jumbly', 'retold', 'refuses', 'songbook', 'steele', 'perfection', 'dalai', 'satisfied', 'lured', 'bourne', 'actionthriller', 'tightlycontrolled', 'removed', 'section', 'popular', 'minded', 'risked', 'workaholic', 'stringer', 'seared', 'stashed', 'presentday', 'sims', 'lycans', 'yachting', 'macray', 'dude', 'escort', 'adapt', 'diving', '747', '4000foot', 'realize', 'carmens', 'beats', 'sweeping', 'crossfire', 'ambitions', 'comedy', 'neglected', 'candidate', 'petalson', 'farm', 'game', 'possible', 'stewart', 'careerthreatening', 'stubborn', 'signed', 'philosopher', 'congressman', 'recalls', 'nastassja', '1927', 'bit', 'baghdad', 'caleb', 'presents', 'retreat', 'mccormack', 'rosow', 'porthos', 'rightful', 'kerrys', 'curious', 'markelli', 'loneliness', 'justin', 'so', 'unlikable', 'zoolander', 'butchering', 'qualify', 'conman', 'enduring', 'attends', 'antiamerican', 'jews', 'gilbert', 'swedish', 'lower', 'adopted', 'imprisoned', 'royale', 'weapon', 'taft', 'husband', 'headlines', 'beekeeper', 'bathtub', 'extraordinary', '13yearold', 'skeeter', 'cruelly', 'helmet', 'excop', 'miserable', 'brandon', 'carini', 'rite', 'tonys', 'cajoling', 'margo', 'straights', 'psychiatric', 'tide', 'dor', 'historic', 'amish', 'millions', 'residing', 'manned', 'publicized', 'reese', 'streak', 'interrelated', 'drinkfueled', 'buy', 'faroff', 'chosen', 'xerxes', 'dancers', 'hansika', 'disposing', 'china', 'dealers', 'fishing', 'olympic', 'fable', 'tribesman', 'giles', 'hamada', 'ross', 'platinum', 'acquire', 'bud', 'sing', 'conan', 'cuaron', 'scuttle', 'centering', 'before', 'method', 'riley', 'cover', '31', 'cw', 'microfilm', 'meat', 'let', 'entwined', 'reanimate', 'turbulent', 'friendly', 'terrific', 'surrounding', 'impulsively', 'calamity', 'coaching', 'offer', 'harddrinking', 'ties', 'destroyed', 'clive', 'psychlos', 'alexandria', 'libya', 'stops', 'temp', 'secondhighest', 'prisoner', 'abandoned', 'sadistic', 'adapted', 'including', 'trendy', 'neighbors', 'memnon', 'ranchlands', 'attacked', 'standing', 'paltrow', 'knowledge', 'thugs', 'aang', 'sexual', 'plays', 'mindcontrol', 'wanted', 'tattooed', 'bargains', 'standup', 'between', 'vaultcracker', 'saint', 'opens', 'psychological', 'disrupted', 'middleclass', 'reruns', 'goodness', 'unfold', 'carol', 'lee', 'herb', 'selfish', 'hardtocrack', 'spans', 'three', 'delta', 'calvin', 'sister', 'rooftop', 'darlene', 'disproportionate', 'dawson', 'lovable', 'could', 'outwits', 'roddy', 'call', 'programmed', '50', 'romancing', 'tanner', 'gloriously', 'administrator', 'edmond', 'overpopulation', 'witches', 'masondixon', 'founded', 'combined', 'has', 'revenge', 'mcmullen', 'denmark', 'building', 'dropped', 'miracles', 'further', 'globetrotting', '1408', 'slam', 'burlesque', 'hatecrime', 'cradle', 'liaisons', 'murrows', 'torn', 'hours', '533', 'blaustein', 'casanova', 'campus', 'colpin', 'bahari', 'culver', 'dorff', 'noel', 'eagle', 'pieces', 'victoria', 'brokeback', 'studying', 'shari', 'reclusive', 'azmi', 'saturn', '1976', 'longlost', 'storylined', 'scary', 'cultural', 'mastermind', 'industry', 'chained', 'titan', 'broderick', 'channing', 'reynold', 'specials', 'come', 'enterprise', 'improve', 'tenor', 'wall', 'stability', 'jordans', 'worry', 'pompeii', 'pursuing', 'awkward', 'gavilan', 'betrothed', 'fun', 'mouth', 'fundraiser', 'bedford', 'positions', 'cat', 'pakistan', 'causes', 'enforced', 'rauch', 'desirable', 'mountain', 'amy', 'appears', 'spooky', 'sarge', 'functioning', 'product', 'evangelist', 'yeonhee', 'piercing', 'sheepherding', 'dora', 'bachelorparty', 'rugby', 'jordin', 'court', 'unpublished', 'decadelong', 'lockout', 'singersongwriter', 'loot', 'adult', 'middleaged', 'lukes', 'executive', 'technology', 'accounts', 'megamogul', 'dagger', 'masterpiece', 'drop', 'notorious', 'smuggling', 'finishes', 'elle', 'regarding', 'threatens', 'tomás', 'family', 'tuscany', 'wormer', 'evangelical', 'trip', 'claus', 'caroline', 'dresses', 'smalltown', 'get', 'emerge', 'kidnaps', '1937', 'horror', 'tim', 'instruct', 'paul', 'anna', 'sixyear', 'slaking', 'robbers', 'happened', 'stallion', 'asylum', 'looms', 'cronauer', 'joffé', 'valet', 'doubting', 'youth', 'elitesworking', 'went', '19', 'hospital', 'bottom', 'paired', 'older', 'scott', 'father', 'celebrated', 'elsie', 'rachel', 'peak', 'stayathome', 'unprecedented', '1995', 'route', 'salford', 'trusty', 'arnie', 'librarian', 'methodically', 'devi', 'mistreated', 'nazi', 'russias', 'farmer', 'ajami', 'overturned', 'populated', 'trek', 'derrick', 'conditions', 'norwegian', 'odonoghue', 'butcher', 'manhattan', 'shallow', 'profion', 'conmen', 'cooperate', 'comedian', 'reid', 'alliance', 'everybody', 'carolina', 'exploration', 'ink', 'bill', 'hudson', 'overhearing', 'honky', 'youngsters', 'burned', 'rife', 'samarza', 'pilgrims', 'pandoras', 'employed', 'raid', 'aron', 'survives', 'adrian', 'fred', 'knight', 'plant', 'jujitsu', 'primetime', 'trent', 'kirby', 'woman', 'containing', 'teensocialite', 'der', 'backpackers', 'barrels', 'clown', 'hell', 'constructor', 'roman', 'doing', 'andi', 'kapoor', 'brooks', 'bust', 'bambis', 'hauled', 'thing', 'business', 'weary', 'martius', 'options', 'ricks', 'smitten', 'wearing', 'unathletic', 'dual', 'communication', 'anton', 'jacob', 'told', 'brisset', 'gilhooley', 'spiderwick', 'capitalism', 'published', 'weston', 'sluzhkin', 'renegade', 'occurred', 'lunchbox', 'freddy', 'planet', 'invaders', 'kevin', 'wu', 'almásy', 'edridge', 'decline', 'dorado', 'tallahassee', 'role', 'invasive', 'cheesy', 'attic', 'lose', 'canadians', 'horrendous', 'ditsy', 'choreographer', 'grafton', 'southwestern', 'portia', 'martians', '1978', 'roll', 'raizo', 'fester', 'bliss', 'clooney', 'grade', 'ensconced', 'willie', 'dry', 'jacobs', 'gain', 'severe', 'glasses', 'pu', 'invasion', 'borrowing', 'nongreek', 'sad', 'opponent', 'hadassah', 'dysfunctional', 'emotion', 'powerfully', 'evan', 'emptynester', 'ignoring', 'bridge', 'hibernation', 'backwoods', 'weatherman', 'assignment', 'quite', 'nascar', 'jerry', 'nomination', 'collapse', 'kumite', 'modelling', 'mariah', 'lumber', 'depp', 'unchallenged', 'slasher', 'hiro', 'bullet', 'conquering', 'vengence', 'belt', 'man', 'behest', 'rockumentary', 'fraser', 'minister', 'risktaker', 'leezak', 'geographical', 'nuns', 'belacqua', 'saxophone', 'carmichael', 'obsessing', 'steroids', 'immature', 'selfdestruct', 'melt', 'pincus', 'raising', 'cthulhu', 'toughtalking', 'sport', 'pounds', 'fort', 'xavier', 'marvel', 'sustains', 'nikkita', 'where', 'cavendish', 'pretending', 'navarre', 'highschool', 'transient', 'animals', 'transfers', '7yearold', 'bangkok', 'shows', 'cut', 'missions', 'christian', 'convention', 'ambassador', 'roosevelt', 'hair', 'kimball', 'rockandroll', 'aspects', 'stiller', 'mill', 'rap', 'emotionally', 'freelance', 'lovehall', 'hurdled', 'nba', 'verona', 'parapsychology', 'featuring', 'fascinated', 'devastated', 'designed', 'goodhearted', 'tranquil', 'oldfield', 'hyde', 'loses', 'nazis', 'relationship', 'dramadocumentary', 'nic', 'mcclane', 'camille', 'stage', 'mizanin', 'mcguire', 'programs', 'brendan', 'rendition', 'predominantly', 'wife', 'bleichert', 'intricate', 'clair', 'polished', 'sights', 'gallagher', 'onthecourt', 'dollar', 'countess', '84', 'altered', 'covert', 'directions', 'dar', 'buttercup', 'israels', 'clans', 'capitol', '12year', 'creek', 'oceans', 'bus', 'buries', 'deported', 'bullets', 'crewe', 'shopping', 'postapocalyptic', 'nancy', 'dealing', 'prenuptial', 'glance', 'violet', 'californiabased', 'sixtieth', 'bermuda', 'puts', 'kerns', 'landing', 'guilt', 'struggled', 'epps', 'ken', 'crop', 'julián', 'viking', 'carnby', 'soldiers', 'honors', 'normalsized', 'amphibious', 'fantasia', 'visited', 'fund', 'le', 'jeanne', 'larisa', 'tribe', 'beach', 'vin', 'collector', 'albany', 'recordist', 'yorkbased', 'pregnant', 'press', 'bio', 'publisher', 'fading', 'bombay', 'palestinians', 'certain', 'matures', 'comedic', 'programming', 'duets', 'independent', 'controller', 'unhappy', 'prince', 'loan', 'videogame', 'seeking', 'outlaws', 'brainard', 'rusty', 'warrior', 'lovelessly', 'compose', 'possessing', 'soldierturnedus', 'dedicates', 'common', 'greaser', 'guadeloupe', 'serial', 'reef', 'mortal', 'prodigies', 'bluecollar', 'andré', 'guile', 'fuller', 'roams', 'blonde', 'memoirs', 'danish', 'torture', 'pedro', 'unfunny', 'lancers', 'quarterback', 'emperors', 'crosses', 'exgirlfriend', '18th', 'relentless', 'equivocados', 'fisherman', 'whove', 'cultivated', 'western', 'speaks', 'toretto', 'amelia', 'center', 'goodlooking', 'spot', 'manipulation', 'griswold', 'helens', 'ufos', 'murdoch', 'murky', 'sinuhe', 'aboard', 'bertram', 'manlike', 'superagent', 'doug', 'crusaders', 'dump', 'accused', 'pilgrim', 'fan', 'blake', 'prophecy', 'tarnishes', 'deposited', '1914', 'omnicorp', 'madsen', 'channel', 'lovestory', 'zachary', 'allied', 'saddles', 'posters', 'feelgood', 'custody', 'particularly', 'filling', 'righthand', 'exposed', 'worker', 'fictional', 'eastwood', 'unwaveringly', 'railway', 'mccall', 'aviator', 'gideon', '60sera', 'bikers', 'libby', 'bear', 'childhood', 'dementia', 'admissions', 'impoverished', 'korean', 'luther', 'industrious', 'serious', 'snack', 'pam', 'settling', 'aura', 'ripper', 'marries', 'alfonso', 'tropic', 'especially', 'stevens', 'relatives', 'rizzos', 'erin', 'honorable', 'maher', 'perry', 'ravenous', 'jerome', 'archibald', 'halfhuman', 'bélier', 'abbas', 'goodale', 'ashore', 'holland', 'rotten', 'desires', '12yearold', 'zodiac', 'innovative', 'europe', 'becca', 'contaminated', '194344', 'pentagon', 'lessthanperfect', 'prodigious', 'slade', 'tornadohunter', 'immortal', 'lu', 'bisexual', 'train', 'davey', 'abusive', 'beautiful', 'deveraux', 'property', 'switched', 'lund', 'characters', 'kurt', 'icons', 'bostons', 'entices', 'australias', 'era', 'uncomfortable', 'amsterdam', 'musicianactorfolk', 'tough', 'wax', 'an', 'wallet', 'winslow', 'salesgirl', 'outside', 'dartagnan', 'epidemic', 'spirits', 'deepthinking', 'look', 'wishes', 'andree', '1800s', 'pursuit', 'passenger', 'odds', 'forsakes', 'kidney', 'risky', 'palmer', 'installation', 'aames', 'monica', 'tightknit', 'barry', 'electric', 'unwillingly', 'battles', 'reminiscent', 'pushes', 'jesus', 'neardeath', 'lazy', 'espionage', 'messner', 'zia', 'door', 'jeanluc', 'liesel', 'sustaining', 'parker', 'jr', 'plans', '2003', 'party', 'psychologically', 'streisand', 'moment', 'halfvampire', 'bieber', 'drama', 'indescribable', 'maximumsecurity', 'richard', 'brusque', 'cases', 'often', 'enemy', 'widower', 'randle', 'kristofferson', 'movie', 'herd', 'conversation', 'recentlyretired', 'holloman', 'rodney', 'dam', 'sofia', 'paige', 'gangs', 'prot', 'macgruber', 'termination', 'vesper', 'unflinching', 'ibn', 'around', 'tuccio', 'repairmen', 'spend', 'hardflip', 'ire', 'capsule', 'curator', 'wish', 'bee', 'stu', 'focker', 'mumford', 'oedekerk', 'glen', 'folklore', 'medallion', 'whether', 'incarceration', 'why', 'william', 'oneal', 'cayden', 'halftodeath', 'brett', 'would', 'perrys', 'moronic', 'matter', 'runner', 'framed', 'receives', 'wallace', 'digestive', 'maziar', 'performs', 'death', 'promise', 'impromptu', 'omnipresent', 'bowen', 'pepper', 'ian', 'bounty', 'rides', 'followup', 'shack', 'festival', 'freak', 'airborne', 'travels', 'picard', 'elsas', 'burnham', 'fascist', 'realising', 'surgeon', 'also', 'freeling', 'walsh', 'columbus', 'cecil', 'generation', 'gownclad', 'english', 'spider', 'detour', 'chevalier', 'eagerly', 'willed', 'robinson', 'valentin', 'prone', 'bmovie', 'clark', 'bizarre', 'issues', 'snowflake', 'pc', 'candyloving', 'bishop', 'southport', 'rocky', 'companionship', 'easter', 'domination', 'convict', 'races', 'directorscreenwriter', 'taught', 'operates', 'rango', 'crime', 'hop', 'racist', 'coati', 'betray', 'prize', 'coveted', 'redlich', 'job', 'ragtag', 'obviously', 'nuked', 'messenger', 'berman', 'blanche', 'mining', 'vowed', 'quinn', 'colombia', 'military', 'stockman', 'dumped', 'hopkins', 'goodman', 'semiautobiographical', 'associates', 'witchcraft', 'wisecracking', 'recipes', 'smelly', 'tris', 'killed', 'phelps', 'reject', 'swamp', 'bestselling', 'avaricious', 'profit', 'gloria', 'revolutionary', 'firth', 'words', 'garfield', 'philosophical', 'dogtown', 'enormous', 'petty', 'scudder', 'salacious', 'arkin', 'technological', 'lamotta', 'cupboard', 'itll', 'marquis', 'subduing', 'predict', 'strongwilled', '643pound', 'neo', 'borivali', 'collier', 'plan', 'kung', 'effortlessly', 'abrupt', 'strangers', 'szpilman', 'philippe', 'cattle', 'elevenyearold', 'violence', 'divided', 'produces', 'joshs', 'created', 'persons', 'retells', 'shake', 'contemporary', 'speakeasy', 'denying', 'ruthless', 'driverprivate', 'quaint', 'ability', 'destroys', 'doctor', 'penleric', 'attend', 'secrets', 'brood', 'newton', 'entity', 'claimed', 'conducts', 'waldheim', 'opposites', 'oncepetty', 'vietnam', 'unable', 'atlantic', 'twains', 'believing', 'warring', 'musicianloved', 'iways', 'sandvoss', 'bogus', 'classes', 'aki', 'brokovich', 'spoof', 'waiter', 'fathers', 'beret', 'newborn', 'blues', 'victory', 'neurosurgeon', 'advances', 'subterfuge', 'barbossa', 'nightmares', 'representative', 'skin', 'advertising', 'sheen', 'czech', 'phones', 'feng', 'chunk', 'concoction', 'instrument', 'hideous', 'tax', 'avenger', 'heaven', 'sandy', 'eternally', 'variety', 'realworld', 'potentially', 'largest', 'metallurgist', 'ensuring', 'brooke', 'financial', 'rhythms', 'parking', 'mountie', 'hill', 'colin', 'rayne', 'hemingway', 'christopher', 'overcrowding', 'glam', 'cub', 'homicidal', 'army', 'fancy', 'nyc', 'bed', 'telekinesis', 'castles', 'poseidon', 'neville', 'lasagna', 'burnett', 'finally', 'devoted', 'inept', 'veggietales', 'barrington', 'is', 'franklin', 'bucknell', 'songanddance', 'ski', 'absurd', 'anthony', 'change', 'repertory', 'decision', 'kearney', 'phenomenon', 'jenna', 'overwhelmed', 'storage', 'thirst', 'ravages', 'chelios', 'saddam', 'candy', 'mid', 'straightforward', 'figure', 'in', 'terrain', 'angelenos', 'coach', 'drevenhaven', 'chicagos', 'spoofed', 'believe', 'warwick', 'selfdefense', 'watchful', 'unusual', 'rapemurder', 'weeklong', 'milieu', 'walt', 'chance', 'insecure', 'doesnt', 'aloud', 'westerner', 'promotion', 'embassy', 'mist', 'clerks', 'nail', 'outsmart', 'volatile', 'morgue', 'pits', 'forensic', 'gripping', 'tormented', 'eerie', 'encased', 'india', 'flings', 'southeast', 'iceskating', 'universitys', 'kundun', 'carne', 'balthazar', 'gunfighting', 'vampire', 'cartel', 'dental', 'peek', 'tonks', 'crawford', 'traumatizing', 'prowls', 'hero', 'staging', 'factory', 'chimpanzees', 'smooth', 'mclaughlin', 'colleges', 'arrived', 'bree', 'philadelphia', 'admiral', 'city', 'marc', 'ron', 'tibet', 'program', 'geist', 'uncharted', 'include', 'silvia', 'box', '119', 'kaias', 'marigold', 'trail', 'pittsburgh', 'situations', 'intoxicating', 'retired', 'aaa', 'tom', 'solaris', 'guard', 'flirt', 'valmassy', 'shuttle', 'disenchanted', 'coincidentally', 'illness', 'results', 'ryden', 'trainer', 'betty', 'gameonly', 'does', 'units', 'drinking', 'beaches', 'talks', 'streetsmart', 'smiley', 'greasers', 'regain', 'madeas', 'barbers', 'woods', 'ren', 'key', 'lot', 'turnofthe', 'hostage', 'sin', 'neptunes', 'helpless', 'royal', 'medieval', 'drunk', 'wreaked', 'soulless', 'browns', 'wantedand', 'backup', 'rediscovering', 'steelworker', 'prescription', 'hoyle', 'ralph', 'finnegan', 'caps', 'dispenses', 'evelyn', 'semiprofessional', 'musician', 'walk', 'rebellious', 'belief', 'asteroid', 'mob', 'lehi', 'these', 'occasionally', 'province', 'cummings', 'capable', 'simultaneously', 'seconds', 'chilling', 'kazuo', 'coup', 'official', 'reads', 'seenitall', 'cyclist', 'nothing', 'toofie', '1876', 'grocery', 'delicately', 'purporting', 'courts', 'attacks', 'incisive', 'whimsical', 'snowy', 'kinski', 'obamas', 'twisp', 'november', 'follower', 'halfstriped', 'hurtled', 'wipes', 'frontiers', 'expectant', 'bully', '1919', 'failing', 'gray', 'breaking', 'lovelorn', 'crumbling', 'terrorists', 'inkwell', '1980sera', 'penguins', 'flourished', 'kittredge', 'malamute', 'behalf', 'lance', 'iv', 'butts', 'deal', 'convinced', 'scarcely', 'halls', 'radios', 'attempted', '20year', 'presley', 'near', 'heartcrushing', 'junction', 'harold', 'vermont', 'crackers', 'fixit', 'by', 'whoopi', 'selfhelp', 'commander', 'terrifying', 'stand', 'carmen', 'laughter', 'gonzo', 'kaiju', 'mentally', 'mallory', 'massive', 'successfully', 'keeper', 'wed', 'raises', 'cesar', 'wooden', 'children', 'batting', 'barrier', 'memoir', 'backin', 'terence', 'marcus', 'claudio', 'clarence', 'stumbles', 'inspector', 'impressionable', 'the', 'crossword', 'cloughs', 'convince', 'steels', 'warweary', 'costumed', 'bet', 'annabelle', 'should', 'ceremony', 'instantly', 'untold', 'labor', 'follow', 'bonds', 'dimwitted', 'adulation', 'spit', 'term', 'poster', 'mcgartlands', 'elves', 'newborns', 'spacefreighter', 'detests', 'shacks', 'juniorhigh', 'alvarez', 'kinney', 'nick', 'erupts', 'unknown', 'nazioccupied', 'eliza', 'mores', 'continues', 'bruges', 'pacific', 'accompanying', 'quarantined', 'zeus', 'budapest', 'nashawn', 'cronin', 'big', 'hancock', 'outback', 'reconnect', 'woken', 'quickly', 'worked', 'reputation', 'kinsey', 'nacib', 'doright', 'enraged', 'burgundy', 'worth', 'truck', 'beautician', 'prepares', 'central', 'snorts', 'sleep', 'exchamp', 'newscaster', 'avoid', 'finalizes', 'shadowy', 'blow', 'answers', 'tommy', 'fans', 'crane', 'long', 'begged', 'golden', 'nonstop', 'dealer', 'po', 'retreating', 'stunt', 'hallucinates', 'bellas', '1905', 'mishaps', 'cable', 'churchs', 'mumbais', 'crackcocaine', 'womanizer', 'citizens', 'rundown', 'em', 'nascimento', 'up', 'standstill', 'students', 'cubs', 'obscenely', 'kelly', 'mexicanamerican', 'barcelona', 'chamber', 'naughton', 'madhouse', 'tara', 'except', 'elizabeths', 'apprentice', 'justice', 'oz', 'hope', 'versions', 'mandy', 'slavery', 'simpsons', 'hardliving', 'deacon', 'major', 'legitimize', 'worldweary', 'definitely', 'gallantly', 'frame', 'merrin', 'decades', 'robber', 'basketball', 'bipolar', 'speaking', 'fiona', 'slovakia', 'swept', 'whos', 'shaken', 'android', 'second', 'segments', 'por', 'suv', 'caper', 'wartime', 'bigalow', 'forties', 'julie', 'hotep', 'treachery', 'sexually', 'yearning', 'blaster', 'convinces', 'dunne', 'alyssa', 'rumors', 'tomb', 'cher', 'battalion', 'sevenmilewide', 'bruce', 'rafael', 'hypatia', 'automatic', 'cooperates', 'roberto', 'updated', 'coworkers', 'tracey', 'astro', 'columbia', 'ten', 'lawless', '1850', 'charlie', 'flees', 'drugged', 'diegos', 'juarez', 'lt', 'month', 'beethovens', 'loved', 'henpecked', 'nellie', 'as', 'allblack', 'descendant', 'roo', 'devastates', 'personality', 'linda', 'peter', 'copilot', 'stalk', 'weaver', 'rushes', 'died', 'unemployment', 'maybe', 'under', 'pub', 'benson', 'linchpin', 'sources', 'centres', 'impact', 'fugitive', 'gritty', 'host', 'inflatable', 'publicly', 'schoeck', 'fallen', 'recruits', '1953', 'motocross', 'realities', 'rico', 'naïve', 'mosaic', 'resumes', 'autobiography', 'zhivago', '18month', 'xfiles', 'customers', 'obtained', '30somethings', 'buchan', 'vows', 'exthug', 'virgil', 'wouldnt', 'odie', 'naylor', '3yearold', 'owner', 'aaron', 'commemorate', 'marion', 'ends', 'prescribing', 'untraceable', 'talbot', 'comedydrama', 'austens', 'hayaat', '1971', 'redford', 'chavez', 'entirely', 'bloom', 'tension', 'jessica', 'cod', 'characterdriven', 'out', 'outbursts', 'napoleon', 'louis', 'boiling', 'antiterrorism', 'horse', 'sf', 'jihadists', 'prices', 'pigs', 'wendy', 'immune', 'environment', 'vietnamera', 'burnedout', 'conscience', 'track', 'venue', 'inspires', 'reunion', 'sally', 'sociopath', 'summers', 'unveiling', 'tickingtimebomb', 'dex', 'zamperini', 'childrens', 'saldana', 'omicron', 'weeks', 'resigns', 'suspecting', 'ensure', 'seducing', 'scared', 'ground', 'complications', 'pitting', 'dracula', 'houses', 'operate', '40s', 'reserve', 'tally', 'dastardly', 'youve', 'ismail', 'melanie', 'murderous', 'poverty', 'edge', 'redman', 'secondary', 'hunter', 'kallen', 'joband', 'september', 'pesky', '30something', 'via', 'thermopolis', 'springs', 'shoots', 'slaves', 'burns', 'washes', 'marred', 'goku', 'bounce', 'quickdraw', 'outlaw', 'committed', 'totalitarian', 'advice', 'garret', 'designer', 'rule', 'expendables', 'summer', 'mix', 'gladbury', 'cheated', 'boredom', 'errands', 'mobster', 'cranky', 'bloodbath', 'base', 'floyd', 'identities', 'overachieving', 'mortdecai', 'thornton', 'nicholas', 'touch', 'cracked', 'ishmael', 'romulus', 'ontario', 'sear', 'unflinchingly', 'essex', 'night', 'finish', 'aragorn', 'juan', 'madea', 'await', 'prospera', 'shot', 'victor', 'cope', 'impound', 'lawrences', '50something', 'envelops', 'funny', 'semblance', 'avowed', '1863', 'adolescent', 'shakespearean', 'thailand', 'selfproclaimed', 'laid', 'marketing', 'colleagues', 'cuesta', 'posh', 'meredith', 'shoes', 'differing', 'barnhardt', 'birdwatchers', 'westward', 'englishman', 'assassins', 'shuns', 'cidade', 'bowl', 'cyborg', 'inheriting', 'better', 'used', 'ghettos', 'convicted', 'tarantino', 'origin', 'them', 'land', 'cede', 'drugs', 'randolph', 'lonely', 'diva', 'san', 'erikson', 'boundaries', 'albert', 'stepfather', 'selected', 'bedroom', 'cottage', 'dedication', 'oconnell', 'steven', 'tossed', 'lieutenant', 'yatsen', 'penn', 'majority', 'beckinsale', '32year', 'scooped', 'kaisa', 'learning', 'gambler', 'hiphop', 'delivering', 'astronauts', 'resulted', '1818', 'built', 'pandemic', 'centuriesold', 'egyptian', 'kuki', 'selves', 'ticket', 'sonny', 'clarity', 'hoaxes', 'frank', 'annaud', 'revolution', 'celie', 'entertains', 'spunky', 'transportation', 'economic', 'transforms', 'obliterate', 'porter', 'prohibitionera', 'oneman', 'opposition', 'booted', 'stripper', 'demonic', 'owl', 'bayou', 'karas', 'bosses', 'rural', 'search', 'stalkers', 'veneto', 'hardknock', 'audiences', 'records', 'drifter', 'avoiding', 'david', 'overkill', 'miniature', 'artwork', 'go', 'jinx', 'godmother', '900lb', 'mitts', 'extraordinaire', 'attracting', 'littles', 'volunteered', 'cia', 'caouettes', 'grandmother', 'steals', 'flag', 'dependent', 'happens', 'publicist', 'jazzmusician', 'eva', 'marathon', 'sharecropping', 'ginnifer', 'suppressing', 'romanian', 'erotic', 'pat', 'dubbed', 'cloned', 'upbringing', 'skinner', 'decadent', 'need', '12hour', 'descent', 'van', 'martial', 'universities', 'pearls', '6', 'feckless', 'grandchildren', 'winding', 'alice', 'unfortunately', 'tennis', 'craves', 'knoxville', 'fortunately', 'deserted', 'ogling', 'context', 'quest', 'iraqi', 'wells', 'strict', 'bedtime', 'baseball', 'val', 'theo', 'seenbetterdays', 'hypnotized', 'addicted', 'kidnapper', 'isabelle', 'escapes', 'canon', 'faced', 'angelas', 'wrong', 'bosss', 'kazakh', 'attractive', 'dear', 'light', 'phase', 'explode', 'tyrannical', 'bigoted', 'scouring', 'baxter', 'loomis', 'sisters', 'visually', 'mcnamara', 'mongolia', 'tinseltown', 'urgent', 'cofounding', 'rome', 'guys', 'wardrobe', 'stoddard', 'debutante', 'marnie', 'terrorism', 'contractor', 'stood', 'afraid', 'females', 'comet', 'led', 'fitness', 'geeks', 'happening', 'kane', 'sexy', 'scheming', '20', 'salesmen', 'highwire', 'akeelah', 'ignites', 'golf', 'nypd', 'ireland', 'contractors', 'gal', 'amateur', 'maid', 'actionpacked', 'africanamerican', 'christ', 'ripped', 'baylor', 'kathy', 'celebrities', 'examining', 'anchors', 'thoughtful', 'croft', 'current', 'jigsaws', 'chopra', 'redemptive', 'boswell', 'showman', 'machine', 'vallon', 'memphis', 'cortez', 'y', 'carlton', 'examines', 'abbate', 'nova', 'larsson', 'forget', 'mexican', 'morris', 'periods', 'eating', 'blackthorne', 'randal', 'suffered', 'cody', 'humanity', 'foshan', 'ak', 'stitzer', '19th', 'focuses', 'enrolled', 'smithee', 'brigade', 'sports', 'dustins', 'deuce', 'sitcom', 'millenium', 'sheltered', 'edwardes', 'breaks', 'parodied', 'transylvania', 'suburban', 'ride', 'rath', 'techno', 'locks', 'gradeb', 'benmahmoud', 'helping', 'ethel', 'adrift', 'unleashed', 'vernon', 'unsurpassed', 'surprises', 'banker', 'minka', 'sensations', 'ascension', 'kumba', 'repairing', 'computer', '21st', 'diet', 'gracie', 'postwidowhood', 'supervision', 'carnival', 'duckling', '19441945', 'altera', 'bink', 'materialistic', 'abductors', 'body', 'parrish', 'practices', 'remained', 'sanderson', '86yearold', 'daydream', 'vastly', 'richmond', 'unstable', 'doyle', 'shin', 'roaming', 'bustling', 'judean', 'demolished', 'compelled', 'stairs', 'soul', 'aarons', 'documents', 'lola', 'leiter', 'course', 'tournament', 'conducted', 'wilderness', 'pop', 'square', 'communicates', 'ravaged', 'beatrice', 'abduction', 'scream', 'stewardesses', 'take', 'brooding', 'text', 'auscultates', 'persuades', 'exploring', 'jellystone', 'resort', 'lennon', 'comedianactor', 'haagen', 'marine', 'ed', 'sweetzer', 'robot', 'brass', 'wannabe', 'baby', 'singing', 'southern', 'raging', 'equally', 'thanks', 'rain', 'turning', 'priscilla', 'hundert', 'adoption', 'uhf', 'blanket', 'aggression', 'leaguer', 'dead', 'kristen', 'confined', 'microchip', 'banks', 'exgovernment', 'specializes', 'purposely', 'disturbed', 'bookmaker', 'ninth', 'contestants', 'someone', 'immigrant', 'adams', 'afternoon', 'spencer', 'society', 'riots', 'everdeen', 'italy', 'deke', 'lately', 'stalking', 'gambling', 'overarching', 'kaia', 'milton', 'leftist', 'cyberhacker', 'terrance', 'showcases', 'daytoday', 'takenoprisoners', 'bukater', 'celine', 'glimpse', 'sweeps', 'aka', 'grubman', 'agriindustry', 'fourthgeneration', 'joel', 'heart', 'dizzying', 'delilah', '1962', 'lucrative', 'chooses', 'carthage', 'college', 'neutral', 'col', 'gabe', 'rugrats', 'security', 'duncan', 'bolt', '2159', 'spacetime', 'drake', 'reynolds', 'lantern', '1862', 'bangladessi', 'authoress', 'conned', 'augustines', 'facts', 'orphan', 'stockbroker', 'enchantress', 'shipwreck', 'discredited', 'hardworking', 'sky', 'ledger', 'neerdowells', 'competing', 'mcnerney', 'gifts', 'mama', 'television', 'clint', 'time', 'monastery', 'studious', 'bohemian', 'committing', 'minnie', 'oddball', 'appetites', 'their', 'scandinavian', 'construct', 'onenight', 'elementary', 'homes', 'theyve', 'cady', 'tennessee', 'wrestler', 'grew', 'pirates', 'cooley', 'locklear', 'sparkling', 'mccallister', 'jeanbaptiste', 'they', 'llewelyn', 'stuart', 'asleep', 'backwards', 'place', 'debate', 'accelerating', 'stark', 'extravaganza', 'screams', 'sober', 'godlike', 'chinas', 'illicit', 'odins', 'unique', 'hometown', 'chuckies', 'east', 'invincible', 'pakistani', 'debonair', 'aint', 'activist', 'seven', 'getaway', 'beauty', 'policeman', 'then', 'literature', '1996', 'beame', 'lloyd', 'deeply', 'tests', 'novelist', 'politics', 'willy', 'misogynist', 'cowboyturnedgambler', 'marty', 'high', 'parr', 'futterman', 'selfabsorbed', 'manufacturing', 'personas', 'obyrne', 'sancturary', 'scorsese', 'breakdown', 'ventures', '1945', 'hearts', 'unmarried', 'lighthearted', 'energy', 'disintegration', 'motor', 'mcdonald', 'huntsman', 'jump', 'darling', 'sue', 'christmas', 'success', 'blackmailer', 'firms', 'bluntman', 'sharing', 'telekinetic', 'heyborne', 'blaze', 'comicbook', 'statistically', 'von', '40yearold', 'faison', 'spectrum', 'gaines', 'invading', 'neighborhood', 'shine', 'dwarf', 'clasky', 'ring', 'complex', 'heroic', 'symbologist', 'lestat', 'jewish', 'vibrant', 'piglet', 'marino', 'winner', 'dewitt', 'joshua', 'country', 'comingofage', 'midst', 'africa', 'very', 'idols', 'bethany', 'war', 'stench', 'emerges', 'stonebanks', 'dieter', 'brent', 'reaches', '8', 'jakartas', 'sarah', 'nervous', 'shortterm', 'baca', 'donkey', 'swears', 'psychopathic', 'pierce', 'paramedic', 'united', 'mutiny', '17th', 'immersed', 'hitch', 'climes', 'millers', 'columnist', 'commentatorcomic', 'supervillains', 'dillon', 'starstudded', 'cuban', 'passionless', 'chapman', 'olympics', 'trends', 'decorum', 'tony', 'afroamerican', 'paying', 'reunites', 'shiverpool', 'aldous', 'borders', 'trades', 'spell', 'hijacking', 'river', 'illustrates', 'ideal', 'susann', 'president', 'terminal', 'mystical', 'constrained', 'plain', 'winger', 'defeats', 'ussr', 'lion', 'cashs', 'salem', 'gotten', 'flee', 'extraverted', 'barbarism', '1977', 'iconic', 'emerged', 'materialism', 'horrible', 'roadie', 'folk', 'isolated', 'seventh', 'wei', 'keenen', 'craven', 'downright', 'remarkable', 'recently', 'factions', 'wears', 'views', 'islesinfecting', 'smugglers', 'ham', 'anne', 'milford', 'exhilarating', 'cancer', 'scarlett', 'responds', 'speaker', 'cheat', 'astronaut', 'brad', 'throes', 'renders', 'lynn', 'slowed', 'aristocrats', 'dreadful', 'leadsinger', 'muslim', 'teachings', 'sparkle', 'dramatic', 'grotesquely', 'pow', 'moving', 'manuscript', 'within', 'fighter', 'flintstones', 'wad', 'achim', 'pinkie', 'investigative', 'exact', '1968', 'express', 'cruelty', 'vengeful', 'visa', 'oasis', 'mahoney', 'entering', 'streets', 'streetcorner', 'oconner', 'mischief', 'onscreen', 'abide', 'twenty', 'organized', '8km', 'conductors', 'participation', 'birth', 'tamino', 'godparents', 'menace', 'bum', 'rivalry', 'supercomputers', 'rafe', 'zuckerberg', 'dedham', 'mindbending', 'assassinforhire', 'bonham', 'tumorshrinking', 'tense', 'sponsors', 'civilization', 'ravage', 'roth', 'signs', 'snap', 'hotshot', 'less', 'birthday', 'fledgling', 'onceruthless', 'phantom', 'alive', 'alfie', 'chester', 'wyle', 'engages', 'slim', 'spiral', 'families', 'irresistible', 'agree', 'shaolin', 'documentarian', 'transformers', 'missiles', 'indierock', 'pike', 'hartfords', 'embarking', 'careers', 'stayed', 'antony', 'squirrel', 'burroughs', 'adults', 'mighty', 'crotchety', 'platonic', 'gloomylooking', 'volkswagen', 'itunes', 'prisons', 'nightclub', 'razaghi', 'lowermiddleclass', 'vanishing', 'dray', 'problems', '66yearold', 'pilot', 'fits', 'pd', 'stunning', 'gardner', 'posing', 'chauffeur', '70', 'mitch', 'swindles', 'ucla', 'stoner', 'teddy', 'dropdead', 'worldly', 'linguistics', 'bégaudeau', 'felt', 'exceedingly', 'wind', 'heap', 'tastes', 'accessories', 'sos', 'green', 'genetics', 'adriana', 'pei', 'utopian', 'ferrier', 'roughhewn', 'eddy', 'having', 'aspirations', 'holy', 'flame', 'traumatic', 'angry', 'commonly', 'businesswoman', 'helsing', 'jima', 'shrine', 'freeway', 'wyo', 'shellshocked', 'confident', 'esque', 'combine', 'julien', 'tracking', 'rink', 'yoast', '30s', 'arms', 'renegadeseric', 'tempted', 'miguel', 'person', 'albeit', 'avery', 'whales', 'addiction', 'clutches', 'ghostly', 'though', 'steed', 'mathayus', 'angelina', 'assortment', '11', 'creatures', 'unrealistic', 'amusement', 'novice', 'rogers', 'review', 'elections', 'national', 'bid', 'several', 'gasoline', 'humdrum', 'jon', 'atomic', 'shredder', 'chaney', 'interrupts', 'hogans', 'erik', 'aftermath', '1200', 'divorce', 'handsomely', '1429', 'iguana', 'grimm', 'alba', 'cathy', 'desolate', 'sirius', 'facility', 'competitors', 'oleg', 'mayoress', 'or', 'phelan', 'preparing', 'cartographer', 'placid', 'gabriela', 'whitlock', 'human', 'ada', 'molecular', 'conspiracy', 'salvagers', 'honor', 'initiate', 'wildcats', 'snowclad', 'target', 'tramell', 'frightening', 'tamilynn', 'playerturnedgolf', 'manipulative', 'seduces', 'rider', 'blind', 'hockey', 'banquet', 'henning', 'fizas', 'weakness', 'be', 'ones', 'ultraconservative', 'sinise', 'prejudice', 'baz', 'coaster', 'londons', 'anxious', 'conjoined', 'filing', 'disgraced', 'killers', 'punishes', 'heli', 'caused', 'publishes', 'puppet', 'alexanders', 'tarttongued', 'hansons', 'dramatised', 'uss', 'obscene', 'camden', 'pretend', 'biologists', 'inhabit', 'cholera', 'spreading', 'gwen', 'passions', 'timelapse', 'campbell', 'statrapi', 'spends', 'sins', 'kimberly', 'upclose', 'jumps', 'medicine', 'rehabilitative', 'adopt', 'victimized', 'reviews', 'unauthorized', 'scully', 'betrayal', 'last', 'fix', 'sends', 'thrust', 'reproduce', 'mowgli', 'greeta', 'threatening', 'whirlwind', 'consumed', 'exwife', 'quadriplegics', 'ranger', 'zambian', 'waise', 'point', 'dork', '67', 'ali', 'bradshaw', 'label', 'diamonds', 'minifigure', 'magnate', 'swat', 'beau', 'reveals', 'exciting', 'securities', 'adaptation', 'pr', 'trashtalking', 'pawnbrokers', 'hollow', 'frantic', 'buys', 'household', 'californians', 'considers', 'darcy', 'succesful', 'starmaking', 'antique', 'psychologist', 'centers', '1944', 'worldwide', 'erica', 'tenth', 'erect', 'experienced', 'coro', '14yearold', 'chi', 'tasker', 'finale', 'hiccup', 'supermarket', 'marooned', 'exengland', 'drowns', 'isla', 'watchman', 'contained', 'ladder', 'bury', 'chocolate', 'explicit', 'tall', '1983', 'chest', 'theme', 'brief', 'valerie', 'simply', 'town', 'probes', 'zac', 'frog', 'honey', 'goodwin', 'profiling', 'whats', 'combination', 'schools', 'style', 'perform', 'beauties', 'triwizard', 'detail', 'medic', 'finer', 'confederate', 'pan', 'globally', 'giant', 'screen', 'mongo', 'southwest', 'texas', 'americans', 'songwriters', 'judge', 'darlings', 'classic', 'snowbound', 'close', 'cohen', 'slackers', 'suicide', 'policemen', 'kuzco', 'lived'}\n"
          ]
        },
        {
          "output_type": "stream",
          "name": "stderr",
          "text": [
            "100%|██████████| 4707/4707 [00:08<00:00, 543.13it/s]\n",
            "<ipython-input-15-6afe741cdf07>:13: SettingWithCopyWarning: \n",
            "A value is trying to be set on a copy of a slice from a DataFrame.\n",
            "Try using .loc[row_indexer,col_indexer] = value instead\n",
            "\n",
            "See the caveats in the documentation: https://pandas.pydata.org/pandas-docs/stable/user_guide/indexing.html#returning-a-view-versus-a-copy\n",
            "  df[\"one_hot_overview\"] = encoded_labels\n"
          ]
        },
        {
          "output_type": "execute_result",
          "data": {
            "text/plain": [
              "0       [0.0, 0.0, 0.0, 0.0, 0.0, 0.0, 0.0, 0.0, 0.0, ...\n",
              "1       [0.0, 0.0, 0.0, 0.0, 0.0, 0.0, 0.0, 0.0, 0.0, ...\n",
              "2       [0.0, 0.0, 0.0, 0.0, 0.0, 0.0, 0.0, 0.0, 0.0, ...\n",
              "3       [0.0, 0.0, 0.0, 0.0, 0.0, 0.0, 0.0, 0.0, 0.0, ...\n",
              "4       [0.0, 0.0, 0.0, 0.0, 0.0, 0.0, 0.0, 0.0, 0.0, ...\n",
              "                              ...                        \n",
              "4794    [0.0, 0.0, 0.0, 0.0, 0.0, 0.0, 0.0, 0.0, 0.0, ...\n",
              "4795    [0.0, 0.0, 0.0, 0.0, 0.0, 0.0, 0.0, 0.0, 0.0, ...\n",
              "4797    [0.0, 0.0, 0.0, 0.0, 0.0, 0.0, 0.0, 0.0, 0.0, ...\n",
              "4798    [0.0, 0.0, 0.0, 0.0, 0.0, 0.0, 0.0, 0.0, 0.0, ...\n",
              "4799    [0.0, 0.0, 0.0, 0.0, 0.0, 0.0, 0.0, 0.0, 0.0, ...\n",
              "Name: one_hot_overview, Length: 4707, dtype: object"
            ]
          },
          "metadata": {},
          "execution_count": 15
        }
      ],
      "source": [
        "# this code is just a hint, if you want you can do it as you please\n",
        "# as long as the output remains the same\n",
        "encoded_labels = []\n",
        "print(unique)\n",
        "unique = list(unique)\n",
        "for index, row in tqdm(df.iterrows(), total=len(df)):\n",
        "    sentence_encode = [] # set of encodings for this overview\n",
        "    for word in row[\"proc_overview\"]:\n",
        "        sentence_encode.append(encode_labels(word, unique)) # get encoding for this word\n",
        "    histogram = np.sum(np.array(sentence_encode), axis=0) # sum over axis=1\n",
        "    encoded_labels.append(histogram)\n",
        "\n",
        "df[\"one_hot_overview\"] = encoded_labels\n",
        "df['one_hot_overview'] # print to verify"
      ]
    },
    {
      "cell_type": "markdown",
      "id": "7c62e127",
      "metadata": {
        "id": "7c62e127"
      },
      "source": [
        "**Q2.2.5** Each vector is a vector of floating point (64-bit) numbers. Assuming each float takes up exactly 16-bytes, how many bytes does this take to store (theoretically)?"
      ]
    },
    {
      "cell_type": "markdown",
      "id": "193b8235",
      "metadata": {
        "id": "193b8235"
      },
      "source": [
        "bytes = bits/8 but I suppose here we assume bytes = bits/4 = 16\n",
        "\n",
        "We have 4707 such vectors of 12493 words so 4707 × 12493 × 16 = 940,872,816"
      ]
    },
    {
      "cell_type": "markdown",
      "id": "1f3b3700",
      "metadata": {
        "id": "1f3b3700"
      },
      "source": [
        "# Q3 Principal Component Analysis\n",
        "\n",
        "**Q3.1** Using the overview encoded into one-hot encodings, perform PCA and plot this into a 2-D image as a scatter plot."
      ]
    },
    {
      "cell_type": "code",
      "execution_count": 16,
      "id": "832f2be7",
      "metadata": {
        "colab": {
          "base_uri": "https://localhost:8080/",
          "height": 842
        },
        "id": "832f2be7",
        "outputId": "d44f811f-370b-48f9-f7f7-b7de032895fe"
      },
      "outputs": [
        {
          "output_type": "stream",
          "name": "stdout",
          "text": [
            "0       [0.0, 0.0, 0.0, 0.0, 0.0, 0.0, 0.0, 0.0, 0.0, ...\n",
            "1       [0.0, 0.0, 0.0, 0.0, 0.0, 0.0, 0.0, 0.0, 0.0, ...\n",
            "2       [0.0, 0.0, 0.0, 0.0, 0.0, 0.0, 0.0, 0.0, 0.0, ...\n",
            "3       [0.0, 0.0, 0.0, 0.0, 0.0, 0.0, 0.0, 0.0, 0.0, ...\n",
            "4       [0.0, 0.0, 0.0, 0.0, 0.0, 0.0, 0.0, 0.0, 0.0, ...\n",
            "                              ...                        \n",
            "4794    [0.0, 0.0, 0.0, 0.0, 0.0, 0.0, 0.0, 0.0, 0.0, ...\n",
            "4795    [0.0, 0.0, 0.0, 0.0, 0.0, 0.0, 0.0, 0.0, 0.0, ...\n",
            "4797    [0.0, 0.0, 0.0, 0.0, 0.0, 0.0, 0.0, 0.0, 0.0, ...\n",
            "4798    [0.0, 0.0, 0.0, 0.0, 0.0, 0.0, 0.0, 0.0, 0.0, ...\n",
            "4799    [0.0, 0.0, 0.0, 0.0, 0.0, 0.0, 0.0, 0.0, 0.0, ...\n",
            "Name: one_hot_overview, Length: 4707, dtype: object\n",
            "(4707, 12493)\n"
          ]
        },
        {
          "output_type": "stream",
          "name": "stderr",
          "text": [
            "<ipython-input-16-c69cc6f64f84>:11: UserWarning: No data for colormapping provided via 'c'. Parameters 'cmap' will be ignored\n",
            "  plt.scatter(x_train_pca[:, 0], x_train_pca[:, 1], cmap='tab10', alpha=0.6, s=1)\n"
          ]
        },
        {
          "output_type": "display_data",
          "data": {
            "text/plain": [
              "<Figure size 800x600 with 2 Axes>"
            ],
            "image/png": "[encoded data removed]"
          },
          "metadata": {}
        },
        {
          "output_type": "stream",
          "name": "stdout",
          "text": [
            "0.887115491324757\n"
          ]
        }
      ],
      "source": [
        "# import PCA decomposition class from sklearn\n",
        "from sklearn.decomposition import PCA\n",
        "print(df['one_hot_overview'])\n",
        "x_train = np.vstack(df['one_hot_overview'].values)\n",
        "print(x_train.shape)\n",
        "pca = PCA(n_components=2)\n",
        "x_train_pca = pca.fit_transform(x_train)\n",
        "\n",
        "# Plotting the projected data\n",
        "plt.figure(figsize=(8, 6))\n",
        "plt.scatter(x_train_pca[:, 0], x_train_pca[:, 1], cmap='tab10', alpha=0.6, s=1)\n",
        "plt.colorbar()\n",
        "plt.title('MNIST Data Projected using PCA')\n",
        "plt.xlabel('Principal Component 1')\n",
        "plt.ylabel('Principal Component 2')\n",
        "plt.show()\n",
        "\n",
        "#The following is for Q3.3\n",
        "variance_explained_2d = sum(pca.explained_variance_ratio_)\n",
        "variance_loss = 1 - variance_explained_2d\n",
        "print(variance_loss)\n",
        "\n",
        "\n",
        "\n",
        "# we did exactly this in the lecture notebook"
      ]
    },
    {
      "cell_type": "markdown",
      "id": "a63054b6",
      "metadata": {
        "id": "a63054b6"
      },
      "source": [
        "**Q3.2** Do you see any interpretable structure in the above plot (\"interpretable\" $\\rightarrow$ the patterns are explainable)."
      ]
    },
    {
      "cell_type": "markdown",
      "id": "a9409e7b",
      "metadata": {
        "id": "a9409e7b"
      },
      "source": [
        "Yes, I see some clear clusters showing that the first two components have identified clear groupings within the one hot encoded data"
      ]
    },
    {
      "cell_type": "markdown",
      "id": "4482c5e5",
      "metadata": {
        "id": "4482c5e5"
      },
      "source": [
        "**Q3.3** Quantify how much variance information a 2D PCA projection loses for this dataset."
      ]
    },
    {
      "cell_type": "markdown",
      "id": "2338a25d",
      "metadata": {
        "id": "2338a25d"
      },
      "source": [
        "As provided in the output of 3.1 (last bit of code I added), the variance loss is 88.7%"
      ]
    },
    {
      "cell_type": "markdown",
      "id": "7da99ba5",
      "metadata": {
        "id": "7da99ba5"
      },
      "source": [
        "**Q3.4** Plot a line graph where the y-axis is cumulative explained variance ratio and the x-axis is the number of PCA components."
      ]
    },
    {
      "cell_type": "code",
      "execution_count": 17,
      "id": "e0cac8ff",
      "metadata": {
        "scrolled": false,
        "colab": {
          "base_uri": "https://localhost:8080/",
          "height": 449
        },
        "id": "e0cac8ff",
        "outputId": "b1e8f1cb-4c0a-4f0a-b93f-7cf807697c33"
      },
      "outputs": [
        {
          "output_type": "display_data",
          "data": {
            "text/plain": [
              "<Figure size 640x480 with 1 Axes>"
            ],
            "image/png": "[encoded data removed]"
          },
          "metadata": {}
        }
      ],
      "source": [
        "# Set up PCA object with the desired number of components\n",
        "# Taking 2000 pca components\n",
        "pca = PCA(n_components = 2000)\n",
        "x_train_pca = pca.fit(x_train)\n",
        "powers = pca.explained_variance_ratio_\n",
        "# fit transform one_hot_overview encodings\n",
        "\n",
        "# get explained variance ratio from object, store it in a list\n",
        "plt.plot(powers, label=\"Explained variance\")\n",
        "plt.plot([np.sum(powers[:i]) for i in range(len(powers)-1)], label=\"Cumulative explained variance\")\n",
        "plt.legend()\n",
        "plt.xlabel('Number of pca components')\n",
        "plt.ylabel('Variance explained (%/100)')\n",
        "plt.show()\n",
        "# set up y label, x label, title\n"
      ]
    },
    {
      "cell_type": "markdown",
      "id": "8b36c9b2",
      "metadata": {
        "id": "8b36c9b2"
      },
      "source": [
        "**Q3.5** How many principal components do you need in order to explain 80% of the total variance in the data?\n",
        "\n",
        "Note: don't just estimate it by eye, write some code to compute it for you."
      ]
    },
    {
      "cell_type": "code",
      "execution_count": 18,
      "id": "95c44b2d",
      "metadata": {
        "colab": {
          "base_uri": "https://localhost:8080/"
        },
        "id": "95c44b2d",
        "outputId": "e3c2876f-2ef2-4a94-dacf-63c9094f8f7e"
      },
      "outputs": [
        {
          "output_type": "stream",
          "name": "stdout",
          "text": [
            "1227\n"
          ]
        }
      ],
      "source": [
        "cumulative = np.cumsum(pca.explained_variance_ratio_)\n",
        "desired_components = np.argmax(cumulative >= 0.80) + 1\n",
        "print(desired_components)"
      ]
    },
    {
      "cell_type": "markdown",
      "id": "b608db91",
      "metadata": {
        "id": "b608db91"
      },
      "source": [
        "1227 pca components"
      ]
    },
    {
      "cell_type": "markdown",
      "id": "ee3b5c33",
      "metadata": {
        "id": "ee3b5c33"
      },
      "source": [
        "**Q3.6** Using the number of dimensions you found in Q3.5, fit and transform your overview encodings using PCA and add it to a new column called `overview_pca` in the dataframe."
      ]
    },
    {
      "cell_type": "code",
      "execution_count": 19,
      "id": "8a6eb40b",
      "metadata": {
        "colab": {
          "base_uri": "https://localhost:8080/"
        },
        "id": "8a6eb40b",
        "outputId": "9eb667de-dc5f-4ae6-8dc1-8ac5308db949"
      },
      "outputs": [
        {
          "output_type": "stream",
          "name": "stderr",
          "text": [
            "<ipython-input-19-5b995323997a>:4: SettingWithCopyWarning: \n",
            "A value is trying to be set on a copy of a slice from a DataFrame.\n",
            "Try using .loc[row_indexer,col_indexer] = value instead\n",
            "\n",
            "See the caveats in the documentation: https://pandas.pydata.org/pandas-docs/stable/user_guide/indexing.html#returning-a-view-versus-a-copy\n",
            "  df[\"overview_pca\"] = list(labels_pca)\n"
          ]
        }
      ],
      "source": [
        "n_dims = 1227\n",
        "pca = PCA(n_components = 1227)\n",
        "labels_pca = pca.fit_transform(x_train)\n",
        "df[\"overview_pca\"] = list(labels_pca)"
      ]
    },
    {
      "cell_type": "markdown",
      "id": "309d3256",
      "metadata": {
        "id": "309d3256"
      },
      "source": [
        "# Q4 K-Means Clustering\n",
        "\n",
        "**Q4.1** Cluster the movies based on the features that were extracted via PCA in the last step. Set $K=20$. Add the predicted cluster into the dataframe as a new column called `cluster_kmeans`. Print out the elements of cluster number 0 from the dataframe."
      ]
    },
    {
      "cell_type": "code",
      "execution_count": 20,
      "id": "f5f5781e",
      "metadata": {
        "colab": {
          "base_uri": "https://localhost:8080/"
        },
        "id": "f5f5781e",
        "outputId": "56f9af6c-b522-4c67-8d87-177697ae9ff6"
      },
      "outputs": [
        {
          "output_type": "stream",
          "name": "stderr",
          "text": [
            "/usr/local/lib/python3.10/dist-packages/sklearn/cluster/_kmeans.py:870: FutureWarning: The default value of `n_init` will change from 10 to 'auto' in 1.4. Set the value of `n_init` explicitly to suppress the warning\n",
            "  warnings.warn(\n"
          ]
        },
        {
          "output_type": "stream",
          "name": "stdout",
          "text": [
            "                                          title  \\\n",
            "15     The Chronicles of Narnia: Prince Caspian   \n",
            "19    The Hobbit: The Battle of the Five Armies   \n",
            "36              Transformers: Age of Extinction   \n",
            "46                   X-Men: Days of Future Past   \n",
            "64                            X-Men: Apocalypse   \n",
            "...                                         ...   \n",
            "4662                           Western Religion   \n",
            "4663                                       Burn   \n",
            "4669                       A Fistful of Dollars   \n",
            "4697                              Another Earth   \n",
            "4754                              Bending Steel   \n",
            "\n",
            "                                               overview  \\\n",
            "15    One year after their incredible adventures in ...   \n",
            "19    Immediately after the events of The Desolation...   \n",
            "36    As humanity picks up the pieces, following the...   \n",
            "46    The ultimate X-Men ensemble fights a war for t...   \n",
            "64    After the re-emergence of the world's first mu...   \n",
            "...                                                 ...   \n",
            "4662  The year is 1879. Gunfighters from the far rea...   \n",
            "4663  A character-driven, action-packed documentary ...   \n",
            "4669  The Man With No Name enters the Mexican villag...   \n",
            "4697  On the night of the discovery of a duplicate E...   \n",
            "4754  The Cyclone, The Freakshow, The Mermaid Parade...   \n",
            "\n",
            "                                                 genres      proc_genres  \\\n",
            "15    [{\"id\": 12, \"name\": \"Adventure\"}, {\"id\": 10751...          Fantasy   \n",
            "19    [{\"id\": 28, \"name\": \"Action\"}, {\"id\": 12, \"nam...        Adventure   \n",
            "36    [{\"id\": 878, \"name\": \"Science Fiction\"}, {\"id\"...  Science Fiction   \n",
            "46    [{\"id\": 28, \"name\": \"Action\"}, {\"id\": 12, \"nam...          Fantasy   \n",
            "64             [{\"id\": 878, \"name\": \"Science Fiction\"}]  Science Fiction   \n",
            "...                                                 ...              ...   \n",
            "4662                    [{\"id\": 37, \"name\": \"Western\"}]          Western   \n",
            "4663  [{\"id\": 10769, \"name\": \"Foreign\"}, {\"id\": 99, ...      Documentary   \n",
            "4669                    [{\"id\": 37, \"name\": \"Western\"}]          Western   \n",
            "4697  [{\"id\": 18, \"name\": \"Drama\"}, {\"id\": 878, \"nam...            Drama   \n",
            "4754                [{\"id\": 99, \"name\": \"Documentary\"}]      Documentary   \n",
            "\n",
            "                                         one_hot_genres  \\\n",
            "15    [0.0, 0.0, 0.0, 0.0, 0.0, 0.0, 0.0, 0.0, 1.0, ...   \n",
            "19    [0.0, 1.0, 0.0, 0.0, 0.0, 0.0, 0.0, 0.0, 0.0, ...   \n",
            "36    [0.0, 0.0, 0.0, 0.0, 0.0, 0.0, 0.0, 0.0, 0.0, ...   \n",
            "46    [0.0, 0.0, 0.0, 0.0, 0.0, 0.0, 0.0, 0.0, 1.0, ...   \n",
            "64    [0.0, 0.0, 0.0, 0.0, 0.0, 0.0, 0.0, 0.0, 0.0, ...   \n",
            "...                                                 ...   \n",
            "4662  [0.0, 0.0, 0.0, 0.0, 0.0, 0.0, 0.0, 0.0, 0.0, ...   \n",
            "4663  [0.0, 0.0, 0.0, 0.0, 0.0, 1.0, 0.0, 0.0, 0.0, ...   \n",
            "4669  [0.0, 0.0, 0.0, 0.0, 0.0, 0.0, 0.0, 0.0, 0.0, ...   \n",
            "4697  [0.0, 0.0, 0.0, 0.0, 0.0, 0.0, 1.0, 0.0, 0.0, ...   \n",
            "4754  [0.0, 0.0, 0.0, 0.0, 0.0, 1.0, 0.0, 0.0, 0.0, ...   \n",
            "\n",
            "                                          proc_overview  overview_len  \\\n",
            "15    [one, year, after, their, incredible, adventur...            75   \n",
            "19    [immediately, after, the, events, of, the, des...            74   \n",
            "36    [as, humanity, picks, up, the, pieces, followi...            67   \n",
            "46    [the, ultimate, xmen, ensemble, fights, a, war...            38   \n",
            "64    [after, the, reemergence, of, the, worlds, fir...            20   \n",
            "...                                                 ...           ...   \n",
            "4662  [the, year, is, 1879, gunfighters, from, the, ...            43   \n",
            "4663  [a, characterdriven, actionpacked, documentary...            34   \n",
            "4669  [the, man, with, no, name, enters, the, mexica...            69   \n",
            "4697  [on, the, night, of, the, discovery, of, a, du...            28   \n",
            "4754  [the, cyclone, the, freakshow, the, mermaid, p...            73   \n",
            "\n",
            "                                       one_hot_overview  \\\n",
            "15    [0.0, 0.0, 0.0, 0.0, 0.0, 0.0, 0.0, 0.0, 0.0, ...   \n",
            "19    [0.0, 0.0, 0.0, 0.0, 0.0, 0.0, 0.0, 0.0, 0.0, ...   \n",
            "36    [0.0, 0.0, 0.0, 0.0, 0.0, 0.0, 0.0, 0.0, 0.0, ...   \n",
            "46    [0.0, 0.0, 0.0, 0.0, 0.0, 0.0, 0.0, 0.0, 0.0, ...   \n",
            "64    [0.0, 0.0, 0.0, 0.0, 0.0, 0.0, 0.0, 0.0, 0.0, ...   \n",
            "...                                                 ...   \n",
            "4662  [0.0, 0.0, 0.0, 0.0, 0.0, 0.0, 0.0, 0.0, 0.0, ...   \n",
            "4663  [0.0, 0.0, 0.0, 0.0, 0.0, 0.0, 0.0, 0.0, 0.0, ...   \n",
            "4669  [0.0, 0.0, 0.0, 0.0, 0.0, 0.0, 0.0, 0.0, 0.0, ...   \n",
            "4697  [0.0, 0.0, 0.0, 0.0, 0.0, 0.0, 0.0, 0.0, 0.0, ...   \n",
            "4754  [0.0, 0.0, 0.0, 0.0, 0.0, 0.0, 0.0, 0.0, 0.0, ...   \n",
            "\n",
            "                                           overview_pca  cluster_kmeans  \n",
            "15    [2.1225351172035625, -0.0761497746059405, -0.2...               0  \n",
            "19    [2.609476300922119, 0.43928294644661897, 0.227...               0  \n",
            "36    [2.713006866645746, 0.8491250587755932, 0.0411...               0  \n",
            "46    [1.8666549921967577, 1.2479219858377861, 0.290...               0  \n",
            "64    [2.3323140623092224, 0.3149463478586416, 1.025...               0  \n",
            "...                                                 ...             ...  \n",
            "4662  [2.4185365621707233, 0.5360739666360302, 0.408...               0  \n",
            "4663  [1.8646334009304588, 1.2915262819417161, 0.311...               0  \n",
            "4669  [2.3879256334902967, 0.5786518132610388, 0.147...               0  \n",
            "4697  [2.2023493323734753, 1.6360703565199852, -0.07...               0  \n",
            "4754  [2.1107669944947585, 0.13686035326203008, 0.54...               0  \n",
            "\n",
            "[164 rows x 10 columns]\n"
          ]
        },
        {
          "output_type": "stream",
          "name": "stderr",
          "text": [
            "<ipython-input-20-f20b608921eb>:11: SettingWithCopyWarning: \n",
            "A value is trying to be set on a copy of a slice from a DataFrame.\n",
            "Try using .loc[row_indexer,col_indexer] = value instead\n",
            "\n",
            "See the caveats in the documentation: https://pandas.pydata.org/pandas-docs/stable/user_guide/indexing.html#returning-a-view-versus-a-copy\n",
            "  df[\"cluster_kmeans\"] = y_preds # set predictions\n"
          ]
        }
      ],
      "source": [
        "# import KMeans class\n",
        "from sklearn.cluster import KMeans\n",
        "\n",
        "# Perform K-means clustering\n",
        "random_subset = np.random.choice(len(x_train), size=2000, replace=False)\n",
        "kmeans = KMeans(n_clusters=20)\n",
        "# fit model\n",
        "kmeans.fit(x_train[random_subset])\n",
        "\n",
        "y_preds = kmeans.predict(x_train) # get predictions\n",
        "df[\"cluster_kmeans\"] = y_preds # set predictions\n",
        "\n",
        "# print out elements of cluster 0\n",
        "print(df[df['cluster_kmeans'] == 0])"
      ]
    },
    {
      "cell_type": "markdown",
      "id": "34334c6c",
      "metadata": {
        "id": "34334c6c"
      },
      "source": [
        "**Q4.2** Does this clustering seem alright to you (based on your movie watching history)? Are there movies that go well together and movies that don't?"
      ]
    },
    {
      "cell_type": "markdown",
      "id": "9f1d40cc",
      "metadata": {
        "id": "9f1d40cc"
      },
      "source": [
        "For the most part the movies seemed to be the family friendly type of movies however there are exceptions such as 'The brain that wouldn't die' which is a horror movie and definitely not family friendly."
      ]
    },
    {
      "cell_type": "markdown",
      "id": "0407f9e4",
      "metadata": {
        "id": "0407f9e4"
      },
      "source": [
        "**Q4.3** Now, we'll figure out whether using the elbow method is right for this dataset. Plot a loss (using `kmeans.inertia_`) versus cluster size plot. Is there an elbow that you see clearly? What cluster size would you choose?"
      ]
    },
    {
      "cell_type": "markdown",
      "id": "4984dcd9",
      "metadata": {
        "id": "4984dcd9"
      },
      "source": [
        "There is no clear elbow here however, I would pick 15 clusters as, despite being very small, there's a slight  jump when going from the right hand side to the left hand side of the curve occurs from 15 to 14 clusters and I believe it strikes a decent balance between number of clusters and computational requirement vs WCSS"
      ]
    },
    {
      "cell_type": "code",
      "execution_count": 18,
      "id": "cb3a37ee",
      "metadata": {
        "colab": {
          "base_uri": "https://localhost:8080/",
          "height": 1000
        },
        "id": "cb3a37ee",
        "outputId": "72944008-8947-4dc5-d832-8e4b174209de"
      },
      "outputs": [
        {
          "output_type": "stream",
          "name": "stderr",
          "text": [
            "/usr/local/lib/python3.10/dist-packages/sklearn/cluster/_kmeans.py:870: FutureWarning: The default value of `n_init` will change from 10 to 'auto' in 1.4. Set the value of `n_init` explicitly to suppress the warning\n",
            "  warnings.warn(\n",
            "/usr/local/lib/python3.10/dist-packages/sklearn/cluster/_kmeans.py:870: FutureWarning: The default value of `n_init` will change from 10 to 'auto' in 1.4. Set the value of `n_init` explicitly to suppress the warning\n",
            "  warnings.warn(\n",
            "/usr/local/lib/python3.10/dist-packages/sklearn/cluster/_kmeans.py:870: FutureWarning: The default value of `n_init` will change from 10 to 'auto' in 1.4. Set the value of `n_init` explicitly to suppress the warning\n",
            "  warnings.warn(\n",
            "/usr/local/lib/python3.10/dist-packages/sklearn/cluster/_kmeans.py:870: FutureWarning: The default value of `n_init` will change from 10 to 'auto' in 1.4. Set the value of `n_init` explicitly to suppress the warning\n",
            "  warnings.warn(\n",
            "/usr/local/lib/python3.10/dist-packages/sklearn/cluster/_kmeans.py:870: FutureWarning: The default value of `n_init` will change from 10 to 'auto' in 1.4. Set the value of `n_init` explicitly to suppress the warning\n",
            "  warnings.warn(\n",
            "/usr/local/lib/python3.10/dist-packages/sklearn/cluster/_kmeans.py:870: FutureWarning: The default value of `n_init` will change from 10 to 'auto' in 1.4. Set the value of `n_init` explicitly to suppress the warning\n",
            "  warnings.warn(\n",
            "/usr/local/lib/python3.10/dist-packages/sklearn/cluster/_kmeans.py:870: FutureWarning: The default value of `n_init` will change from 10 to 'auto' in 1.4. Set the value of `n_init` explicitly to suppress the warning\n",
            "  warnings.warn(\n",
            "/usr/local/lib/python3.10/dist-packages/sklearn/cluster/_kmeans.py:870: FutureWarning: The default value of `n_init` will change from 10 to 'auto' in 1.4. Set the value of `n_init` explicitly to suppress the warning\n",
            "  warnings.warn(\n",
            "/usr/local/lib/python3.10/dist-packages/sklearn/cluster/_kmeans.py:870: FutureWarning: The default value of `n_init` will change from 10 to 'auto' in 1.4. Set the value of `n_init` explicitly to suppress the warning\n",
            "  warnings.warn(\n",
            "/usr/local/lib/python3.10/dist-packages/sklearn/cluster/_kmeans.py:870: FutureWarning: The default value of `n_init` will change from 10 to 'auto' in 1.4. Set the value of `n_init` explicitly to suppress the warning\n",
            "  warnings.warn(\n",
            "/usr/local/lib/python3.10/dist-packages/sklearn/cluster/_kmeans.py:870: FutureWarning: The default value of `n_init` will change from 10 to 'auto' in 1.4. Set the value of `n_init` explicitly to suppress the warning\n",
            "  warnings.warn(\n",
            "/usr/local/lib/python3.10/dist-packages/sklearn/cluster/_kmeans.py:870: FutureWarning: The default value of `n_init` will change from 10 to 'auto' in 1.4. Set the value of `n_init` explicitly to suppress the warning\n",
            "  warnings.warn(\n",
            "/usr/local/lib/python3.10/dist-packages/sklearn/cluster/_kmeans.py:870: FutureWarning: The default value of `n_init` will change from 10 to 'auto' in 1.4. Set the value of `n_init` explicitly to suppress the warning\n",
            "  warnings.warn(\n",
            "/usr/local/lib/python3.10/dist-packages/sklearn/cluster/_kmeans.py:870: FutureWarning: The default value of `n_init` will change from 10 to 'auto' in 1.4. Set the value of `n_init` explicitly to suppress the warning\n",
            "  warnings.warn(\n"
          ]
        },
        {
          "output_type": "error",
          "ename": "KeyboardInterrupt",
          "evalue": "",
          "traceback": [
            "\u001b[0;31m---------------------------------------------------------------------------\u001b[0m",
            "\u001b[0;31mKeyboardInterrupt\u001b[0m                         Traceback (most recent call last)",
            "\u001b[0;32m/usr/local/lib/python3.10/dist-packages/numpy/core/multiarray.py\u001b[0m in \u001b[0;36mwhere\u001b[0;34m(condition, x, y)\u001b[0m\n\u001b[1;32m    344\u001b[0m \u001b[0;34m\u001b[0m\u001b[0m\n\u001b[1;32m    345\u001b[0m \u001b[0;34m\u001b[0m\u001b[0m\n\u001b[0;32m--> 346\u001b[0;31m \u001b[0;34m@\u001b[0m\u001b[0marray_function_from_c_func_and_dispatcher\u001b[0m\u001b[0;34m(\u001b[0m\u001b[0m_multiarray_umath\u001b[0m\u001b[0;34m.\u001b[0m\u001b[0mwhere\u001b[0m\u001b[0;34m)\u001b[0m\u001b[0;34m\u001b[0m\u001b[0;34m\u001b[0m\u001b[0m\n\u001b[0m\u001b[1;32m    347\u001b[0m \u001b[0;32mdef\u001b[0m \u001b[0mwhere\u001b[0m\u001b[0;34m(\u001b[0m\u001b[0mcondition\u001b[0m\u001b[0;34m,\u001b[0m \u001b[0mx\u001b[0m\u001b[0;34m=\u001b[0m\u001b[0;32mNone\u001b[0m\u001b[0;34m,\u001b[0m \u001b[0my\u001b[0m\u001b[0;34m=\u001b[0m\u001b[0;32mNone\u001b[0m\u001b[0;34m)\u001b[0m\u001b[0;34m:\u001b[0m\u001b[0;34m\u001b[0m\u001b[0;34m\u001b[0m\u001b[0m\n\u001b[1;32m    348\u001b[0m     \"\"\"\n",
            "\u001b[0;31mKeyboardInterrupt\u001b[0m: "
          ]
        },
        {
          "output_type": "stream",
          "name": "stderr",
          "text": [
            "Exception ignored in: 'sklearn.cluster._k_means_common._relocate_empty_clusters_dense'\n",
            "Traceback (most recent call last):\n",
            "  File \"/usr/local/lib/python3.10/dist-packages/numpy/core/multiarray.py\", line 346, in where\n",
            "    @array_function_from_c_func_and_dispatcher(_multiarray_umath.where)\n",
            "KeyboardInterrupt: \n"
          ]
        },
        {
          "output_type": "error",
          "ename": "KeyboardInterrupt",
          "evalue": "",
          "traceback": [
            "\u001b[0;31m---------------------------------------------------------------------------\u001b[0m",
            "\u001b[0;31mKeyboardInterrupt\u001b[0m                         Traceback (most recent call last)",
            "\u001b[0;32m/usr/local/lib/python3.10/dist-packages/numpy/core/multiarray.py\u001b[0m in \u001b[0;36mwhere\u001b[0;34m(condition, x, y)\u001b[0m\n\u001b[1;32m    344\u001b[0m \u001b[0;34m\u001b[0m\u001b[0m\n\u001b[1;32m    345\u001b[0m \u001b[0;34m\u001b[0m\u001b[0m\n\u001b[0;32m--> 346\u001b[0;31m \u001b[0;34m@\u001b[0m\u001b[0marray_function_from_c_func_and_dispatcher\u001b[0m\u001b[0;34m(\u001b[0m\u001b[0m_multiarray_umath\u001b[0m\u001b[0;34m.\u001b[0m\u001b[0mwhere\u001b[0m\u001b[0;34m)\u001b[0m\u001b[0;34m\u001b[0m\u001b[0;34m\u001b[0m\u001b[0m\n\u001b[0m\u001b[1;32m    347\u001b[0m \u001b[0;32mdef\u001b[0m \u001b[0mwhere\u001b[0m\u001b[0;34m(\u001b[0m\u001b[0mcondition\u001b[0m\u001b[0;34m,\u001b[0m \u001b[0mx\u001b[0m\u001b[0;34m=\u001b[0m\u001b[0;32mNone\u001b[0m\u001b[0;34m,\u001b[0m \u001b[0my\u001b[0m\u001b[0;34m=\u001b[0m\u001b[0;32mNone\u001b[0m\u001b[0;34m)\u001b[0m\u001b[0;34m:\u001b[0m\u001b[0;34m\u001b[0m\u001b[0;34m\u001b[0m\u001b[0m\n\u001b[1;32m    348\u001b[0m     \"\"\"\n",
            "\u001b[0;31mKeyboardInterrupt\u001b[0m: "
          ]
        },
        {
          "output_type": "stream",
          "name": "stderr",
          "text": [
            "Exception ignored in: 'sklearn.cluster._k_means_common._relocate_empty_clusters_dense'\n",
            "Traceback (most recent call last):\n",
            "  File \"/usr/local/lib/python3.10/dist-packages/numpy/core/multiarray.py\", line 346, in where\n",
            "    @array_function_from_c_func_and_dispatcher(_multiarray_umath.where)\n",
            "KeyboardInterrupt: \n"
          ]
        },
        {
          "output_type": "error",
          "ename": "KeyboardInterrupt",
          "evalue": "",
          "traceback": [
            "\u001b[0;31m---------------------------------------------------------------------------\u001b[0m",
            "\u001b[0;31mKeyboardInterrupt\u001b[0m                         Traceback (most recent call last)",
            "\u001b[0;32m/usr/local/lib/python3.10/dist-packages/numpy/core/multiarray.py\u001b[0m in \u001b[0;36mwhere\u001b[0;34m(condition, x, y)\u001b[0m\n\u001b[1;32m    344\u001b[0m \u001b[0;34m\u001b[0m\u001b[0m\n\u001b[1;32m    345\u001b[0m \u001b[0;34m\u001b[0m\u001b[0m\n\u001b[0;32m--> 346\u001b[0;31m \u001b[0;34m@\u001b[0m\u001b[0marray_function_from_c_func_and_dispatcher\u001b[0m\u001b[0;34m(\u001b[0m\u001b[0m_multiarray_umath\u001b[0m\u001b[0;34m.\u001b[0m\u001b[0mwhere\u001b[0m\u001b[0;34m)\u001b[0m\u001b[0;34m\u001b[0m\u001b[0;34m\u001b[0m\u001b[0m\n\u001b[0m\u001b[1;32m    347\u001b[0m \u001b[0;32mdef\u001b[0m \u001b[0mwhere\u001b[0m\u001b[0;34m(\u001b[0m\u001b[0mcondition\u001b[0m\u001b[0;34m,\u001b[0m \u001b[0mx\u001b[0m\u001b[0;34m=\u001b[0m\u001b[0;32mNone\u001b[0m\u001b[0;34m,\u001b[0m \u001b[0my\u001b[0m\u001b[0;34m=\u001b[0m\u001b[0;32mNone\u001b[0m\u001b[0;34m)\u001b[0m\u001b[0;34m:\u001b[0m\u001b[0;34m\u001b[0m\u001b[0;34m\u001b[0m\u001b[0m\n\u001b[1;32m    348\u001b[0m     \"\"\"\n",
            "\u001b[0;31mKeyboardInterrupt\u001b[0m: "
          ]
        },
        {
          "output_type": "stream",
          "name": "stderr",
          "text": [
            "Exception ignored in: 'sklearn.cluster._k_means_common._relocate_empty_clusters_dense'\n",
            "Traceback (most recent call last):\n",
            "  File \"/usr/local/lib/python3.10/dist-packages/numpy/core/multiarray.py\", line 346, in where\n",
            "    @array_function_from_c_func_and_dispatcher(_multiarray_umath.where)\n",
            "KeyboardInterrupt: \n",
            "/usr/local/lib/python3.10/dist-packages/sklearn/cluster/_kmeans.py:870: FutureWarning: The default value of `n_init` will change from 10 to 'auto' in 1.4. Set the value of `n_init` explicitly to suppress the warning\n",
            "  warnings.warn(\n"
          ]
        },
        {
          "output_type": "error",
          "ename": "KeyboardInterrupt",
          "evalue": "",
          "traceback": [
            "\u001b[0;31m---------------------------------------------------------------------------\u001b[0m",
            "\u001b[0;31mKeyboardInterrupt\u001b[0m                         Traceback (most recent call last)",
            "\u001b[0;32m/usr/local/lib/python3.10/dist-packages/numpy/core/multiarray.py\u001b[0m in \u001b[0;36mwhere\u001b[0;34m(condition, x, y)\u001b[0m\n\u001b[1;32m    344\u001b[0m \u001b[0;34m\u001b[0m\u001b[0m\n\u001b[1;32m    345\u001b[0m \u001b[0;34m\u001b[0m\u001b[0m\n\u001b[0;32m--> 346\u001b[0;31m \u001b[0;34m@\u001b[0m\u001b[0marray_function_from_c_func_and_dispatcher\u001b[0m\u001b[0;34m(\u001b[0m\u001b[0m_multiarray_umath\u001b[0m\u001b[0;34m.\u001b[0m\u001b[0mwhere\u001b[0m\u001b[0;34m)\u001b[0m\u001b[0;34m\u001b[0m\u001b[0;34m\u001b[0m\u001b[0m\n\u001b[0m\u001b[1;32m    347\u001b[0m \u001b[0;32mdef\u001b[0m \u001b[0mwhere\u001b[0m\u001b[0;34m(\u001b[0m\u001b[0mcondition\u001b[0m\u001b[0;34m,\u001b[0m \u001b[0mx\u001b[0m\u001b[0;34m=\u001b[0m\u001b[0;32mNone\u001b[0m\u001b[0;34m,\u001b[0m \u001b[0my\u001b[0m\u001b[0;34m=\u001b[0m\u001b[0;32mNone\u001b[0m\u001b[0;34m)\u001b[0m\u001b[0;34m:\u001b[0m\u001b[0;34m\u001b[0m\u001b[0;34m\u001b[0m\u001b[0m\n\u001b[1;32m    348\u001b[0m     \"\"\"\n",
            "\u001b[0;31mKeyboardInterrupt\u001b[0m: "
          ]
        },
        {
          "output_type": "stream",
          "name": "stderr",
          "text": [
            "Exception ignored in: 'sklearn.cluster._k_means_common._relocate_empty_clusters_dense'\n",
            "Traceback (most recent call last):\n",
            "  File \"/usr/local/lib/python3.10/dist-packages/numpy/core/multiarray.py\", line 346, in where\n",
            "    @array_function_from_c_func_and_dispatcher(_multiarray_umath.where)\n",
            "KeyboardInterrupt: \n"
          ]
        },
        {
          "output_type": "error",
          "ename": "KeyboardInterrupt",
          "evalue": "",
          "traceback": [
            "\u001b[0;31m---------------------------------------------------------------------------\u001b[0m",
            "\u001b[0;31mKeyboardInterrupt\u001b[0m                         Traceback (most recent call last)",
            "\u001b[0;32m/usr/local/lib/python3.10/dist-packages/numpy/core/multiarray.py\u001b[0m in \u001b[0;36mwhere\u001b[0;34m(condition, x, y)\u001b[0m\n\u001b[1;32m    344\u001b[0m \u001b[0;34m\u001b[0m\u001b[0m\n\u001b[1;32m    345\u001b[0m \u001b[0;34m\u001b[0m\u001b[0m\n\u001b[0;32m--> 346\u001b[0;31m \u001b[0;34m@\u001b[0m\u001b[0marray_function_from_c_func_and_dispatcher\u001b[0m\u001b[0;34m(\u001b[0m\u001b[0m_multiarray_umath\u001b[0m\u001b[0;34m.\u001b[0m\u001b[0mwhere\u001b[0m\u001b[0;34m)\u001b[0m\u001b[0;34m\u001b[0m\u001b[0;34m\u001b[0m\u001b[0m\n\u001b[0m\u001b[1;32m    347\u001b[0m \u001b[0;32mdef\u001b[0m \u001b[0mwhere\u001b[0m\u001b[0;34m(\u001b[0m\u001b[0mcondition\u001b[0m\u001b[0;34m,\u001b[0m \u001b[0mx\u001b[0m\u001b[0;34m=\u001b[0m\u001b[0;32mNone\u001b[0m\u001b[0;34m,\u001b[0m \u001b[0my\u001b[0m\u001b[0;34m=\u001b[0m\u001b[0;32mNone\u001b[0m\u001b[0;34m)\u001b[0m\u001b[0;34m:\u001b[0m\u001b[0;34m\u001b[0m\u001b[0;34m\u001b[0m\u001b[0m\n\u001b[1;32m    348\u001b[0m     \"\"\"\n",
            "\u001b[0;31mKeyboardInterrupt\u001b[0m: "
          ]
        },
        {
          "output_type": "stream",
          "name": "stderr",
          "text": [
            "Exception ignored in: 'sklearn.cluster._k_means_common._relocate_empty_clusters_dense'\n",
            "Traceback (most recent call last):\n",
            "  File \"/usr/local/lib/python3.10/dist-packages/numpy/core/multiarray.py\", line 346, in where\n",
            "    @array_function_from_c_func_and_dispatcher(_multiarray_umath.where)\n",
            "KeyboardInterrupt: \n"
          ]
        },
        {
          "output_type": "error",
          "ename": "KeyboardInterrupt",
          "evalue": "",
          "traceback": [
            "\u001b[0;31m---------------------------------------------------------------------------\u001b[0m",
            "\u001b[0;31mKeyboardInterrupt\u001b[0m                         Traceback (most recent call last)",
            "\u001b[0;32m/usr/local/lib/python3.10/dist-packages/numpy/core/multiarray.py\u001b[0m in \u001b[0;36mwhere\u001b[0;34m(condition, x, y)\u001b[0m\n\u001b[1;32m    344\u001b[0m \u001b[0;34m\u001b[0m\u001b[0m\n\u001b[1;32m    345\u001b[0m \u001b[0;34m\u001b[0m\u001b[0m\n\u001b[0;32m--> 346\u001b[0;31m \u001b[0;34m@\u001b[0m\u001b[0marray_function_from_c_func_and_dispatcher\u001b[0m\u001b[0;34m(\u001b[0m\u001b[0m_multiarray_umath\u001b[0m\u001b[0;34m.\u001b[0m\u001b[0mwhere\u001b[0m\u001b[0;34m)\u001b[0m\u001b[0;34m\u001b[0m\u001b[0;34m\u001b[0m\u001b[0m\n\u001b[0m\u001b[1;32m    347\u001b[0m \u001b[0;32mdef\u001b[0m \u001b[0mwhere\u001b[0m\u001b[0;34m(\u001b[0m\u001b[0mcondition\u001b[0m\u001b[0;34m,\u001b[0m \u001b[0mx\u001b[0m\u001b[0;34m=\u001b[0m\u001b[0;32mNone\u001b[0m\u001b[0;34m,\u001b[0m \u001b[0my\u001b[0m\u001b[0;34m=\u001b[0m\u001b[0;32mNone\u001b[0m\u001b[0;34m)\u001b[0m\u001b[0;34m:\u001b[0m\u001b[0;34m\u001b[0m\u001b[0;34m\u001b[0m\u001b[0m\n\u001b[1;32m    348\u001b[0m     \"\"\"\n",
            "\u001b[0;31mKeyboardInterrupt\u001b[0m: "
          ]
        },
        {
          "output_type": "stream",
          "name": "stderr",
          "text": [
            "Exception ignored in: 'sklearn.cluster._k_means_common._relocate_empty_clusters_dense'\n",
            "Traceback (most recent call last):\n",
            "  File \"/usr/local/lib/python3.10/dist-packages/numpy/core/multiarray.py\", line 346, in where\n",
            "    @array_function_from_c_func_and_dispatcher(_multiarray_umath.where)\n",
            "KeyboardInterrupt: \n"
          ]
        },
        {
          "output_type": "error",
          "ename": "KeyboardInterrupt",
          "evalue": "",
          "traceback": [
            "\u001b[0;31m---------------------------------------------------------------------------\u001b[0m",
            "\u001b[0;31mKeyboardInterrupt\u001b[0m                         Traceback (most recent call last)",
            "\u001b[0;32m<ipython-input-18-e22251c7c7b5>\u001b[0m in \u001b[0;36m<cell line: 3>\u001b[0;34m()\u001b[0m\n\u001b[1;32m      4\u001b[0m     \u001b[0mkmeans\u001b[0m \u001b[0;34m=\u001b[0m \u001b[0mKMeans\u001b[0m\u001b[0;34m(\u001b[0m\u001b[0mn_clusters\u001b[0m\u001b[0;34m=\u001b[0m\u001b[0mk\u001b[0m\u001b[0;34m)\u001b[0m\u001b[0;34m\u001b[0m\u001b[0;34m\u001b[0m\u001b[0m\n\u001b[1;32m      5\u001b[0m     \u001b[0mx_subset\u001b[0m \u001b[0;34m=\u001b[0m \u001b[0mx_train\u001b[0m\u001b[0;34m[\u001b[0m\u001b[0mrandom_subset\u001b[0m\u001b[0;34m]\u001b[0m\u001b[0;34m\u001b[0m\u001b[0;34m\u001b[0m\u001b[0m\n\u001b[0;32m----> 6\u001b[0;31m     \u001b[0mkmeans\u001b[0m\u001b[0;34m.\u001b[0m\u001b[0mfit\u001b[0m\u001b[0;34m(\u001b[0m\u001b[0mx_subset\u001b[0m\u001b[0;34m)\u001b[0m\u001b[0;34m\u001b[0m\u001b[0;34m\u001b[0m\u001b[0m\n\u001b[0m\u001b[1;32m      7\u001b[0m     \u001b[0mwcss\u001b[0m\u001b[0;34m.\u001b[0m\u001b[0mappend\u001b[0m\u001b[0;34m(\u001b[0m\u001b[0mkmeans\u001b[0m\u001b[0;34m.\u001b[0m\u001b[0minertia_\u001b[0m\u001b[0;34m)\u001b[0m\u001b[0;34m\u001b[0m\u001b[0;34m\u001b[0m\u001b[0m\n\u001b[1;32m      8\u001b[0m \u001b[0;34m\u001b[0m\u001b[0m\n",
            "\u001b[0;32m/usr/local/lib/python3.10/dist-packages/sklearn/cluster/_kmeans.py\u001b[0m in \u001b[0;36mfit\u001b[0;34m(self, X, y, sample_weight)\u001b[0m\n\u001b[1;32m   1459\u001b[0m         \u001b[0;32mfor\u001b[0m \u001b[0mi\u001b[0m \u001b[0;32min\u001b[0m \u001b[0mrange\u001b[0m\u001b[0;34m(\u001b[0m\u001b[0mself\u001b[0m\u001b[0;34m.\u001b[0m\u001b[0m_n_init\u001b[0m\u001b[0;34m)\u001b[0m\u001b[0;34m:\u001b[0m\u001b[0;34m\u001b[0m\u001b[0;34m\u001b[0m\u001b[0m\n\u001b[1;32m   1460\u001b[0m             \u001b[0;31m# Initialize centers\u001b[0m\u001b[0;34m\u001b[0m\u001b[0;34m\u001b[0m\u001b[0m\n\u001b[0;32m-> 1461\u001b[0;31m             centers_init = self._init_centroids(\n\u001b[0m\u001b[1;32m   1462\u001b[0m                 \u001b[0mX\u001b[0m\u001b[0;34m,\u001b[0m \u001b[0mx_squared_norms\u001b[0m\u001b[0;34m=\u001b[0m\u001b[0mx_squared_norms\u001b[0m\u001b[0;34m,\u001b[0m \u001b[0minit\u001b[0m\u001b[0;34m=\u001b[0m\u001b[0minit\u001b[0m\u001b[0;34m,\u001b[0m \u001b[0mrandom_state\u001b[0m\u001b[0;34m=\u001b[0m\u001b[0mrandom_state\u001b[0m\u001b[0;34m\u001b[0m\u001b[0;34m\u001b[0m\u001b[0m\n\u001b[1;32m   1463\u001b[0m             )\n",
            "\u001b[0;32m/usr/local/lib/python3.10/dist-packages/sklearn/cluster/_kmeans.py\u001b[0m in \u001b[0;36m_init_centroids\u001b[0;34m(self, X, x_squared_norms, init, random_state, init_size, n_centroids)\u001b[0m\n\u001b[1;32m    987\u001b[0m \u001b[0;34m\u001b[0m\u001b[0m\n\u001b[1;32m    988\u001b[0m         \u001b[0;32mif\u001b[0m \u001b[0misinstance\u001b[0m\u001b[0;34m(\u001b[0m\u001b[0minit\u001b[0m\u001b[0;34m,\u001b[0m \u001b[0mstr\u001b[0m\u001b[0;34m)\u001b[0m \u001b[0;32mand\u001b[0m \u001b[0minit\u001b[0m \u001b[0;34m==\u001b[0m \u001b[0;34m\"k-means++\"\u001b[0m\u001b[0;34m:\u001b[0m\u001b[0;34m\u001b[0m\u001b[0;34m\u001b[0m\u001b[0m\n\u001b[0;32m--> 989\u001b[0;31m             centers, _ = _kmeans_plusplus(\n\u001b[0m\u001b[1;32m    990\u001b[0m                 \u001b[0mX\u001b[0m\u001b[0;34m,\u001b[0m\u001b[0;34m\u001b[0m\u001b[0;34m\u001b[0m\u001b[0m\n\u001b[1;32m    991\u001b[0m                 \u001b[0mn_clusters\u001b[0m\u001b[0;34m,\u001b[0m\u001b[0;34m\u001b[0m\u001b[0;34m\u001b[0m\u001b[0m\n",
            "\u001b[0;32m/usr/local/lib/python3.10/dist-packages/sklearn/cluster/_kmeans.py\u001b[0m in \u001b[0;36m_kmeans_plusplus\u001b[0;34m(X, n_clusters, x_squared_norms, random_state, n_local_trials)\u001b[0m\n\u001b[1;32m    232\u001b[0m \u001b[0;34m\u001b[0m\u001b[0m\n\u001b[1;32m    233\u001b[0m         \u001b[0;31m# Compute distances to center candidates\u001b[0m\u001b[0;34m\u001b[0m\u001b[0;34m\u001b[0m\u001b[0m\n\u001b[0;32m--> 234\u001b[0;31m         distance_to_candidates = _euclidean_distances(\n\u001b[0m\u001b[1;32m    235\u001b[0m             \u001b[0mX\u001b[0m\u001b[0;34m[\u001b[0m\u001b[0mcandidate_ids\u001b[0m\u001b[0;34m]\u001b[0m\u001b[0;34m,\u001b[0m \u001b[0mX\u001b[0m\u001b[0;34m,\u001b[0m \u001b[0mY_norm_squared\u001b[0m\u001b[0;34m=\u001b[0m\u001b[0mx_squared_norms\u001b[0m\u001b[0;34m,\u001b[0m \u001b[0msquared\u001b[0m\u001b[0;34m=\u001b[0m\u001b[0;32mTrue\u001b[0m\u001b[0;34m\u001b[0m\u001b[0;34m\u001b[0m\u001b[0m\n\u001b[1;32m    236\u001b[0m         )\n",
            "\u001b[0;32m/usr/local/lib/python3.10/dist-packages/sklearn/metrics/pairwise.py\u001b[0m in \u001b[0;36m_euclidean_distances\u001b[0;34m(X, Y, X_norm_squared, Y_norm_squared, squared)\u001b[0m\n\u001b[1;32m    367\u001b[0m     \u001b[0;32melse\u001b[0m\u001b[0;34m:\u001b[0m\u001b[0;34m\u001b[0m\u001b[0;34m\u001b[0m\u001b[0m\n\u001b[1;32m    368\u001b[0m         \u001b[0;31m# if dtype is already float64, no need to chunk and upcast\u001b[0m\u001b[0;34m\u001b[0m\u001b[0;34m\u001b[0m\u001b[0m\n\u001b[0;32m--> 369\u001b[0;31m         \u001b[0mdistances\u001b[0m \u001b[0;34m=\u001b[0m \u001b[0;34m-\u001b[0m\u001b[0;36m2\u001b[0m \u001b[0;34m*\u001b[0m \u001b[0msafe_sparse_dot\u001b[0m\u001b[0;34m(\u001b[0m\u001b[0mX\u001b[0m\u001b[0;34m,\u001b[0m \u001b[0mY\u001b[0m\u001b[0;34m.\u001b[0m\u001b[0mT\u001b[0m\u001b[0;34m,\u001b[0m \u001b[0mdense_output\u001b[0m\u001b[0;34m=\u001b[0m\u001b[0;32mTrue\u001b[0m\u001b[0;34m)\u001b[0m\u001b[0;34m\u001b[0m\u001b[0;34m\u001b[0m\u001b[0m\n\u001b[0m\u001b[1;32m    370\u001b[0m         \u001b[0mdistances\u001b[0m \u001b[0;34m+=\u001b[0m \u001b[0mXX\u001b[0m\u001b[0;34m\u001b[0m\u001b[0;34m\u001b[0m\u001b[0m\n\u001b[1;32m    371\u001b[0m         \u001b[0mdistances\u001b[0m \u001b[0;34m+=\u001b[0m \u001b[0mYY\u001b[0m\u001b[0;34m\u001b[0m\u001b[0;34m\u001b[0m\u001b[0m\n",
            "\u001b[0;32m/usr/local/lib/python3.10/dist-packages/sklearn/utils/extmath.py\u001b[0m in \u001b[0;36msafe_sparse_dot\u001b[0;34m(a, b, dense_output)\u001b[0m\n\u001b[1;32m    190\u001b[0m \u001b[0;34m\u001b[0m\u001b[0m\n\u001b[1;32m    191\u001b[0m     if (\n\u001b[0;32m--> 192\u001b[0;31m         \u001b[0msparse\u001b[0m\u001b[0;34m.\u001b[0m\u001b[0missparse\u001b[0m\u001b[0;34m(\u001b[0m\u001b[0ma\u001b[0m\u001b[0;34m)\u001b[0m\u001b[0;34m\u001b[0m\u001b[0;34m\u001b[0m\u001b[0m\n\u001b[0m\u001b[1;32m    193\u001b[0m         \u001b[0;32mand\u001b[0m \u001b[0msparse\u001b[0m\u001b[0;34m.\u001b[0m\u001b[0missparse\u001b[0m\u001b[0;34m(\u001b[0m\u001b[0mb\u001b[0m\u001b[0;34m)\u001b[0m\u001b[0;34m\u001b[0m\u001b[0;34m\u001b[0m\u001b[0m\n\u001b[1;32m    194\u001b[0m         \u001b[0;32mand\u001b[0m \u001b[0mdense_output\u001b[0m\u001b[0;34m\u001b[0m\u001b[0;34m\u001b[0m\u001b[0m\n",
            "\u001b[0;32m/usr/local/lib/python3.10/dist-packages/scipy/sparse/_base.py\u001b[0m in \u001b[0;36missparse\u001b[0;34m(x)\u001b[0m\n\u001b[1;32m   1459\u001b[0m \u001b[0;34m\u001b[0m\u001b[0m\n\u001b[1;32m   1460\u001b[0m \u001b[0;34m\u001b[0m\u001b[0m\n\u001b[0;32m-> 1461\u001b[0;31m \u001b[0;32mdef\u001b[0m \u001b[0missparse\u001b[0m\u001b[0;34m(\u001b[0m\u001b[0mx\u001b[0m\u001b[0;34m)\u001b[0m\u001b[0;34m:\u001b[0m\u001b[0;34m\u001b[0m\u001b[0;34m\u001b[0m\u001b[0m\n\u001b[0m\u001b[1;32m   1462\u001b[0m     \"\"\"Is `x` of a sparse array type?\n\u001b[1;32m   1463\u001b[0m \u001b[0;34m\u001b[0m\u001b[0m\n",
            "\u001b[0;31mKeyboardInterrupt\u001b[0m: "
          ]
        }
      ],
      "source": [
        "wcss = []\n",
        "k_values = range(1, 30)\n",
        "for k in k_values:\n",
        "    kmeans = KMeans(n_clusters=k)\n",
        "    x_subset = x_train[random_subset]\n",
        "    kmeans.fit(x_subset)\n",
        "    wcss.append(kmeans.inertia_)\n",
        "\n",
        "# Plot the elbow curve\n",
        "plt.plot(k_values, wcss, marker='o')\n",
        "plt.xlabel('Number of Clusters (K)')\n",
        "plt.ylabel('Within-Cluster Sum of Squares (WCSS)')\n",
        "plt.title('Elbow Method')\n",
        "plt.show()"
      ]
    },
    {
      "cell_type": "markdown",
      "id": "3e89e224",
      "metadata": {
        "id": "3e89e224"
      },
      "source": [
        "# Q5 Gaussian Mixture Models\n",
        "\n",
        "**Q5.1** As with the K-means above, cluster the movies based on the features that were extracted via PCA in a previous step. Set $K=20$. Add the predicted cluster into the dataframe as a new column called `cluster_gmm`. Print out the elements of a single cluster of your choice from the dataframe."
      ]
    },
    {
      "cell_type": "code",
      "execution_count": null,
      "id": "86735028",
      "metadata": {
        "id": "86735028"
      },
      "outputs": [],
      "source": [
        "# Your code answer here\n",
        "from sklearn.mixture import GaussianMixture\n",
        "random_subset = np.random.choice(len(x_train), size=2000, replace=False)\n",
        "x_subset = x_train[random_subset]\n",
        "gmm = GaussianMixture(20)\n",
        "gmm.fit(x_subset)\n",
        "y_preds_gmm = gmm.predict(x_train) # get predictions\n",
        "df[\"cluster_gmm\"] = y_preds_gmm\n",
        "print(df[df['cluster_gmm'] == 1])\n"
      ]
    },
    {
      "cell_type": "markdown",
      "id": "95ed02d9",
      "metadata": {
        "id": "95ed02d9"
      },
      "source": [
        "**Q4.2** Does this clustering seem alright to you (based on your movie watching history)? Are there movies that go well together and movies that don't? How does this compare to K-Means Clustering?"
      ]
    },
    {
      "cell_type": "markdown",
      "id": "c62e20dd",
      "metadata": {
        "id": "c62e20dd"
      },
      "source": [
        "Unable to answer as 4.1 keeps crashing due to lack of RAM"
      ]
    },
    {
      "cell_type": "markdown",
      "id": "3b0064a1",
      "metadata": {
        "id": "3b0064a1"
      },
      "source": [
        "**Q4.3** Let's check out the size of the clusters. Create a double bar plot (**as you did in the last assignment**) showing the different sizes of the clusters.\n",
        "\n",
        "*Hint: you may want to consider `df.value_counts()` if you're unfamiliar.*"
      ]
    },
    {
      "cell_type": "code",
      "execution_count": null,
      "id": "e775ad4f",
      "metadata": {
        "id": "e775ad4f"
      },
      "outputs": [],
      "source": [
        "# Create an array for the x-axis positions\n",
        "# Plotting the bars\n",
        "# Add labels, title, and legend\n",
        "\n",
        "kmeans_cluster_sizes = df['cluster_kmeans'].value_counts().sort_index()\n",
        "gmm_cluster_sizes = df['cluster_gmm'].value_counts().sort_index()\n",
        "\n",
        "n_clusters = len(set(kmeans_cluster_sizes.index) | set(gmm_cluster_sizes.index))\n",
        "fig, ax = plt.subplots()\n",
        "array = np.arange(n_clusters)\n",
        "bar1 = ax.bar(array - 0.35/2, kmeans_cluster_sizes, 0.35 label= 'Kmeans clusters') # fit times: don't forget labels\n",
        "bar2 = ax.bar(array + 0.35/2, gmm_cluster_sizes, 0.35, label='GMM clusters')\n",
        "# Add labels, title, and legend\n",
        "ax.set_xlabel(\"Cluster Number\")\n",
        "ax.set_ylabel(\"Cluster Size\")\n",
        "ax.set_title(\"Cluster Sizes for GMM vs Kmeans\")\n",
        "# set proper x ticks: I'll help you with this one\n",
        "ax.set_xticks(array + 0.35 / 2)\n",
        "ax.set_xticklabels(set(kmeans_cluster_sizes.index) | set(gmm_cluster_sizes.index))\n",
        "ax.legend()\n"
      ]
    },
    {
      "cell_type": "markdown",
      "id": "cfc124da",
      "metadata": {
        "id": "cfc124da"
      },
      "source": [
        "**Q4.4** Do you see a significant difference in the sizes of the clusters? Which is more uniform? Any thought on why?"
      ]
    },
    {
      "cell_type": "markdown",
      "id": "9f538519",
      "metadata": {
        "id": "9f538519"
      },
      "source": [
        "Unable to answer as 4.1 keeps crashing due to lack of RAM"
      ]
    },
    {
      "cell_type": "markdown",
      "id": "aa60615d",
      "metadata": {
        "id": "aa60615d"
      },
      "source": [
        "# Q6: A very simple recommender system\n",
        "\n",
        "One useful thing that clustering is often used for (though at a much greater complexity) is in **recommender systems**. These are systems with users and items (movies, files, documents, etc.), where new items are shown to the user based on what they've previously interacted with, and possibly also on the behaviour of other users.\n",
        "\n",
        "**Q6.1** Assume your dentist has just watched the movie Avatar and asks you for a recommendation. Lucky for you, you just finished this assignment. Using the cluster indices of the movie Avatar for both the K-means and GMM methods, print out suggestions for new movies."
      ]
    },
    {
      "cell_type": "code",
      "execution_count": 21,
      "id": "86a74f68",
      "metadata": {
        "colab": {
          "base_uri": "https://localhost:8080/"
        },
        "id": "86a74f68",
        "outputId": "69bd6ab4-7b0a-4b96-d630-7e70103c7a6a"
      },
      "outputs": [
        {
          "output_type": "stream",
          "name": "stdout",
          "text": [
            "0                                                  Avatar\n",
            "6                                                 Tangled\n",
            "53      Indiana Jones and the Kingdom of the Crystal S...\n",
            "61                                      Jupiter Ascending\n",
            "85                    Captain America: The Winter Soldier\n",
            "                              ...                        \n",
            "4728                                Indie Game: The Movie\n",
            "4743                                         Tiger Orange\n",
            "4755                                           The Signal\n",
            "4781                                      The Puffy Chair\n",
            "4799                                    My Date with Drew\n",
            "Name: title, Length: 300, dtype: object\n"
          ]
        }
      ],
      "source": [
        "prev_watch = \"Avatar\"\n",
        "\n",
        "Avatar_kmeans = df[df['title'] == 'Avatar']['cluster_kmeans'].iloc[0] # find what cluster index Avatar falls into for k-means\n",
        "Avatar_gmm = df[df['title'] == 'Avatar']['cluster_gmm'].iloc[0]# find what cluster index Avatar falls into for gmm\n",
        "#btw iloc is used above because i kept getting series errors without it so I believed for the code below it required a single value which I could only get using iloc\n",
        "# print out similar movies\n",
        "print(df[df['cluster_kmeans'] == Avatar_kmeans]['title'])\n",
        "print(df[df['cluster_gmm'] == Avatar_gmm]['title'])\n"
      ]
    },
    {
      "cell_type": "markdown",
      "id": "4ecec1ff",
      "metadata": {
        "id": "4ecec1ff"
      },
      "source": [
        "**Q6.2** Are any of the two recommender systems any good? Would you use them if your real dentist asks for a movie suggestion?"
      ]
    },
    {
      "cell_type": "markdown",
      "id": "aae96b8a",
      "metadata": {
        "id": "aae96b8a"
      },
      "source": [
        "Only able to get recommendations from K-means because again 4.1 didn't run (but the code I give above assumes it does). However, Kmeans performs fairly well it provides me with several family friendly movies like Captain America and Indiana Jones however I wouldn't use this because I'd have to consider why they liked Avatar first because they may like it for the Action more than the family friendly nature of it"
      ]
    },
    {
      "cell_type": "markdown",
      "id": "92b84753",
      "metadata": {
        "id": "92b84753"
      },
      "source": [
        "**Q6.3** How would you try making the recommender systems better?"
      ]
    },
    {
      "cell_type": "markdown",
      "id": "40d3f6dd",
      "metadata": {
        "id": "40d3f6dd"
      },
      "source": [
        "Also incorporate the one hot encoded genres into it to form clusters based on more than one dimension so you can better understand why the dentist liked Avatar and thus what else they'll like as well"
      ]
    },
    {
      "cell_type": "markdown",
      "id": "7df2d34a",
      "metadata": {
        "id": "7df2d34a"
      },
      "source": [
        "**Q6.4** Say your dentist likes the movies you suggested and has watched a few more since you met him last. How would you incorporate this fact (recommendation based on multiple movies) into your suggestions?"
      ]
    },
    {
      "cell_type": "markdown",
      "id": "b3549de4",
      "metadata": {
        "id": "b3549de4"
      },
      "source": [
        "Change the recommendations system to allow for clustering which takes combinations of movies together however this may take extremely long to run and might not even be feasible for such a large dataset so instead you could then run the clustering for each movie the dentist watched and get recommendations and then recommend the intersection of those individual recommendation sets."
      ]
    },
    {
      "cell_type": "markdown",
      "id": "f20b74ce",
      "metadata": {
        "id": "f20b74ce"
      },
      "source": [
        "**Q6.5** An alternative method for recommendations is to use your encoded movie-feature vectors (in this case your overview+PCA vector) in order to find out what movie may be most similar to the current one. In the case of K-Means and GMMs, \"similarity\" referred to Euclidean distance. However, in this exercise, we will use *cosine similarity*, which is another very common similarity measure, and is related to the angle between two vectors. It is defined as:\n",
        "\n",
        "$$sim(v_1, v_2)=\\frac{v_1\\cdot v_2}{||v_1||\\cdot||v_2||}$$\n",
        "\n",
        "Where $v_1$ and $v_2$ are vectors and the operator $||\\cdot||$ is the norm of the vector. The function ranges from $[-1,1]$ (where 1 means that the vectors point in the same direction).\n",
        "\n",
        "Define an appropriate function `cosine_sim`. Add a column called `cos_sim_to_avatar` in the df and print out the head of the df, sorted by the similarity. What movies would you recommend now? Is this better than the clustering methods?"
      ]
    },
    {
      "cell_type": "code",
      "execution_count": 25,
      "id": "cedf60f3",
      "metadata": {
        "colab": {
          "base_uri": "https://localhost:8080/",
          "height": 206
        },
        "id": "cedf60f3",
        "outputId": "4091d424-decb-4445-aa2c-975c27995d5f"
      },
      "outputs": [
        {
          "output_type": "execute_result",
          "data": {
            "text/plain": [
              "                   title  cos_sim_to_avatar\n",
              "0                 Avatar           1.000000\n",
              "3363             Warlock           0.530598\n",
              "3778              Zipper           0.475466\n",
              "1285  Nomad: The Warrior           0.469524\n",
              "415                Dredd           0.458567"
            ],
            "text/html": [
              "\n",
              "  <div id=\"df-f66bcd8f-cd67-4ac3-b8ed-121c85efdba7\" class=\"colab-df-container\">\n",
              "    <div>\n",
              "<style scoped>\n",
              "    .dataframe tbody tr th:only-of-type {\n",
              "        vertical-align: middle;\n",
              "    }\n",
              "\n",
              "    .dataframe tbody tr th {\n",
              "        vertical-align: top;\n",
              "    }\n",
              "\n",
              "    .dataframe thead th {\n",
              "        text-align: right;\n",
              "    }\n",
              "</style>\n",
              "<table border=\"1\" class=\"dataframe\">\n",
              "  <thead>\n",
              "    <tr style=\"text-align: right;\">\n",
              "      <th></th>\n",
              "      <th>title</th>\n",
              "      <th>cos_sim_to_avatar</th>\n",
              "    </tr>\n",
              "  </thead>\n",
              "  <tbody>\n",
              "    <tr>\n",
              "      <th>0</th>\n",
              "      <td>Avatar</td>\n",
              "      <td>1.000000</td>\n",
              "    </tr>\n",
              "    <tr>\n",
              "      <th>3363</th>\n",
              "      <td>Warlock</td>\n",
              "      <td>0.530598</td>\n",
              "    </tr>\n",
              "    <tr>\n",
              "      <th>3778</th>\n",
              "      <td>Zipper</td>\n",
              "      <td>0.475466</td>\n",
              "    </tr>\n",
              "    <tr>\n",
              "      <th>1285</th>\n",
              "      <td>Nomad: The Warrior</td>\n",
              "      <td>0.469524</td>\n",
              "    </tr>\n",
              "    <tr>\n",
              "      <th>415</th>\n",
              "      <td>Dredd</td>\n",
              "      <td>0.458567</td>\n",
              "    </tr>\n",
              "  </tbody>\n",
              "</table>\n",
              "</div>\n",
              "    <div class=\"colab-df-buttons\">\n",
              "\n",
              "  <div class=\"colab-df-container\">\n",
              "    <button class=\"colab-df-convert\" onclick=\"convertToInteractive('df-f66bcd8f-cd67-4ac3-b8ed-121c85efdba7')\"\n",
              "            title=\"Convert this dataframe to an interactive table.\"\n",
              "            style=\"display:none;\">\n",
              "\n",
              "  <svg xmlns=\"http://www.w3.org/2000/svg\" height=\"24px\" viewBox=\"0 -960 960 960\">\n",
              "    <path d=\"M120-120v-720h720v720H120Zm60-500h600v-160H180v160Zm220 220h160v-160H400v160Zm0 220h160v-160H400v160ZM180-400h160v-160H180v160Zm440 0h160v-160H620v160ZM180-180h160v-160H180v160Zm440 0h160v-160H620v160Z\"/>\n",
              "  </svg>\n",
              "    </button>\n",
              "\n",
              "  <style>\n",
              "    .colab-df-container {\n",
              "      display:flex;\n",
              "      gap: 12px;\n",
              "    }\n",
              "\n",
              "    .colab-df-convert {\n",
              "      background-color: #E8F0FE;\n",
              "      border: none;\n",
              "      border-radius: 50%;\n",
              "      cursor: pointer;\n",
              "      display: none;\n",
              "      fill: #1967D2;\n",
              "      height: 32px;\n",
              "      padding: 0 0 0 0;\n",
              "      width: 32px;\n",
              "    }\n",
              "\n",
              "    .colab-df-convert:hover {\n",
              "      background-color: #E2EBFA;\n",
              "      box-shadow: 0px 1px 2px rgba(60, 64, 67, 0.3), 0px 1px 3px 1px rgba(60, 64, 67, 0.15);\n",
              "      fill: #174EA6;\n",
              "    }\n",
              "\n",
              "    .colab-df-buttons div {\n",
              "      margin-bottom: 4px;\n",
              "    }\n",
              "\n",
              "    [theme=dark] .colab-df-convert {\n",
              "      background-color: #3B4455;\n",
              "      fill: #D2E3FC;\n",
              "    }\n",
              "\n",
              "    [theme=dark] .colab-df-convert:hover {\n",
              "      background-color: #434B5C;\n",
              "      box-shadow: 0px 1px 3px 1px rgba(0, 0, 0, 0.15);\n",
              "      filter: drop-shadow(0px 1px 2px rgba(0, 0, 0, 0.3));\n",
              "      fill: #FFFFFF;\n",
              "    }\n",
              "  </style>\n",
              "\n",
              "    <script>\n",
              "      const buttonEl =\n",
              "        document.querySelector('#df-f66bcd8f-cd67-4ac3-b8ed-121c85efdba7 button.colab-df-convert');\n",
              "      buttonEl.style.display =\n",
              "        google.colab.kernel.accessAllowed ? 'block' : 'none';\n",
              "\n",
              "      async function convertToInteractive(key) {\n",
              "        const element = document.querySelector('#df-f66bcd8f-cd67-4ac3-b8ed-121c85efdba7');\n",
              "        const dataTable =\n",
              "          await google.colab.kernel.invokeFunction('convertToInteractive',\n",
              "                                                    [key], {});\n",
              "        if (!dataTable) return;\n",
              "\n",
              "        const docLinkHtml = 'Like what you see? Visit the ' +\n",
              "          '<a target=\"_blank\" href=https://colab.research.google.com/notebooks/data_table.ipynb>data table notebook</a>'\n",
              "          + ' to learn more about interactive tables.';\n",
              "        element.innerHTML = '';\n",
              "        dataTable['output_type'] = 'display_data';\n",
              "        await google.colab.output.renderOutput(dataTable, element);\n",
              "        const docLink = document.createElement('div');\n",
              "        docLink.innerHTML = docLinkHtml;\n",
              "        element.appendChild(docLink);\n",
              "      }\n",
              "    </script>\n",
              "  </div>\n",
              "\n",
              "\n",
              "<div id=\"df-4c93c5eb-aa85-418b-b08f-f638232137e6\">\n",
              "  <button class=\"colab-df-quickchart\" onclick=\"quickchart('df-4c93c5eb-aa85-418b-b08f-f638232137e6')\"\n",
              "            title=\"Suggest charts\"\n",
              "            style=\"display:none;\">\n",
              "\n",
              "<svg xmlns=\"http://www.w3.org/2000/svg\" height=\"24px\"viewBox=\"0 0 24 24\"\n",
              "     width=\"24px\">\n",
              "    <g>\n",
              "        <path d=\"M19 3H5c-1.1 0-2 .9-2 2v14c0 1.1.9 2 2 2h14c1.1 0 2-.9 2-2V5c0-1.1-.9-2-2-2zM9 17H7v-7h2v7zm4 0h-2V7h2v10zm4 0h-2v-4h2v4z\"/>\n",
              "    </g>\n",
              "</svg>\n",
              "  </button>\n",
              "\n",
              "<style>\n",
              "  .colab-df-quickchart {\n",
              "      --bg-color: #E8F0FE;\n",
              "      --fill-color: #1967D2;\n",
              "      --hover-bg-color: #E2EBFA;\n",
              "      --hover-fill-color: #174EA6;\n",
              "      --disabled-fill-color: #AAA;\n",
              "      --disabled-bg-color: #DDD;\n",
              "  }\n",
              "\n",
              "  [theme=dark] .colab-df-quickchart {\n",
              "      --bg-color: #3B4455;\n",
              "      --fill-color: #D2E3FC;\n",
              "      --hover-bg-color: #434B5C;\n",
              "      --hover-fill-color: #FFFFFF;\n",
              "      --disabled-bg-color: #3B4455;\n",
              "      --disabled-fill-color: #666;\n",
              "  }\n",
              "\n",
              "  .colab-df-quickchart {\n",
              "    background-color: var(--bg-color);\n",
              "    border: none;\n",
              "    border-radius: 50%;\n",
              "    cursor: pointer;\n",
              "    display: none;\n",
              "    fill: var(--fill-color);\n",
              "    height: 32px;\n",
              "    padding: 0;\n",
              "    width: 32px;\n",
              "  }\n",
              "\n",
              "  .colab-df-quickchart:hover {\n",
              "    background-color: var(--hover-bg-color);\n",
              "    box-shadow: 0 1px 2px rgba(60, 64, 67, 0.3), 0 1px 3px 1px rgba(60, 64, 67, 0.15);\n",
              "    fill: var(--button-hover-fill-color);\n",
              "  }\n",
              "\n",
              "  .colab-df-quickchart-complete:disabled,\n",
              "  .colab-df-quickchart-complete:disabled:hover {\n",
              "    background-color: var(--disabled-bg-color);\n",
              "    fill: var(--disabled-fill-color);\n",
              "    box-shadow: none;\n",
              "  }\n",
              "\n",
              "  .colab-df-spinner {\n",
              "    border: 2px solid var(--fill-color);\n",
              "    border-color: transparent;\n",
              "    border-bottom-color: var(--fill-color);\n",
              "    animation:\n",
              "      spin 1s steps(1) infinite;\n",
              "  }\n",
              "\n",
              "  @keyframes spin {\n",
              "    0% {\n",
              "      border-color: transparent;\n",
              "      border-bottom-color: var(--fill-color);\n",
              "      border-left-color: var(--fill-color);\n",
              "    }\n",
              "    20% {\n",
              "      border-color: transparent;\n",
              "      border-left-color: var(--fill-color);\n",
              "      border-top-color: var(--fill-color);\n",
              "    }\n",
              "    30% {\n",
              "      border-color: transparent;\n",
              "      border-left-color: var(--fill-color);\n",
              "      border-top-color: var(--fill-color);\n",
              "      border-right-color: var(--fill-color);\n",
              "    }\n",
              "    40% {\n",
              "      border-color: transparent;\n",
              "      border-right-color: var(--fill-color);\n",
              "      border-top-color: var(--fill-color);\n",
              "    }\n",
              "    60% {\n",
              "      border-color: transparent;\n",
              "      border-right-color: var(--fill-color);\n",
              "    }\n",
              "    80% {\n",
              "      border-color: transparent;\n",
              "      border-right-color: var(--fill-color);\n",
              "      border-bottom-color: var(--fill-color);\n",
              "    }\n",
              "    90% {\n",
              "      border-color: transparent;\n",
              "      border-bottom-color: var(--fill-color);\n",
              "    }\n",
              "  }\n",
              "</style>\n",
              "\n",
              "  <script>\n",
              "    async function quickchart(key) {\n",
              "      const quickchartButtonEl =\n",
              "        document.querySelector('#' + key + ' button');\n",
              "      quickchartButtonEl.disabled = true;  // To prevent multiple clicks.\n",
              "      quickchartButtonEl.classList.add('colab-df-spinner');\n",
              "      try {\n",
              "        const charts = await google.colab.kernel.invokeFunction(\n",
              "            'suggestCharts', [key], {});\n",
              "      } catch (error) {\n",
              "        console.error('Error during call to suggestCharts:', error);\n",
              "      }\n",
              "      quickchartButtonEl.classList.remove('colab-df-spinner');\n",
              "      quickchartButtonEl.classList.add('colab-df-quickchart-complete');\n",
              "    }\n",
              "    (() => {\n",
              "      let quickchartButtonEl =\n",
              "        document.querySelector('#df-4c93c5eb-aa85-418b-b08f-f638232137e6 button');\n",
              "      quickchartButtonEl.style.display =\n",
              "        google.colab.kernel.accessAllowed ? 'block' : 'none';\n",
              "    })();\n",
              "  </script>\n",
              "</div>\n",
              "    </div>\n",
              "  </div>\n"
            ],
            "application/vnd.google.colaboratory.intrinsic+json": {
              "type": "dataframe",
              "summary": "{\n  \"name\": \"df[['title', 'cos_sim_to_avatar']]\",\n  \"rows\": 5,\n  \"fields\": [\n    {\n      \"column\": \"title\",\n      \"properties\": {\n        \"dtype\": \"string\",\n        \"num_unique_values\": 5,\n        \"samples\": [\n          \"Warlock\",\n          \"Dredd\",\n          \"Zipper\"\n        ],\n        \"semantic_type\": \"\",\n        \"description\": \"\"\n      }\n    },\n    {\n      \"column\": \"cos_sim_to_avatar\",\n      \"properties\": {\n        \"dtype\": \"number\",\n        \"std\": 0.2326400366492479,\n        \"min\": 0.4585668742213185,\n        \"max\": 1.0000000000000002,\n        \"num_unique_values\": 5,\n        \"samples\": [\n          0.5305982470720714,\n          0.4585668742213185,\n          0.4754657754648755\n        ],\n        \"semantic_type\": \"\",\n        \"description\": \"\"\n      }\n    }\n  ]\n}"
            }
          },
          "metadata": {},
          "execution_count": 25
        }
      ],
      "source": [
        "from numpy.linalg import norm\n",
        "# we get norm here to easily get the norm of the vector in the cosine similarity formula\n",
        "def cosine_sim(v1, v2):\n",
        "    cos_similarity = np.dot(v1, v2) / (norm(v1) * norm(v2))\n",
        "    return cos_similarity\n",
        "\n",
        "# get overview_pca encoding of previously watched film\n",
        "prev_watch_enc = df[df['title'] == 'Avatar']['overview_pca'].iloc[0]\n",
        "\n",
        "sims = [] # set up place to store similarities\n",
        "for i, row in df.iterrows():\n",
        "    cos_similarity = cosine_sim(prev_watch_enc, row['overview_pca'])\n",
        "    sims.append(cos_similarity)\n",
        "\n",
        "df[\"cos_sim_to_avatar\"] = sims\n",
        "df = df.sort_values('cos_sim_to_avatar', ascending=False) # sort df. Here we sort by most similar first (intuitively) so in descending order of the similarity values in sims\n",
        "df[['title', 'cos_sim_to_avatar']].head() # print to verify"
      ]
    },
    {
      "cell_type": "markdown",
      "id": "40391e82",
      "metadata": {
        "id": "40391e82"
      },
      "source": [
        "*Your text answer here*"
      ]
    },
    {
      "cell_type": "markdown",
      "id": "a7b1e343",
      "metadata": {
        "id": "a7b1e343"
      },
      "source": [
        "# Q7 Unsupervised Learning as a Tool\n",
        "\n",
        "At the end of this brief forey into natural language processing, we will end with an interesting task: can a machine predict the genre of a movie based purely on the first 10 words of its overview?\n",
        "\n",
        "First, the following cell shuffles the dataset and splits it into a training and test set. The random seed and random state ensure that the train and test samples are the same for you all the time, and *probably* your classmates too. You can verify this by printing out the dataframes and checking it for yourself."
      ]
    },
    {
      "cell_type": "code",
      "execution_count": 26,
      "id": "f5b1bde1",
      "metadata": {
        "colab": {
          "base_uri": "https://localhost:8080/"
        },
        "id": "f5b1bde1",
        "outputId": "fcb50499-025b-4297-a1e2-f6a43f30395e"
      },
      "outputs": [
        {
          "output_type": "stream",
          "name": "stdout",
          "text": [
            "3765 942\n"
          ]
        }
      ],
      "source": [
        "np.random.seed(0)\n",
        "n_train = int(0.8*len(df))\n",
        "df_shuffle = df.sample(frac=1, random_state=42).reset_index(drop=True)\n",
        "df_train = df_shuffle[:n_train].reset_index(drop=True)\n",
        "df_test = df_shuffle[n_train:].reset_index(drop=True)\n",
        "print(len(df_train), len(df_test))"
      ]
    },
    {
      "cell_type": "markdown",
      "id": "92f9d534",
      "metadata": {
        "id": "92f9d534"
      },
      "source": [
        "## Train, test, evaluate\n",
        "\n",
        "Using a supervised learning method of your choice, try predicting the genre of a movie from the overview. The way you preprocess your data is up to you, and you can take inspiration from the above exercises (e.g. PCA on the one-hot encodings as input, one-hot label encodings as output). There are a number of hyperparameters you can choose depending on your selected method (number of words in your overview, number of dimensions, number of clusters, hyperparameters of your supervised model...), thus, make sure to perform hyperparameter optimization in some way (grid-search, fine-tuning, etc). Once you are happy with how your model is performing, **print out the train_score (accuracy$\\in[0,1]$), test_score (accuracy$\\in[0,1]$), mean training time (in seconds), and mean inference time (in seconds) of your model**.\n",
        "\n",
        "If you are already excited about neural networks, you may also choose to use that as your supervised method. The easiest way to do it is with sklearn's `MLPClassifier` module. The main hyperparameter you would need to tune is the architecture of your model -- how many hidden layers, and how large is each one. For this task, in order to get best performance, you do not necessarily need an MLP (multi-layer perceptron) but feel free to experiment.\n",
        "\n",
        "*Hint: the `train_and_eval` function from the last assignment should be of great help here*"
      ]
    },
    {
      "cell_type": "code",
      "execution_count": 29,
      "id": "e9ac379d",
      "metadata": {
        "colab": {
          "base_uri": "https://localhost:8080/"
        },
        "id": "e9ac379d",
        "outputId": "75b360f5-c987-4ee7-94d0-3b807415465c"
      },
      "outputs": [
        {
          "output_type": "stream",
          "name": "stdout",
          "text": [
            "Accuracy: 0.0807\n"
          ]
        }
      ],
      "source": [
        "from sklearn.model_selection import train_test_split\n",
        "from sklearn.feature_extraction.text import CountVectorizer\n",
        "from sklearn.linear_model import LogisticRegression\n",
        "from sklearn.metrics import accuracy_score\n",
        "\n",
        "#We only care about the first 10 words as inputs to our model so I create text based on that first\n",
        "df['overview_shortened'] = df['overview'].apply(lambda x: ' '.join(x.split()[:10]))\n",
        "\n",
        "X_train, X_test, y_train, y_test = train_test_split(df['overview_shortened'], df['genres'], test_size=0.2, random_state=42)\n",
        "\n",
        "# Use of a quick text based package from sklearn to quickly create vectors for the text inputs so the model can actually take it as input\n",
        "vectorizer = CountVectorizer()\n",
        "X_train_vectorized = vectorizer.fit_transform(X_train)\n",
        "X_test_vectorized = vectorizer.transform(X_test)\n",
        "\n",
        "log_reg = LogisticRegression(max_iter=1000)\n",
        "log_reg.fit(X_train_vectorized, y_train)\n",
        "\n",
        "y_pred = log_reg.predict(X_test_vectorized)\n",
        "\n",
        "accuracy = accuracy_score(y_test, y_pred)\n",
        "print(f'Accuracy: {accuracy:.4f}')"
      ]
    },
    {
      "cell_type": "markdown",
      "id": "5976997e",
      "metadata": {
        "id": "5976997e"
      },
      "source": [
        "Write a paragraph of ~150 words about how you went about selecting and tuning your model, and how you may want to make improvements to your model if you were to continue working on this. Plots are very good but not strictly necessary (i.e. try to add plots if you can)."
      ]
    },
    {
      "cell_type": "markdown",
      "id": "54186a60",
      "metadata": {
        "id": "54186a60"
      },
      "source": [
        "I chose a logistic regression as the dataframe itself is very long so for text based data it would be even larger and logistic regression typically computes relatively quickly. I only had one hyperparamter here which is the number of iterations I allow to converge to finding a minimum for the cost function being considered. I chose 1000 here because the text based data is extremely complex so it could take a large number of iterations to find a minimal value for the cost function. The model performed very poorly with an 8% accuracy so I would probably try a Naive Bayes model and make use of the post PCA overview principal components as those are orthogonal which works nicely with Naive Bayes' assumption of feature independence and Naive Bayes performs quite well on text data."
      ]
    },
    {
      "cell_type": "markdown",
      "id": "14b50007",
      "metadata": {
        "id": "14b50007"
      },
      "source": [
        "# BONUS\n",
        "\n",
        "If you are happy with your score and wish to see how well it is doing with respect to other people (a sort of mini-competition), fill out the following form with the train_score (accuracy$\\in[0,1]$), test_score (accuracy$\\in[0,1]$), mean training time (in seconds), and mean inference time (in seconds) of your model, as well as what method you use. You can submit as many times before the deadline as you wish. Your final results will be correlated with your submission in order to validate your results (if we cannot validate them, they will be immediately disqualified).\n",
        "\n",
        "[FORM HERE](https://forms.gle/rXRtXScABH5oDLRWA)"
      ]
    }
  ],
  "metadata": {
    "kernelspec": {
      "display_name": "Python 3 (ipykernel)",
      "language": "python",
      "name": "python3"
    },
    "language_info": {
      "codemirror_mode": {
        "name": "ipython",
        "version": 3
      },
      "file_extension": ".py",
      "mimetype": "text/x-python",
      "name": "python",
      "nbconvert_exporter": "python",
      "pygments_lexer": "ipython3",
      "version": "3.10.7"
    },
    "colab": {
      "provenance": [],
      "include_colab_link": true
    }
  },
  "nbformat": 4,
  "nbformat_minor": 5
}